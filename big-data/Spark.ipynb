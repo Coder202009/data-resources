{
 "cells": [
  {
   "cell_type": "markdown",
   "metadata": {},
   "source": [
    "## Imports"
   ]
  },
  {
   "cell_type": "code",
   "execution_count": 1,
   "metadata": {},
   "outputs": [],
   "source": [
    "import pyspark  # Spark\n",
    "from pyspark.ml.feature import VectorAssembler  # Combine features\n",
    "from pyspark.ml.classification import DecisionTreeClassifier  # Classify"
   ]
  },
  {
   "cell_type": "markdown",
   "metadata": {},
   "source": [
    "## Data sourcing"
   ]
  },
  {
   "cell_type": "code",
   "execution_count": 2,
   "metadata": {},
   "outputs": [],
   "source": [
    "# Create/Open a session\n",
    "\n",
    "spark = pyspark.sql.SparkSession.builder.master('local[*]').appName('customer_churn').getOrCreate()"
   ]
  },
  {
   "cell_type": "code",
   "execution_count": 3,
   "metadata": {},
   "outputs": [],
   "source": [
    "# Load in the data\n",
    "\n",
    "df = spark.read.csv('agency_churn.csv', \n",
    "                     header = True, inferSchema = True)"
   ]
  },
  {
   "cell_type": "code",
   "execution_count": 4,
   "metadata": {},
   "outputs": [
    {
     "data": {
      "text/plain": [
       "pyspark.sql.dataframe.DataFrame"
      ]
     },
     "execution_count": 4,
     "metadata": {},
     "output_type": "execute_result"
    }
   ],
   "source": [
    "# Check the type\n",
    "\n",
    "type(df)"
   ]
  },
  {
   "cell_type": "markdown",
   "metadata": {},
   "source": [
    "## Exploration"
   ]
  },
  {
   "cell_type": "code",
   "execution_count": 5,
   "metadata": {},
   "outputs": [
    {
     "data": {
      "text/plain": [
       "(900, 9)"
      ]
     },
     "execution_count": 5,
     "metadata": {},
     "output_type": "execute_result"
    }
   ],
   "source": [
    "# Number of rows & columns\n",
    "\n",
    "df.count(), len(df.columns)"
   ]
  },
  {
   "cell_type": "code",
   "execution_count": 6,
   "metadata": {},
   "outputs": [
    {
     "data": {
      "text/plain": [
       "[('Names', 'string'),\n",
       " ('Age', 'int'),\n",
       " ('Total_Purchase', 'double'),\n",
       " ('Account_Manager', 'int'),\n",
       " ('Years', 'double'),\n",
       " ('Onboard_date', 'string'),\n",
       " ('Location', 'string'),\n",
       " ('Company', 'string'),\n",
       " ('Churn', 'int')]"
      ]
     },
     "execution_count": 6,
     "metadata": {},
     "output_type": "execute_result"
    }
   ],
   "source": [
    "# Dtypes\n",
    "\n",
    "df.dtypes"
   ]
  },
  {
   "cell_type": "code",
   "execution_count": 7,
   "metadata": {},
   "outputs": [
    {
     "name": "stdout",
     "output_type": "stream",
     "text": [
      "+----------------+---+--------------+---------------+-----+------------------+--------------------+--------------------+-----+\n",
      "|           Names|Age|Total_Purchase|Account_Manager|Years|      Onboard_date|            Location|             Company|Churn|\n",
      "+----------------+---+--------------+---------------+-----+------------------+--------------------+--------------------+-----+\n",
      "|Cameron Williams| 42|       11066.8|              0| 7.22|2013-08-30 7:00:40|10265 Elizabeth M...|          Harvey LLC|    1|\n",
      "|   Kevin Mueller| 41|      11916.22|              0|  6.5|2013-08-13 0:38:46|6157 Frank Garden...|          Wilson PLC|    1|\n",
      "|     Eric Lozano| 38|      12884.75|              0| 6.67|2016-06-29 6:20:07|1331 Keith Court ...|Miller, Johnson a...|    1|\n",
      "+----------------+---+--------------+---------------+-----+------------------+--------------------+--------------------+-----+\n",
      "only showing top 3 rows\n",
      "\n"
     ]
    }
   ],
   "source": [
    "# View the data\n",
    "\n",
    "df.show(3)"
   ]
  },
  {
   "cell_type": "code",
   "execution_count": 8,
   "metadata": {},
   "outputs": [
    {
     "name": "stdout",
     "output_type": "stream",
     "text": [
      "+----------------+---+-----+\n",
      "|           Names|Age|Years|\n",
      "+----------------+---+-----+\n",
      "|Cameron Williams| 42| 7.22|\n",
      "|   Kevin Mueller| 41|  6.5|\n",
      "|     Eric Lozano| 38| 6.67|\n",
      "|   Phillip White| 42| 6.71|\n",
      "|  Cynthia Norton| 37| 5.56|\n",
      "+----------------+---+-----+\n",
      "only showing top 5 rows\n",
      "\n"
     ]
    }
   ],
   "source": [
    "# Select  subset of columns\n",
    "\n",
    "df.select(\"Names\", \"Age\", \"Years\").show(5)"
   ]
  },
  {
   "cell_type": "code",
   "execution_count": 9,
   "metadata": {},
   "outputs": [
    {
     "name": "stdout",
     "output_type": "stream",
     "text": [
      "+-------+-------------+-----------------+-----------------+\n",
      "|summary|        Names|              Age|            Years|\n",
      "+-------+-------------+-----------------+-----------------+\n",
      "|  count|          900|              898|              900|\n",
      "|   mean|         null|41.81069042316258| 5.27315555555555|\n",
      "| stddev|         null| 6.13303075073418|1.274449013194616|\n",
      "|    min|   Aaron King|               22|              1.0|\n",
      "|    max|Zachary Walsh|               65|             9.15|\n",
      "+-------+-------------+-----------------+-----------------+\n",
      "\n"
     ]
    }
   ],
   "source": [
    "# Summary stats\n",
    "\n",
    "df.select(\"Names\", \"Age\", \"Years\").describe().show()"
   ]
  },
  {
   "cell_type": "code",
   "execution_count": 10,
   "metadata": {},
   "outputs": [
    {
     "name": "stdout",
     "output_type": "stream",
     "text": [
      "+-----+\n",
      "|Churn|\n",
      "+-----+\n",
      "|    1|\n",
      "|    0|\n",
      "+-----+\n",
      "\n"
     ]
    }
   ],
   "source": [
    "# Unique values in a column\n",
    "\n",
    "df.select('Churn').distinct().show()"
   ]
  },
  {
   "cell_type": "code",
   "execution_count": 11,
   "metadata": {},
   "outputs": [
    {
     "name": "stdout",
     "output_type": "stream",
     "text": [
      "+---------------+------------------+\n",
      "|Account_Manager|          avg(Age)|\n",
      "+---------------+------------------+\n",
      "|           null|              30.0|\n",
      "|              1| 41.73720930232558|\n",
      "|              0|41.903640256959314|\n",
      "+---------------+------------------+\n",
      "\n"
     ]
    }
   ],
   "source": [
    "# Group by\n",
    "\n",
    "df.groupBy('Account_Manager').mean().select(\"Account_Manager\", \"avg(Age)\").show()"
   ]
  },
  {
   "cell_type": "markdown",
   "metadata": {},
   "source": [
    "## It's secretly all SQL"
   ]
  },
  {
   "cell_type": "code",
   "execution_count": 12,
   "metadata": {},
   "outputs": [
    {
     "name": "stdout",
     "output_type": "stream",
     "text": [
      "+----------------+---+--------------+\n",
      "|           Names|Age|Total_Purchase|\n",
      "+----------------+---+--------------+\n",
      "|Cameron Williams| 42|       11066.8|\n",
      "|   Kevin Mueller| 41|      11916.22|\n",
      "|     Eric Lozano| 38|      12884.75|\n",
      "|   Phillip White| 42|       8010.76|\n",
      "+----------------+---+--------------+\n",
      "\n"
     ]
    }
   ],
   "source": [
    "# Register the whole table (irritating temporary step)\n",
    "\n",
    "df.createOrReplaceTempView(\"churn_table\")\n",
    "\n",
    "# Query it with SQL\n",
    "\n",
    "spark.sql(\"SELECT Names, Age, Total_Purchase FROM churn_table LIMIT 4\").show()"
   ]
  },
  {
   "cell_type": "markdown",
   "metadata": {},
   "source": [
    "## Cleaning"
   ]
  },
  {
   "cell_type": "code",
   "execution_count": 13,
   "metadata": {},
   "outputs": [
    {
     "data": {
      "text/plain": [
       "522"
      ]
     },
     "execution_count": 13,
     "metadata": {},
     "output_type": "execute_result"
    }
   ],
   "source": [
    "# Filter\n",
    "\n",
    "df.filter(df['Age'] > 40).count()"
   ]
  },
  {
   "cell_type": "code",
   "execution_count": 14,
   "metadata": {},
   "outputs": [
    {
     "data": {
      "text/plain": [
       "2"
      ]
     },
     "execution_count": 14,
     "metadata": {},
     "output_type": "execute_result"
    }
   ],
   "source": [
    "# Find nulls in a specific column\n",
    "\n",
    "df.filter(df[\"Age\"].isNull()).count()"
   ]
  },
  {
   "cell_type": "code",
   "execution_count": 15,
   "metadata": {},
   "outputs": [],
   "source": [
    "# Remove nulls\n",
    "\n",
    "df = df.dropna(how = 'any', subset= None)"
   ]
  },
  {
   "cell_type": "code",
   "execution_count": 16,
   "metadata": {},
   "outputs": [],
   "source": [
    "# Create column\n",
    "\n",
    "df = df.withColumn(colName= 'Incorrect_Age', col= df['Age'] -7)"
   ]
  },
  {
   "cell_type": "code",
   "execution_count": 17,
   "metadata": {},
   "outputs": [],
   "source": [
    "# Drop column\n",
    "\n",
    "df = df.drop(\"Incorrect_Age\")"
   ]
  },
  {
   "cell_type": "markdown",
   "metadata": {},
   "source": [
    "## Classification"
   ]
  },
  {
   "cell_type": "markdown",
   "metadata": {},
   "source": [
    "### Feature selection"
   ]
  },
  {
   "cell_type": "code",
   "execution_count": 18,
   "metadata": {},
   "outputs": [],
   "source": [
    "# Select just the numeric columns as predictors\n",
    "\n",
    "predictors = ['Age', 'Total_Purchase', 'Account_Manager', 'Years']"
   ]
  },
  {
   "cell_type": "code",
   "execution_count": 19,
   "metadata": {},
   "outputs": [],
   "source": [
    "# For Spark, each row needs to be a vector\n",
    "\n",
    "# Get a vectoriser\n",
    "\n",
    "vectoriser = VectorAssembler(inputCols = predictors, outputCol = 'Features')\n",
    "\n",
    "# Vectorise the dataframe, combining all the predictors into a new column\n",
    "\n",
    "cl_data = vectoriser.transform(df)"
   ]
  },
  {
   "cell_type": "code",
   "execution_count": 20,
   "metadata": {},
   "outputs": [
    {
     "name": "stdout",
     "output_type": "stream",
     "text": [
      "+-----+--------------------+\n",
      "|Churn|            Features|\n",
      "+-----+--------------------+\n",
      "|    1|[42.0,11066.8,0.0...|\n",
      "|    1|[41.0,11916.22,0....|\n",
      "|    1|[38.0,12884.75,0....|\n",
      "|    1|[42.0,8010.76,0.0...|\n",
      "|    1|[37.0,9191.58,0.0...|\n",
      "+-----+--------------------+\n",
      "only showing top 5 rows\n",
      "\n"
     ]
    }
   ],
   "source": [
    "# View the predictors and target\n",
    "\n",
    "cl_data.select('Churn', 'Features').show(5)"
   ]
  },
  {
   "cell_type": "markdown",
   "metadata": {},
   "source": [
    "## Split the data"
   ]
  },
  {
   "cell_type": "code",
   "execution_count": 21,
   "metadata": {},
   "outputs": [],
   "source": [
    "# Simplify the data\n",
    "\n",
    "cl_data = cl_data.select(\"Churn\", \"Features\")"
   ]
  },
  {
   "cell_type": "code",
   "execution_count": 22,
   "metadata": {},
   "outputs": [],
   "source": [
    "# Split off train and test\n",
    "\n",
    "train, test = cl_data.randomSplit([0.7, 0.3], seed=451)"
   ]
  },
  {
   "cell_type": "markdown",
   "metadata": {},
   "source": [
    "## Build a classifier\n",
    "\n",
    "Not a *good* classifier, just an example one."
   ]
  },
  {
   "cell_type": "code",
   "execution_count": 23,
   "metadata": {},
   "outputs": [],
   "source": [
    "# Create the classifier\n",
    "\n",
    "tree = DecisionTreeClassifier(featuresCol=\"Features\", labelCol = 'Churn')"
   ]
  },
  {
   "cell_type": "code",
   "execution_count": 24,
   "metadata": {},
   "outputs": [],
   "source": [
    "# Fit it\n",
    "\n",
    "fitted_tree = tree.fit(train)"
   ]
  },
  {
   "cell_type": "code",
   "execution_count": 25,
   "metadata": {},
   "outputs": [],
   "source": [
    "# Make predictions\n",
    "\n",
    "pred = fitted_tree.transform(test)"
   ]
  },
  {
   "cell_type": "code",
   "execution_count": 26,
   "metadata": {},
   "outputs": [
    {
     "data": {
      "text/plain": [
       "57"
      ]
     },
     "execution_count": 26,
     "metadata": {},
     "output_type": "execute_result"
    }
   ],
   "source": [
    "# Hackily evaluate it; how many did we get wrong?\n",
    "\n",
    "pred.count() - pred.filter(pred[\"Churn\"] == pred[\"prediction\"]).count()"
   ]
  }
 ],
 "metadata": {
  "kernelspec": {
   "display_name": "Python 3",
   "language": "python",
   "name": "python3"
  },
  "language_info": {
   "codemirror_mode": {
    "name": "ipython",
    "version": 3
   },
   "file_extension": ".py",
   "mimetype": "text/x-python",
   "name": "python",
   "nbconvert_exporter": "python",
   "pygments_lexer": "ipython3",
   "version": "3.8.5"
  }
 },
 "nbformat": 4,
 "nbformat_minor": 4
}
