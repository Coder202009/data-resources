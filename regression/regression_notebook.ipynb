{
 "cells": [
  {
   "cell_type": "code",
   "execution_count": null,
   "metadata": {
    "colab": {
     "base_uri": "https://localhost:8080/",
     "height": 218
    },
    "colab_type": "code",
    "executionInfo": {
     "elapsed": 1496,
     "status": "ok",
     "timestamp": 1563521035566,
     "user": {
      "displayName": "Juan Beltran",
      "photoUrl": "https://lh4.googleusercontent.com/-59JSx7DE41I/AAAAAAAAAAI/AAAAAAAAAA0/DsgO9eXs3cI/s64/photo.jpg",
      "userId": "06395049194550718667"
     },
     "user_tz": -60
    },
    "id": "zdBY6fDhjIXh",
    "outputId": "0cd68450-3dcb-4002-b964-3c848e46dc86"
   },
   "outputs": [
    {
     "data": {
      "text/html": [
       "<div>\n",
       "<style scoped>\n",
       "    .dataframe tbody tr th:only-of-type {\n",
       "        vertical-align: middle;\n",
       "    }\n",
       "\n",
       "    .dataframe tbody tr th {\n",
       "        vertical-align: top;\n",
       "    }\n",
       "\n",
       "    .dataframe thead th {\n",
       "        text-align: right;\n",
       "    }\n",
       "</style>\n",
       "<table border=\"1\" class=\"dataframe\">\n",
       "  <thead>\n",
       "    <tr style=\"text-align: right;\">\n",
       "      <th></th>\n",
       "      <th>id</th>\n",
       "      <th>date</th>\n",
       "      <th>price</th>\n",
       "      <th>bedrooms</th>\n",
       "      <th>bathrooms</th>\n",
       "      <th>sqft_living</th>\n",
       "      <th>sqft_lot</th>\n",
       "      <th>floors</th>\n",
       "      <th>waterfront</th>\n",
       "      <th>view</th>\n",
       "      <th>condition</th>\n",
       "      <th>grade</th>\n",
       "      <th>sqft_above</th>\n",
       "      <th>sqft_basement</th>\n",
       "      <th>yr_built</th>\n",
       "      <th>yr_renovated</th>\n",
       "      <th>zipcode</th>\n",
       "      <th>lat</th>\n",
       "      <th>long</th>\n",
       "      <th>sqft_living15</th>\n",
       "      <th>sqft_lot15</th>\n",
       "    </tr>\n",
       "  </thead>\n",
       "  <tbody>\n",
       "    <tr>\n",
       "      <th>0</th>\n",
       "      <td>7129300520</td>\n",
       "      <td>20141013T000000</td>\n",
       "      <td>221900</td>\n",
       "      <td>3</td>\n",
       "      <td>1.00</td>\n",
       "      <td>1180</td>\n",
       "      <td>5650</td>\n",
       "      <td>1.0</td>\n",
       "      <td>0</td>\n",
       "      <td>0</td>\n",
       "      <td>3</td>\n",
       "      <td>7</td>\n",
       "      <td>1180</td>\n",
       "      <td>0</td>\n",
       "      <td>1955</td>\n",
       "      <td>0</td>\n",
       "      <td>98178</td>\n",
       "      <td>47.5112</td>\n",
       "      <td>-122.257</td>\n",
       "      <td>1340</td>\n",
       "      <td>5650</td>\n",
       "    </tr>\n",
       "    <tr>\n",
       "      <th>1</th>\n",
       "      <td>6414100192</td>\n",
       "      <td>20141209T000000</td>\n",
       "      <td>538000</td>\n",
       "      <td>3</td>\n",
       "      <td>2.25</td>\n",
       "      <td>2570</td>\n",
       "      <td>7242</td>\n",
       "      <td>2.0</td>\n",
       "      <td>0</td>\n",
       "      <td>0</td>\n",
       "      <td>3</td>\n",
       "      <td>7</td>\n",
       "      <td>2170</td>\n",
       "      <td>400</td>\n",
       "      <td>1951</td>\n",
       "      <td>1991</td>\n",
       "      <td>98125</td>\n",
       "      <td>47.7210</td>\n",
       "      <td>-122.319</td>\n",
       "      <td>1690</td>\n",
       "      <td>7639</td>\n",
       "    </tr>\n",
       "    <tr>\n",
       "      <th>2</th>\n",
       "      <td>5631500400</td>\n",
       "      <td>20150225T000000</td>\n",
       "      <td>180000</td>\n",
       "      <td>2</td>\n",
       "      <td>1.00</td>\n",
       "      <td>770</td>\n",
       "      <td>10000</td>\n",
       "      <td>1.0</td>\n",
       "      <td>0</td>\n",
       "      <td>0</td>\n",
       "      <td>3</td>\n",
       "      <td>6</td>\n",
       "      <td>770</td>\n",
       "      <td>0</td>\n",
       "      <td>1933</td>\n",
       "      <td>0</td>\n",
       "      <td>98028</td>\n",
       "      <td>47.7379</td>\n",
       "      <td>-122.233</td>\n",
       "      <td>2720</td>\n",
       "      <td>8062</td>\n",
       "    </tr>\n",
       "    <tr>\n",
       "      <th>3</th>\n",
       "      <td>2487200875</td>\n",
       "      <td>20141209T000000</td>\n",
       "      <td>604000</td>\n",
       "      <td>4</td>\n",
       "      <td>3.00</td>\n",
       "      <td>1960</td>\n",
       "      <td>5000</td>\n",
       "      <td>1.0</td>\n",
       "      <td>0</td>\n",
       "      <td>0</td>\n",
       "      <td>5</td>\n",
       "      <td>7</td>\n",
       "      <td>1050</td>\n",
       "      <td>910</td>\n",
       "      <td>1965</td>\n",
       "      <td>0</td>\n",
       "      <td>98136</td>\n",
       "      <td>47.5208</td>\n",
       "      <td>-122.393</td>\n",
       "      <td>1360</td>\n",
       "      <td>5000</td>\n",
       "    </tr>\n",
       "    <tr>\n",
       "      <th>4</th>\n",
       "      <td>1954400510</td>\n",
       "      <td>20150218T000000</td>\n",
       "      <td>510000</td>\n",
       "      <td>3</td>\n",
       "      <td>2.00</td>\n",
       "      <td>1680</td>\n",
       "      <td>8080</td>\n",
       "      <td>1.0</td>\n",
       "      <td>0</td>\n",
       "      <td>0</td>\n",
       "      <td>3</td>\n",
       "      <td>8</td>\n",
       "      <td>1680</td>\n",
       "      <td>0</td>\n",
       "      <td>1987</td>\n",
       "      <td>0</td>\n",
       "      <td>98074</td>\n",
       "      <td>47.6168</td>\n",
       "      <td>-122.045</td>\n",
       "      <td>1800</td>\n",
       "      <td>7503</td>\n",
       "    </tr>\n",
       "  </tbody>\n",
       "</table>\n",
       "</div>"
      ],
      "text/plain": [
       "           id             date   price  ...     long  sqft_living15  sqft_lot15\n",
       "0  7129300520  20141013T000000  221900  ... -122.257           1340        5650\n",
       "1  6414100192  20141209T000000  538000  ... -122.319           1690        7639\n",
       "2  5631500400  20150225T000000  180000  ... -122.233           2720        8062\n",
       "3  2487200875  20141209T000000  604000  ... -122.393           1360        5000\n",
       "4  1954400510  20150218T000000  510000  ... -122.045           1800        7503\n",
       "\n",
       "[5 rows x 21 columns]"
      ]
     },
     "execution_count": 3,
     "metadata": {
      "tags": []
     },
     "output_type": "execute_result"
    }
   ],
   "source": [
    "import pandas as pd\n",
    "import numpy as np\n",
    "import matplotlib.pyplot as plt\n",
    "from sklearn import linear_model, preprocessing # For linear regression modelling\n",
    "from sklearn.model_selection import train_test_split # For splitting the data for testing purposes\n",
    "import seaborn as sns # For visualisations\n",
    "import statsmodels.api as sm # For linear regression modelling\n",
    "from statsmodels.graphics.api import abline_plot # For visualling evaluating predictions\n",
    "import warnings # For handling error messages\n",
    "\n",
    "# First lets read our data into memory and view the top rows using the pandas head() function\n",
    "data = pd.read_csv('home_data.csv')\n",
    "data.head()\n"
   ]
  },
  {
   "cell_type": "code",
   "execution_count": null,
   "metadata": {
    "colab": {
     "base_uri": "https://localhost:8080/",
     "height": 35
    },
    "colab_type": "code",
    "executionInfo": {
     "elapsed": 3648,
     "status": "ok",
     "timestamp": 1563521041667,
     "user": {
      "displayName": "Juan Beltran",
      "photoUrl": "https://lh4.googleusercontent.com/-59JSx7DE41I/AAAAAAAAAAI/AAAAAAAAAA0/DsgO9eXs3cI/s64/photo.jpg",
      "userId": "06395049194550718667"
     },
     "user_tz": -60
    },
    "id": "iZYIvgB1TEuP",
    "outputId": "a77cb753-b30e-4463-f1ac-7568d2987b67"
   },
   "outputs": [
    {
     "data": {
      "text/plain": [
       "(21613, 21)"
      ]
     },
     "execution_count": 4,
     "metadata": {
      "tags": []
     },
     "output_type": "execute_result"
    }
   ],
   "source": [
    "data.shape"
   ]
  },
  {
   "cell_type": "code",
   "execution_count": null,
   "metadata": {
    "colab": {
     "base_uri": "https://localhost:8080/",
     "height": 397
    },
    "colab_type": "code",
    "executionInfo": {
     "elapsed": 5042,
     "status": "ok",
     "timestamp": 1563521043250,
     "user": {
      "displayName": "Juan Beltran",
      "photoUrl": "https://lh4.googleusercontent.com/-59JSx7DE41I/AAAAAAAAAAI/AAAAAAAAAA0/DsgO9eXs3cI/s64/photo.jpg",
      "userId": "06395049194550718667"
     },
     "user_tz": -60
    },
    "id": "EahGj98pTMOU",
    "outputId": "6b340690-a8e0-4617-c84f-adbb73eec243"
   },
   "outputs": [
    {
     "data": {
      "text/plain": [
       "id                 int64\n",
       "date              object\n",
       "price              int64\n",
       "bedrooms           int64\n",
       "bathrooms        float64\n",
       "sqft_living        int64\n",
       "sqft_lot           int64\n",
       "floors           float64\n",
       "waterfront         int64\n",
       "view               int64\n",
       "condition          int64\n",
       "grade              int64\n",
       "sqft_above         int64\n",
       "sqft_basement      int64\n",
       "yr_built           int64\n",
       "yr_renovated       int64\n",
       "zipcode            int64\n",
       "lat              float64\n",
       "long             float64\n",
       "sqft_living15      int64\n",
       "sqft_lot15         int64\n",
       "dtype: object"
      ]
     },
     "execution_count": 5,
     "metadata": {
      "tags": []
     },
     "output_type": "execute_result"
    }
   ],
   "source": [
    "data.dtypes"
   ]
  },
  {
   "cell_type": "code",
   "execution_count": null,
   "metadata": {
    "colab": {},
    "colab_type": "code",
    "id": "g8v5e6q1Tae0"
   },
   "outputs": [],
   "source": [
    "data[\"date\"] = pd.____(data[\"date\"])"
   ]
  },
  {
   "cell_type": "code",
   "execution_count": null,
   "metadata": {
    "colab": {
     "base_uri": "https://localhost:8080/",
     "height": 397
    },
    "colab_type": "code",
    "executionInfo": {
     "elapsed": 4640,
     "status": "ok",
     "timestamp": 1563521043255,
     "user": {
      "displayName": "Juan Beltran",
      "photoUrl": "https://lh4.googleusercontent.com/-59JSx7DE41I/AAAAAAAAAAI/AAAAAAAAAA0/DsgO9eXs3cI/s64/photo.jpg",
      "userId": "06395049194550718667"
     },
     "user_tz": -60
    },
    "id": "gkxhQOG0TlgM",
    "outputId": "e62dfae5-43a7-4026-d474-5a1a4d096cb0"
   },
   "outputs": [
    {
     "data": {
      "text/plain": [
       "id                        int64\n",
       "date             datetime64[ns]\n",
       "price                     int64\n",
       "bedrooms                  int64\n",
       "bathrooms               float64\n",
       "sqft_living               int64\n",
       "sqft_lot                  int64\n",
       "floors                  float64\n",
       "waterfront                int64\n",
       "view                      int64\n",
       "condition                 int64\n",
       "grade                     int64\n",
       "sqft_above                int64\n",
       "sqft_basement             int64\n",
       "yr_built                  int64\n",
       "yr_renovated              int64\n",
       "zipcode                   int64\n",
       "lat                     float64\n",
       "long                    float64\n",
       "sqft_living15             int64\n",
       "sqft_lot15                int64\n",
       "dtype: object"
      ]
     },
     "execution_count": 7,
     "metadata": {
      "tags": []
     },
     "output_type": "execute_result"
    }
   ],
   "source": [
    "data.dtypes"
   ]
  },
  {
   "cell_type": "code",
   "execution_count": null,
   "metadata": {
    "colab": {
     "base_uri": "https://localhost:8080/",
     "height": 635
    },
    "colab_type": "code",
    "executionInfo": {
     "elapsed": 4184,
     "status": "ok",
     "timestamp": 1563521043256,
     "user": {
      "displayName": "Juan Beltran",
      "photoUrl": "https://lh4.googleusercontent.com/-59JSx7DE41I/AAAAAAAAAAI/AAAAAAAAAA0/DsgO9eXs3cI/s64/photo.jpg",
      "userId": "06395049194550718667"
     },
     "user_tz": -60
    },
    "id": "_VnsWyLLTqik",
    "outputId": "340a1188-ffe4-4e2b-a0f6-39a830ac3870"
   },
   "outputs": [
    {
     "data": {
      "text/html": [
       "<div>\n",
       "<style scoped>\n",
       "    .dataframe tbody tr th:only-of-type {\n",
       "        vertical-align: middle;\n",
       "    }\n",
       "\n",
       "    .dataframe tbody tr th {\n",
       "        vertical-align: top;\n",
       "    }\n",
       "\n",
       "    .dataframe thead th {\n",
       "        text-align: right;\n",
       "    }\n",
       "</style>\n",
       "<table border=\"1\" class=\"dataframe\">\n",
       "  <thead>\n",
       "    <tr style=\"text-align: right;\">\n",
       "      <th></th>\n",
       "      <th>id</th>\n",
       "      <th>date</th>\n",
       "      <th>price</th>\n",
       "      <th>bedrooms</th>\n",
       "      <th>bathrooms</th>\n",
       "      <th>sqft_living</th>\n",
       "      <th>sqft_lot</th>\n",
       "      <th>floors</th>\n",
       "      <th>waterfront</th>\n",
       "      <th>view</th>\n",
       "      <th>condition</th>\n",
       "      <th>grade</th>\n",
       "      <th>sqft_above</th>\n",
       "      <th>sqft_basement</th>\n",
       "      <th>yr_built</th>\n",
       "      <th>yr_renovated</th>\n",
       "      <th>zipcode</th>\n",
       "      <th>lat</th>\n",
       "      <th>long</th>\n",
       "      <th>sqft_living15</th>\n",
       "      <th>sqft_lot15</th>\n",
       "    </tr>\n",
       "  </thead>\n",
       "  <tbody>\n",
       "    <tr>\n",
       "      <th>13421</th>\n",
       "      <td>1854900330</td>\n",
       "      <td>2014-09-09</td>\n",
       "      <td>697000</td>\n",
       "      <td>4</td>\n",
       "      <td>2.50</td>\n",
       "      <td>3160</td>\n",
       "      <td>6961</td>\n",
       "      <td>2.0</td>\n",
       "      <td>0</td>\n",
       "      <td>0</td>\n",
       "      <td>3</td>\n",
       "      <td>8</td>\n",
       "      <td>3160</td>\n",
       "      <td>0</td>\n",
       "      <td>2005</td>\n",
       "      <td>0</td>\n",
       "      <td>98074</td>\n",
       "      <td>47.6125</td>\n",
       "      <td>-122.010</td>\n",
       "      <td>3110</td>\n",
       "      <td>5058</td>\n",
       "    </tr>\n",
       "    <tr>\n",
       "      <th>17993</th>\n",
       "      <td>4254000620</td>\n",
       "      <td>2014-10-07</td>\n",
       "      <td>410000</td>\n",
       "      <td>3</td>\n",
       "      <td>2.50</td>\n",
       "      <td>1860</td>\n",
       "      <td>15457</td>\n",
       "      <td>2.0</td>\n",
       "      <td>0</td>\n",
       "      <td>0</td>\n",
       "      <td>3</td>\n",
       "      <td>8</td>\n",
       "      <td>1860</td>\n",
       "      <td>0</td>\n",
       "      <td>1997</td>\n",
       "      <td>0</td>\n",
       "      <td>98019</td>\n",
       "      <td>47.7383</td>\n",
       "      <td>-121.955</td>\n",
       "      <td>2040</td>\n",
       "      <td>14055</td>\n",
       "    </tr>\n",
       "    <tr>\n",
       "      <th>16336</th>\n",
       "      <td>1214000050</td>\n",
       "      <td>2014-10-20</td>\n",
       "      <td>350000</td>\n",
       "      <td>3</td>\n",
       "      <td>1.75</td>\n",
       "      <td>2130</td>\n",
       "      <td>7500</td>\n",
       "      <td>1.0</td>\n",
       "      <td>0</td>\n",
       "      <td>0</td>\n",
       "      <td>4</td>\n",
       "      <td>7</td>\n",
       "      <td>1090</td>\n",
       "      <td>1040</td>\n",
       "      <td>1956</td>\n",
       "      <td>0</td>\n",
       "      <td>98166</td>\n",
       "      <td>47.4593</td>\n",
       "      <td>-122.343</td>\n",
       "      <td>1590</td>\n",
       "      <td>7500</td>\n",
       "    </tr>\n",
       "    <tr>\n",
       "      <th>19831</th>\n",
       "      <td>2895730070</td>\n",
       "      <td>2014-06-20</td>\n",
       "      <td>925000</td>\n",
       "      <td>4</td>\n",
       "      <td>2.75</td>\n",
       "      <td>3730</td>\n",
       "      <td>8014</td>\n",
       "      <td>2.0</td>\n",
       "      <td>0</td>\n",
       "      <td>0</td>\n",
       "      <td>3</td>\n",
       "      <td>10</td>\n",
       "      <td>3730</td>\n",
       "      <td>0</td>\n",
       "      <td>2012</td>\n",
       "      <td>0</td>\n",
       "      <td>98074</td>\n",
       "      <td>47.6036</td>\n",
       "      <td>-122.059</td>\n",
       "      <td>3670</td>\n",
       "      <td>8279</td>\n",
       "    </tr>\n",
       "    <tr>\n",
       "      <th>13455</th>\n",
       "      <td>7224000450</td>\n",
       "      <td>2014-12-30</td>\n",
       "      <td>230000</td>\n",
       "      <td>6</td>\n",
       "      <td>1.50</td>\n",
       "      <td>1810</td>\n",
       "      <td>4838</td>\n",
       "      <td>1.5</td>\n",
       "      <td>0</td>\n",
       "      <td>0</td>\n",
       "      <td>4</td>\n",
       "      <td>5</td>\n",
       "      <td>1050</td>\n",
       "      <td>760</td>\n",
       "      <td>1905</td>\n",
       "      <td>0</td>\n",
       "      <td>98055</td>\n",
       "      <td>47.4874</td>\n",
       "      <td>-122.202</td>\n",
       "      <td>1300</td>\n",
       "      <td>4838</td>\n",
       "    </tr>\n",
       "    <tr>\n",
       "      <th>17151</th>\n",
       "      <td>4107100190</td>\n",
       "      <td>2015-03-24</td>\n",
       "      <td>2500000</td>\n",
       "      <td>4</td>\n",
       "      <td>3.75</td>\n",
       "      <td>3480</td>\n",
       "      <td>14850</td>\n",
       "      <td>1.0</td>\n",
       "      <td>0</td>\n",
       "      <td>4</td>\n",
       "      <td>3</td>\n",
       "      <td>9</td>\n",
       "      <td>1870</td>\n",
       "      <td>1610</td>\n",
       "      <td>1951</td>\n",
       "      <td>2013</td>\n",
       "      <td>98004</td>\n",
       "      <td>47.6227</td>\n",
       "      <td>-122.216</td>\n",
       "      <td>4780</td>\n",
       "      <td>18480</td>\n",
       "    </tr>\n",
       "    <tr>\n",
       "      <th>12589</th>\n",
       "      <td>2459900040</td>\n",
       "      <td>2014-07-17</td>\n",
       "      <td>587000</td>\n",
       "      <td>5</td>\n",
       "      <td>3.50</td>\n",
       "      <td>3610</td>\n",
       "      <td>52595</td>\n",
       "      <td>2.0</td>\n",
       "      <td>0</td>\n",
       "      <td>0</td>\n",
       "      <td>4</td>\n",
       "      <td>7</td>\n",
       "      <td>3610</td>\n",
       "      <td>0</td>\n",
       "      <td>1989</td>\n",
       "      <td>0</td>\n",
       "      <td>98014</td>\n",
       "      <td>47.6832</td>\n",
       "      <td>-121.907</td>\n",
       "      <td>1620</td>\n",
       "      <td>60112</td>\n",
       "    </tr>\n",
       "    <tr>\n",
       "      <th>3027</th>\n",
       "      <td>9320600090</td>\n",
       "      <td>2015-01-27</td>\n",
       "      <td>273500</td>\n",
       "      <td>3</td>\n",
       "      <td>1.50</td>\n",
       "      <td>1560</td>\n",
       "      <td>8314</td>\n",
       "      <td>1.0</td>\n",
       "      <td>0</td>\n",
       "      <td>0</td>\n",
       "      <td>3</td>\n",
       "      <td>7</td>\n",
       "      <td>1560</td>\n",
       "      <td>0</td>\n",
       "      <td>1962</td>\n",
       "      <td>0</td>\n",
       "      <td>98031</td>\n",
       "      <td>47.4117</td>\n",
       "      <td>-122.209</td>\n",
       "      <td>1820</td>\n",
       "      <td>8925</td>\n",
       "    </tr>\n",
       "    <tr>\n",
       "      <th>8063</th>\n",
       "      <td>1311910300</td>\n",
       "      <td>2015-02-04</td>\n",
       "      <td>260000</td>\n",
       "      <td>5</td>\n",
       "      <td>2.25</td>\n",
       "      <td>2320</td>\n",
       "      <td>6375</td>\n",
       "      <td>1.0</td>\n",
       "      <td>0</td>\n",
       "      <td>0</td>\n",
       "      <td>4</td>\n",
       "      <td>7</td>\n",
       "      <td>1270</td>\n",
       "      <td>1050</td>\n",
       "      <td>1967</td>\n",
       "      <td>0</td>\n",
       "      <td>98001</td>\n",
       "      <td>47.3351</td>\n",
       "      <td>-122.282</td>\n",
       "      <td>1760</td>\n",
       "      <td>7600</td>\n",
       "    </tr>\n",
       "    <tr>\n",
       "      <th>0</th>\n",
       "      <td>7129300520</td>\n",
       "      <td>2014-10-13</td>\n",
       "      <td>221900</td>\n",
       "      <td>3</td>\n",
       "      <td>1.00</td>\n",
       "      <td>1180</td>\n",
       "      <td>5650</td>\n",
       "      <td>1.0</td>\n",
       "      <td>0</td>\n",
       "      <td>0</td>\n",
       "      <td>3</td>\n",
       "      <td>7</td>\n",
       "      <td>1180</td>\n",
       "      <td>0</td>\n",
       "      <td>1955</td>\n",
       "      <td>0</td>\n",
       "      <td>98178</td>\n",
       "      <td>47.5112</td>\n",
       "      <td>-122.257</td>\n",
       "      <td>1340</td>\n",
       "      <td>5650</td>\n",
       "    </tr>\n",
       "    <tr>\n",
       "      <th>13553</th>\n",
       "      <td>4057300180</td>\n",
       "      <td>2014-08-07</td>\n",
       "      <td>310000</td>\n",
       "      <td>3</td>\n",
       "      <td>1.50</td>\n",
       "      <td>1140</td>\n",
       "      <td>3104</td>\n",
       "      <td>2.0</td>\n",
       "      <td>0</td>\n",
       "      <td>0</td>\n",
       "      <td>3</td>\n",
       "      <td>7</td>\n",
       "      <td>1140</td>\n",
       "      <td>0</td>\n",
       "      <td>1988</td>\n",
       "      <td>0</td>\n",
       "      <td>98029</td>\n",
       "      <td>47.5707</td>\n",
       "      <td>-122.018</td>\n",
       "      <td>1150</td>\n",
       "      <td>2981</td>\n",
       "    </tr>\n",
       "    <tr>\n",
       "      <th>9430</th>\n",
       "      <td>6117501755</td>\n",
       "      <td>2014-12-30</td>\n",
       "      <td>355000</td>\n",
       "      <td>4</td>\n",
       "      <td>1.50</td>\n",
       "      <td>2230</td>\n",
       "      <td>11536</td>\n",
       "      <td>1.0</td>\n",
       "      <td>0</td>\n",
       "      <td>1</td>\n",
       "      <td>4</td>\n",
       "      <td>7</td>\n",
       "      <td>1220</td>\n",
       "      <td>1010</td>\n",
       "      <td>1954</td>\n",
       "      <td>0</td>\n",
       "      <td>98166</td>\n",
       "      <td>47.4409</td>\n",
       "      <td>-122.348</td>\n",
       "      <td>2170</td>\n",
       "      <td>12465</td>\n",
       "    </tr>\n",
       "  </tbody>\n",
       "</table>\n",
       "</div>"
      ],
      "text/plain": [
       "               id       date    price  ...     long  sqft_living15  sqft_lot15\n",
       "13421  1854900330 2014-09-09   697000  ... -122.010           3110        5058\n",
       "17993  4254000620 2014-10-07   410000  ... -121.955           2040       14055\n",
       "16336  1214000050 2014-10-20   350000  ... -122.343           1590        7500\n",
       "19831  2895730070 2014-06-20   925000  ... -122.059           3670        8279\n",
       "13455  7224000450 2014-12-30   230000  ... -122.202           1300        4838\n",
       "17151  4107100190 2015-03-24  2500000  ... -122.216           4780       18480\n",
       "12589  2459900040 2014-07-17   587000  ... -121.907           1620       60112\n",
       "3027   9320600090 2015-01-27   273500  ... -122.209           1820        8925\n",
       "8063   1311910300 2015-02-04   260000  ... -122.282           1760        7600\n",
       "0      7129300520 2014-10-13   221900  ... -122.257           1340        5650\n",
       "13553  4057300180 2014-08-07   310000  ... -122.018           1150        2981\n",
       "9430   6117501755 2014-12-30   355000  ... -122.348           2170       12465\n",
       "\n",
       "[12 rows x 21 columns]"
      ]
     },
     "execution_count": 8,
     "metadata": {
      "tags": []
     },
     "output_type": "execute_result"
    }
   ],
   "source": [
    "data.sample(12)"
   ]
  },
  {
   "cell_type": "code",
   "execution_count": null,
   "metadata": {
    "colab": {
     "base_uri": "https://localhost:8080/",
     "height": 138
    },
    "colab_type": "code",
    "executionInfo": {
     "elapsed": 4098,
     "status": "ok",
     "timestamp": 1563521043257,
     "user": {
      "displayName": "Juan Beltran",
      "photoUrl": "https://lh4.googleusercontent.com/-59JSx7DE41I/AAAAAAAAAAI/AAAAAAAAAA0/DsgO9eXs3cI/s64/photo.jpg",
      "userId": "06395049194550718667"
     },
     "user_tz": -60
    },
    "id": "4DOk-hIiT10K",
    "outputId": "04e7c1fd-11c5-42bb-9ca6-2ac583011ab7"
   },
   "outputs": [
    {
     "data": {
      "text/plain": [
       "count                   21613\n",
       "unique                    372\n",
       "top       2014-06-23 00:00:00\n",
       "freq                      142\n",
       "first     2014-05-02 00:00:00\n",
       "last      2015-05-27 00:00:00\n",
       "Name: date, dtype: object"
      ]
     },
     "execution_count": 9,
     "metadata": {
      "tags": []
     },
     "output_type": "execute_result"
    }
   ],
   "source": [
    "data.date.____()"
   ]
  },
  {
   "cell_type": "code",
   "execution_count": null,
   "metadata": {
    "colab": {},
    "colab_type": "code",
    "id": "5perPt6uY8lf"
   },
   "outputs": [],
   "source": [
    "data[\"days\"] = ____\n",
    "data[\"days\"] = data[\"days\"].apply(lambda t: t.days)"
   ]
  },
  {
   "cell_type": "code",
   "execution_count": null,
   "metadata": {
    "colab": {
     "base_uri": "https://localhost:8080/",
     "height": 633
    },
    "colab_type": "code",
    "executionInfo": {
     "elapsed": 3954,
     "status": "ok",
     "timestamp": 1563521043260,
     "user": {
      "displayName": "Juan Beltran",
      "photoUrl": "https://lh4.googleusercontent.com/-59JSx7DE41I/AAAAAAAAAAI/AAAAAAAAAA0/DsgO9eXs3cI/s64/photo.jpg",
      "userId": "06395049194550718667"
     },
     "user_tz": -60
    },
    "id": "SAEvx132kyT0",
    "outputId": "ecb24bc2-7aca-47dd-e5e9-d83f27d35831"
   },
   "outputs": [
    {
     "data": {
      "text/plain": [
       "<matplotlib.axes._subplots.AxesSubplot at 0x7f9fa2069d30>"
      ]
     },
     "execution_count": 11,
     "metadata": {
      "tags": []
     },
     "output_type": "execute_result"
    },
    {
     "data": {
      "image/png": "[encoded data removed]",
      "text/plain": [
       "<Figure size 1152x720 with 1 Axes>"
      ]
     },
     "metadata": {
      "tags": []
     },
     "output_type": "display_data"
    }
   ],
   "source": [
    "plt.figure(figsize=(16, 10))\n",
    "sns.distplot(data[[\"price\"]] )"
   ]
  },
  {
   "cell_type": "code",
   "execution_count": null,
   "metadata": {
    "colab": {
     "base_uri": "https://localhost:8080/",
     "height": 302
    },
    "colab_type": "code",
    "executionInfo": {
     "elapsed": 3842,
     "status": "ok",
     "timestamp": 1563521043261,
     "user": {
      "displayName": "Juan Beltran",
      "photoUrl": "https://lh4.googleusercontent.com/-59JSx7DE41I/AAAAAAAAAAI/AAAAAAAAAA0/DsgO9eXs3cI/s64/photo.jpg",
      "userId": "06395049194550718667"
     },
     "user_tz": -60
    },
    "id": "gpTqrHTdk1dm",
    "outputId": "9a61cf8f-e052-4d93-986c-523e40aa2282"
   },
   "outputs": [
    {
     "data": {
      "text/plain": [
       "<matplotlib.axes._subplots.AxesSubplot at 0x7f9fa1ff8cf8>"
      ]
     },
     "execution_count": 12,
     "metadata": {
      "tags": []
     },
     "output_type": "execute_result"
    },
    {
     "data": {
      "image/png": "[encoded data removed]",
      "text/plain": [
       "<Figure size 432x288 with 1 Axes>"
      ]
     },
     "metadata": {
      "tags": []
     },
     "output_type": "display_data"
    }
   ],
   "source": [
    "sns.scatterplot(x=\"sqft_living\", y=\"price\", data=data)"
   ]
  },
  {
   "cell_type": "code",
   "execution_count": null,
   "metadata": {
    "colab": {
     "base_uri": "https://localhost:8080/",
     "height": 308
    },
    "colab_type": "code",
    "executionInfo": {
     "elapsed": 4861,
     "status": "ok",
     "timestamp": 1563521045796,
     "user": {
      "displayName": "Juan Beltran",
      "photoUrl": "https://lh4.googleusercontent.com/-59JSx7DE41I/AAAAAAAAAAI/AAAAAAAAAA0/DsgO9eXs3cI/s64/photo.jpg",
      "userId": "06395049194550718667"
     },
     "user_tz": -60
    },
    "id": "WjJzORCdyYhR",
    "outputId": "596a8695-c3ca-4ddf-8191-fdde5c105d4b"
   },
   "outputs": [
    {
     "data": {
      "text/html": [
       "<div>\n",
       "<style scoped>\n",
       "    .dataframe tbody tr th:only-of-type {\n",
       "        vertical-align: middle;\n",
       "    }\n",
       "\n",
       "    .dataframe tbody tr th {\n",
       "        vertical-align: top;\n",
       "    }\n",
       "\n",
       "    .dataframe thead th {\n",
       "        text-align: right;\n",
       "    }\n",
       "</style>\n",
       "<table border=\"1\" class=\"dataframe\">\n",
       "  <thead>\n",
       "    <tr style=\"text-align: right;\">\n",
       "      <th></th>\n",
       "      <th>id</th>\n",
       "      <th>price</th>\n",
       "      <th>bedrooms</th>\n",
       "      <th>bathrooms</th>\n",
       "      <th>sqft_living</th>\n",
       "      <th>sqft_lot</th>\n",
       "      <th>floors</th>\n",
       "      <th>waterfront</th>\n",
       "      <th>view</th>\n",
       "      <th>condition</th>\n",
       "      <th>grade</th>\n",
       "      <th>sqft_above</th>\n",
       "      <th>sqft_basement</th>\n",
       "      <th>yr_built</th>\n",
       "      <th>yr_renovated</th>\n",
       "      <th>zipcode</th>\n",
       "      <th>lat</th>\n",
       "      <th>long</th>\n",
       "      <th>sqft_living15</th>\n",
       "      <th>sqft_lot15</th>\n",
       "      <th>days</th>\n",
       "    </tr>\n",
       "  </thead>\n",
       "  <tbody>\n",
       "    <tr>\n",
       "      <th>count</th>\n",
       "      <td>2.161300e+04</td>\n",
       "      <td>2.161300e+04</td>\n",
       "      <td>21613.000000</td>\n",
       "      <td>21613.000000</td>\n",
       "      <td>21613.000000</td>\n",
       "      <td>2.161300e+04</td>\n",
       "      <td>21613.000000</td>\n",
       "      <td>21613.000000</td>\n",
       "      <td>21613.000000</td>\n",
       "      <td>21613.000000</td>\n",
       "      <td>21613.000000</td>\n",
       "      <td>21613.000000</td>\n",
       "      <td>21613.000000</td>\n",
       "      <td>21613.000000</td>\n",
       "      <td>21613.000000</td>\n",
       "      <td>21613.000000</td>\n",
       "      <td>21613.000000</td>\n",
       "      <td>21613.000000</td>\n",
       "      <td>21613.000000</td>\n",
       "      <td>21613.000000</td>\n",
       "      <td>21613.000000</td>\n",
       "    </tr>\n",
       "    <tr>\n",
       "      <th>mean</th>\n",
       "      <td>4.580302e+09</td>\n",
       "      <td>5.400881e+05</td>\n",
       "      <td>3.370842</td>\n",
       "      <td>2.114757</td>\n",
       "      <td>2079.899736</td>\n",
       "      <td>1.510697e+04</td>\n",
       "      <td>1.494309</td>\n",
       "      <td>0.007542</td>\n",
       "      <td>0.234303</td>\n",
       "      <td>3.409430</td>\n",
       "      <td>7.656873</td>\n",
       "      <td>1788.390691</td>\n",
       "      <td>291.509045</td>\n",
       "      <td>1971.005136</td>\n",
       "      <td>84.402258</td>\n",
       "      <td>98077.939805</td>\n",
       "      <td>47.560053</td>\n",
       "      <td>-122.213896</td>\n",
       "      <td>1986.552492</td>\n",
       "      <td>12768.455652</td>\n",
       "      <td>180.193078</td>\n",
       "    </tr>\n",
       "    <tr>\n",
       "      <th>std</th>\n",
       "      <td>2.876566e+09</td>\n",
       "      <td>3.671272e+05</td>\n",
       "      <td>0.930062</td>\n",
       "      <td>0.770163</td>\n",
       "      <td>918.440897</td>\n",
       "      <td>4.142051e+04</td>\n",
       "      <td>0.539989</td>\n",
       "      <td>0.086517</td>\n",
       "      <td>0.766318</td>\n",
       "      <td>0.650743</td>\n",
       "      <td>1.175459</td>\n",
       "      <td>828.090978</td>\n",
       "      <td>442.575043</td>\n",
       "      <td>29.373411</td>\n",
       "      <td>401.679240</td>\n",
       "      <td>53.505026</td>\n",
       "      <td>0.138564</td>\n",
       "      <td>0.140828</td>\n",
       "      <td>685.391304</td>\n",
       "      <td>27304.179631</td>\n",
       "      <td>113.048011</td>\n",
       "    </tr>\n",
       "    <tr>\n",
       "      <th>min</th>\n",
       "      <td>1.000102e+06</td>\n",
       "      <td>7.500000e+04</td>\n",
       "      <td>0.000000</td>\n",
       "      <td>0.000000</td>\n",
       "      <td>290.000000</td>\n",
       "      <td>5.200000e+02</td>\n",
       "      <td>1.000000</td>\n",
       "      <td>0.000000</td>\n",
       "      <td>0.000000</td>\n",
       "      <td>1.000000</td>\n",
       "      <td>1.000000</td>\n",
       "      <td>290.000000</td>\n",
       "      <td>0.000000</td>\n",
       "      <td>1900.000000</td>\n",
       "      <td>0.000000</td>\n",
       "      <td>98001.000000</td>\n",
       "      <td>47.155900</td>\n",
       "      <td>-122.519000</td>\n",
       "      <td>399.000000</td>\n",
       "      <td>651.000000</td>\n",
       "      <td>0.000000</td>\n",
       "    </tr>\n",
       "    <tr>\n",
       "      <th>25%</th>\n",
       "      <td>2.123049e+09</td>\n",
       "      <td>3.219500e+05</td>\n",
       "      <td>3.000000</td>\n",
       "      <td>1.750000</td>\n",
       "      <td>1427.000000</td>\n",
       "      <td>5.040000e+03</td>\n",
       "      <td>1.000000</td>\n",
       "      <td>0.000000</td>\n",
       "      <td>0.000000</td>\n",
       "      <td>3.000000</td>\n",
       "      <td>7.000000</td>\n",
       "      <td>1190.000000</td>\n",
       "      <td>0.000000</td>\n",
       "      <td>1951.000000</td>\n",
       "      <td>0.000000</td>\n",
       "      <td>98033.000000</td>\n",
       "      <td>47.471000</td>\n",
       "      <td>-122.328000</td>\n",
       "      <td>1490.000000</td>\n",
       "      <td>5100.000000</td>\n",
       "      <td>81.000000</td>\n",
       "    </tr>\n",
       "    <tr>\n",
       "      <th>50%</th>\n",
       "      <td>3.904930e+09</td>\n",
       "      <td>4.500000e+05</td>\n",
       "      <td>3.000000</td>\n",
       "      <td>2.250000</td>\n",
       "      <td>1910.000000</td>\n",
       "      <td>7.618000e+03</td>\n",
       "      <td>1.500000</td>\n",
       "      <td>0.000000</td>\n",
       "      <td>0.000000</td>\n",
       "      <td>3.000000</td>\n",
       "      <td>7.000000</td>\n",
       "      <td>1560.000000</td>\n",
       "      <td>0.000000</td>\n",
       "      <td>1975.000000</td>\n",
       "      <td>0.000000</td>\n",
       "      <td>98065.000000</td>\n",
       "      <td>47.571800</td>\n",
       "      <td>-122.230000</td>\n",
       "      <td>1840.000000</td>\n",
       "      <td>7620.000000</td>\n",
       "      <td>167.000000</td>\n",
       "    </tr>\n",
       "    <tr>\n",
       "      <th>75%</th>\n",
       "      <td>7.308900e+09</td>\n",
       "      <td>6.450000e+05</td>\n",
       "      <td>4.000000</td>\n",
       "      <td>2.500000</td>\n",
       "      <td>2550.000000</td>\n",
       "      <td>1.068800e+04</td>\n",
       "      <td>2.000000</td>\n",
       "      <td>0.000000</td>\n",
       "      <td>0.000000</td>\n",
       "      <td>4.000000</td>\n",
       "      <td>8.000000</td>\n",
       "      <td>2210.000000</td>\n",
       "      <td>560.000000</td>\n",
       "      <td>1997.000000</td>\n",
       "      <td>0.000000</td>\n",
       "      <td>98118.000000</td>\n",
       "      <td>47.678000</td>\n",
       "      <td>-122.125000</td>\n",
       "      <td>2360.000000</td>\n",
       "      <td>10083.000000</td>\n",
       "      <td>291.000000</td>\n",
       "    </tr>\n",
       "    <tr>\n",
       "      <th>max</th>\n",
       "      <td>9.900000e+09</td>\n",
       "      <td>7.700000e+06</td>\n",
       "      <td>33.000000</td>\n",
       "      <td>8.000000</td>\n",
       "      <td>13540.000000</td>\n",
       "      <td>1.651359e+06</td>\n",
       "      <td>3.500000</td>\n",
       "      <td>1.000000</td>\n",
       "      <td>4.000000</td>\n",
       "      <td>5.000000</td>\n",
       "      <td>13.000000</td>\n",
       "      <td>9410.000000</td>\n",
       "      <td>4820.000000</td>\n",
       "      <td>2015.000000</td>\n",
       "      <td>2015.000000</td>\n",
       "      <td>98199.000000</td>\n",
       "      <td>47.777600</td>\n",
       "      <td>-121.315000</td>\n",
       "      <td>6210.000000</td>\n",
       "      <td>871200.000000</td>\n",
       "      <td>390.000000</td>\n",
       "    </tr>\n",
       "  </tbody>\n",
       "</table>\n",
       "</div>"
      ],
      "text/plain": [
       "                 id         price  ...     sqft_lot15          days\n",
       "count  2.161300e+04  2.161300e+04  ...   21613.000000  21613.000000\n",
       "mean   4.580302e+09  5.400881e+05  ...   12768.455652    180.193078\n",
       "std    2.876566e+09  3.671272e+05  ...   27304.179631    113.048011\n",
       "min    1.000102e+06  7.500000e+04  ...     651.000000      0.000000\n",
       "25%    2.123049e+09  3.219500e+05  ...    5100.000000     81.000000\n",
       "50%    3.904930e+09  4.500000e+05  ...    7620.000000    167.000000\n",
       "75%    7.308900e+09  6.450000e+05  ...   10083.000000    291.000000\n",
       "max    9.900000e+09  7.700000e+06  ...  871200.000000    390.000000\n",
       "\n",
       "[8 rows x 21 columns]"
      ]
     },
     "execution_count": 13,
     "metadata": {
      "tags": []
     },
     "output_type": "execute_result"
    }
   ],
   "source": [
    "data.describe()"
   ]
  },
  {
   "cell_type": "code",
   "execution_count": null,
   "metadata": {
    "colab": {
     "base_uri": "https://localhost:8080/",
     "height": 308
    },
    "colab_type": "code",
    "executionInfo": {
     "elapsed": 4689,
     "status": "ok",
     "timestamp": 1563521045797,
     "user": {
      "displayName": "Juan Beltran",
      "photoUrl": "https://lh4.googleusercontent.com/-59JSx7DE41I/AAAAAAAAAAI/AAAAAAAAAA0/DsgO9eXs3cI/s64/photo.jpg",
      "userId": "06395049194550718667"
     },
     "user_tz": -60
    },
    "id": "Csa-FxnAq8Pw",
    "outputId": "14a70a44-0152-4924-91f6-f811eab836d3"
   },
   "outputs": [
    {
     "data": {
      "text/html": [
       "<div>\n",
       "<style scoped>\n",
       "    .dataframe tbody tr th:only-of-type {\n",
       "        vertical-align: middle;\n",
       "    }\n",
       "\n",
       "    .dataframe tbody tr th {\n",
       "        vertical-align: top;\n",
       "    }\n",
       "\n",
       "    .dataframe thead th {\n",
       "        text-align: right;\n",
       "    }\n",
       "</style>\n",
       "<table border=\"1\" class=\"dataframe\">\n",
       "  <thead>\n",
       "    <tr style=\"text-align: right;\">\n",
       "      <th></th>\n",
       "      <th>id</th>\n",
       "      <th>price</th>\n",
       "      <th>bedrooms</th>\n",
       "      <th>bathrooms</th>\n",
       "      <th>sqft_living</th>\n",
       "      <th>sqft_lot</th>\n",
       "      <th>floors</th>\n",
       "      <th>waterfront</th>\n",
       "      <th>view</th>\n",
       "      <th>condition</th>\n",
       "      <th>grade</th>\n",
       "      <th>sqft_above</th>\n",
       "      <th>sqft_basement</th>\n",
       "      <th>yr_built</th>\n",
       "      <th>yr_renovated</th>\n",
       "      <th>zipcode</th>\n",
       "      <th>lat</th>\n",
       "      <th>long</th>\n",
       "      <th>sqft_living15</th>\n",
       "      <th>sqft_lot15</th>\n",
       "      <th>days</th>\n",
       "    </tr>\n",
       "  </thead>\n",
       "  <tbody>\n",
       "    <tr>\n",
       "      <th>count</th>\n",
       "      <td>2.161300e+04</td>\n",
       "      <td>2.161300e+04</td>\n",
       "      <td>21613.000000</td>\n",
       "      <td>21613.000000</td>\n",
       "      <td>21613.000000</td>\n",
       "      <td>2.161300e+04</td>\n",
       "      <td>21613.000000</td>\n",
       "      <td>21613.000000</td>\n",
       "      <td>21613.000000</td>\n",
       "      <td>21613.000000</td>\n",
       "      <td>21613.000000</td>\n",
       "      <td>21613.000000</td>\n",
       "      <td>21613.000000</td>\n",
       "      <td>21613.000000</td>\n",
       "      <td>21613.000000</td>\n",
       "      <td>21613.000000</td>\n",
       "      <td>21613.000000</td>\n",
       "      <td>21613.000000</td>\n",
       "      <td>21613.000000</td>\n",
       "      <td>21613.000000</td>\n",
       "      <td>21613.000000</td>\n",
       "    </tr>\n",
       "    <tr>\n",
       "      <th>mean</th>\n",
       "      <td>4.580302e+09</td>\n",
       "      <td>5.400881e+05</td>\n",
       "      <td>3.370842</td>\n",
       "      <td>2.114757</td>\n",
       "      <td>2079.899736</td>\n",
       "      <td>1.510697e+04</td>\n",
       "      <td>1.494309</td>\n",
       "      <td>0.007542</td>\n",
       "      <td>0.234303</td>\n",
       "      <td>3.409430</td>\n",
       "      <td>7.656873</td>\n",
       "      <td>1788.390691</td>\n",
       "      <td>291.509045</td>\n",
       "      <td>1971.005136</td>\n",
       "      <td>84.402258</td>\n",
       "      <td>98077.939805</td>\n",
       "      <td>47.560053</td>\n",
       "      <td>-122.213896</td>\n",
       "      <td>1986.552492</td>\n",
       "      <td>12768.455652</td>\n",
       "      <td>180.193078</td>\n",
       "    </tr>\n",
       "    <tr>\n",
       "      <th>std</th>\n",
       "      <td>2.876566e+09</td>\n",
       "      <td>3.671272e+05</td>\n",
       "      <td>0.930062</td>\n",
       "      <td>0.770163</td>\n",
       "      <td>918.440897</td>\n",
       "      <td>4.142051e+04</td>\n",
       "      <td>0.539989</td>\n",
       "      <td>0.086517</td>\n",
       "      <td>0.766318</td>\n",
       "      <td>0.650743</td>\n",
       "      <td>1.175459</td>\n",
       "      <td>828.090978</td>\n",
       "      <td>442.575043</td>\n",
       "      <td>29.373411</td>\n",
       "      <td>401.679240</td>\n",
       "      <td>53.505026</td>\n",
       "      <td>0.138564</td>\n",
       "      <td>0.140828</td>\n",
       "      <td>685.391304</td>\n",
       "      <td>27304.179631</td>\n",
       "      <td>113.048011</td>\n",
       "    </tr>\n",
       "    <tr>\n",
       "      <th>min</th>\n",
       "      <td>1.000102e+06</td>\n",
       "      <td>7.500000e+04</td>\n",
       "      <td>0.000000</td>\n",
       "      <td>0.000000</td>\n",
       "      <td>290.000000</td>\n",
       "      <td>5.200000e+02</td>\n",
       "      <td>1.000000</td>\n",
       "      <td>0.000000</td>\n",
       "      <td>0.000000</td>\n",
       "      <td>1.000000</td>\n",
       "      <td>1.000000</td>\n",
       "      <td>290.000000</td>\n",
       "      <td>0.000000</td>\n",
       "      <td>1900.000000</td>\n",
       "      <td>0.000000</td>\n",
       "      <td>98001.000000</td>\n",
       "      <td>47.155900</td>\n",
       "      <td>-122.519000</td>\n",
       "      <td>399.000000</td>\n",
       "      <td>651.000000</td>\n",
       "      <td>0.000000</td>\n",
       "    </tr>\n",
       "    <tr>\n",
       "      <th>25%</th>\n",
       "      <td>2.123049e+09</td>\n",
       "      <td>3.219500e+05</td>\n",
       "      <td>3.000000</td>\n",
       "      <td>1.750000</td>\n",
       "      <td>1427.000000</td>\n",
       "      <td>5.040000e+03</td>\n",
       "      <td>1.000000</td>\n",
       "      <td>0.000000</td>\n",
       "      <td>0.000000</td>\n",
       "      <td>3.000000</td>\n",
       "      <td>7.000000</td>\n",
       "      <td>1190.000000</td>\n",
       "      <td>0.000000</td>\n",
       "      <td>1951.000000</td>\n",
       "      <td>0.000000</td>\n",
       "      <td>98033.000000</td>\n",
       "      <td>47.471000</td>\n",
       "      <td>-122.328000</td>\n",
       "      <td>1490.000000</td>\n",
       "      <td>5100.000000</td>\n",
       "      <td>81.000000</td>\n",
       "    </tr>\n",
       "    <tr>\n",
       "      <th>50%</th>\n",
       "      <td>3.904930e+09</td>\n",
       "      <td>4.500000e+05</td>\n",
       "      <td>3.000000</td>\n",
       "      <td>2.250000</td>\n",
       "      <td>1910.000000</td>\n",
       "      <td>7.618000e+03</td>\n",
       "      <td>1.500000</td>\n",
       "      <td>0.000000</td>\n",
       "      <td>0.000000</td>\n",
       "      <td>3.000000</td>\n",
       "      <td>7.000000</td>\n",
       "      <td>1560.000000</td>\n",
       "      <td>0.000000</td>\n",
       "      <td>1975.000000</td>\n",
       "      <td>0.000000</td>\n",
       "      <td>98065.000000</td>\n",
       "      <td>47.571800</td>\n",
       "      <td>-122.230000</td>\n",
       "      <td>1840.000000</td>\n",
       "      <td>7620.000000</td>\n",
       "      <td>167.000000</td>\n",
       "    </tr>\n",
       "    <tr>\n",
       "      <th>75%</th>\n",
       "      <td>7.308900e+09</td>\n",
       "      <td>6.450000e+05</td>\n",
       "      <td>4.000000</td>\n",
       "      <td>2.500000</td>\n",
       "      <td>2550.000000</td>\n",
       "      <td>1.068800e+04</td>\n",
       "      <td>2.000000</td>\n",
       "      <td>0.000000</td>\n",
       "      <td>0.000000</td>\n",
       "      <td>4.000000</td>\n",
       "      <td>8.000000</td>\n",
       "      <td>2210.000000</td>\n",
       "      <td>560.000000</td>\n",
       "      <td>1997.000000</td>\n",
       "      <td>0.000000</td>\n",
       "      <td>98118.000000</td>\n",
       "      <td>47.678000</td>\n",
       "      <td>-122.125000</td>\n",
       "      <td>2360.000000</td>\n",
       "      <td>10083.000000</td>\n",
       "      <td>291.000000</td>\n",
       "    </tr>\n",
       "    <tr>\n",
       "      <th>max</th>\n",
       "      <td>9.900000e+09</td>\n",
       "      <td>7.700000e+06</td>\n",
       "      <td>33.000000</td>\n",
       "      <td>8.000000</td>\n",
       "      <td>13540.000000</td>\n",
       "      <td>1.651359e+06</td>\n",
       "      <td>3.500000</td>\n",
       "      <td>1.000000</td>\n",
       "      <td>4.000000</td>\n",
       "      <td>5.000000</td>\n",
       "      <td>13.000000</td>\n",
       "      <td>9410.000000</td>\n",
       "      <td>4820.000000</td>\n",
       "      <td>2015.000000</td>\n",
       "      <td>2015.000000</td>\n",
       "      <td>98199.000000</td>\n",
       "      <td>47.777600</td>\n",
       "      <td>-121.315000</td>\n",
       "      <td>6210.000000</td>\n",
       "      <td>871200.000000</td>\n",
       "      <td>390.000000</td>\n",
       "    </tr>\n",
       "  </tbody>\n",
       "</table>\n",
       "</div>"
      ],
      "text/plain": [
       "                 id         price  ...     sqft_lot15          days\n",
       "count  2.161300e+04  2.161300e+04  ...   21613.000000  21613.000000\n",
       "mean   4.580302e+09  5.400881e+05  ...   12768.455652    180.193078\n",
       "std    2.876566e+09  3.671272e+05  ...   27304.179631    113.048011\n",
       "min    1.000102e+06  7.500000e+04  ...     651.000000      0.000000\n",
       "25%    2.123049e+09  3.219500e+05  ...    5100.000000     81.000000\n",
       "50%    3.904930e+09  4.500000e+05  ...    7620.000000    167.000000\n",
       "75%    7.308900e+09  6.450000e+05  ...   10083.000000    291.000000\n",
       "max    9.900000e+09  7.700000e+06  ...  871200.000000    390.000000\n",
       "\n",
       "[8 rows x 21 columns]"
      ]
     },
     "execution_count": 14,
     "metadata": {
      "tags": []
     },
     "output_type": "execute_result"
    }
   ],
   "source": [
    "data.describe()\n",
    "# Check if there are null values?"
   ]
  },
  {
   "cell_type": "code",
   "execution_count": null,
   "metadata": {
    "colab": {
     "base_uri": "https://localhost:8080/",
     "height": 302
    },
    "colab_type": "code",
    "executionInfo": {
     "elapsed": 4235,
     "status": "ok",
     "timestamp": 1563521045798,
     "user": {
      "displayName": "Juan Beltran",
      "photoUrl": "https://lh4.googleusercontent.com/-59JSx7DE41I/AAAAAAAAAAI/AAAAAAAAAA0/DsgO9eXs3cI/s64/photo.jpg",
      "userId": "06395049194550718667"
     },
     "user_tz": -60
    },
    "id": "akAAOwqgsORh",
    "outputId": "d4b4d486-8379-414f-c3c8-5bfdbffa9d91"
   },
   "outputs": [
    {
     "data": {
      "text/plain": [
       "<matplotlib.axes._subplots.AxesSubplot at 0x7f9f9f6affd0>"
      ]
     },
     "execution_count": 15,
     "metadata": {
      "tags": []
     },
     "output_type": "execute_result"
    },
    {
     "data": {
      "image/png": "[encoded data removed]",
      "text/plain": [
       "<Figure size 432x288 with 1 Axes>"
      ]
     },
     "metadata": {
      "tags": []
     },
     "output_type": "display_data"
    }
   ],
   "source": [
    "sns.scatterplot(x=\"sqft_living\", y=\"price\", data=data)"
   ]
  },
  {
   "cell_type": "code",
   "execution_count": null,
   "metadata": {
    "colab": {
     "base_uri": "https://localhost:8080/",
     "height": 35
    },
    "colab_type": "code",
    "executionInfo": {
     "elapsed": 3755,
     "status": "ok",
     "timestamp": 1563521045799,
     "user": {
      "displayName": "Juan Beltran",
      "photoUrl": "https://lh4.googleusercontent.com/-59JSx7DE41I/AAAAAAAAAAI/AAAAAAAAAA0/DsgO9eXs3cI/s64/photo.jpg",
      "userId": "06395049194550718667"
     },
     "user_tz": -60
    },
    "id": "z9pHZY37sZqI",
    "outputId": "a5f57e1a-bb08-44d6-94f2-b7a942c9be85"
   },
   "outputs": [
    {
     "data": {
      "text/plain": [
       "10"
      ]
     },
     "execution_count": 16,
     "metadata": {
      "tags": []
     },
     "output_type": "execute_result"
    }
   ],
   "source": [
    "sum(data[\"bathrooms\"]== ____)"
   ]
  },
  {
   "cell_type": "code",
   "execution_count": null,
   "metadata": {
    "colab": {
     "base_uri": "https://localhost:8080/",
     "height": 35
    },
    "colab_type": "code",
    "executionInfo": {
     "elapsed": 3374,
     "status": "ok",
     "timestamp": 1563521045800,
     "user": {
      "displayName": "Juan Beltran",
      "photoUrl": "https://lh4.googleusercontent.com/-59JSx7DE41I/AAAAAAAAAAI/AAAAAAAAAA0/DsgO9eXs3cI/s64/photo.jpg",
      "userId": "06395049194550718667"
     },
     "user_tz": -60
    },
    "id": "RMg0Y-rZtQUP",
    "outputId": "7a8079ce-d17b-4d7d-ca26-f3eee34d5e67"
   },
   "outputs": [
    {
     "data": {
      "text/plain": [
       "13"
      ]
     },
     "execution_count": 17,
     "metadata": {
      "tags": []
     },
     "output_type": "execute_result"
    }
   ],
   "source": [
    "sum(data[\"bedrooms\"]== ____)"
   ]
  },
  {
   "cell_type": "code",
   "execution_count": null,
   "metadata": {
    "colab": {
     "base_uri": "https://localhost:8080/",
     "height": 35
    },
    "colab_type": "code",
    "executionInfo": {
     "elapsed": 3291,
     "status": "ok",
     "timestamp": 1563521045801,
     "user": {
      "displayName": "Juan Beltran",
      "photoUrl": "https://lh4.googleusercontent.com/-59JSx7DE41I/AAAAAAAAAAI/AAAAAAAAAA0/DsgO9eXs3cI/s64/photo.jpg",
      "userId": "06395049194550718667"
     },
     "user_tz": -60
    },
    "id": "UX2FI0vctne2",
    "outputId": "7d012df8-e233-454d-f8d2-b85de374829d"
   },
   "outputs": [
    {
     "data": {
      "text/plain": [
       "(21613, 22)"
      ]
     },
     "execution_count": 18,
     "metadata": {
      "tags": []
     },
     "output_type": "execute_result"
    }
   ],
   "source": [
    "data.shape"
   ]
  },
  {
   "cell_type": "code",
   "execution_count": null,
   "metadata": {
    "colab": {
     "base_uri": "https://localhost:8080/",
     "height": 35
    },
    "colab_type": "code",
    "executionInfo": {
     "elapsed": 4451,
     "status": "ok",
     "timestamp": 1563521047346,
     "user": {
      "displayName": "Juan Beltran",
      "photoUrl": "https://lh4.googleusercontent.com/-59JSx7DE41I/AAAAAAAAAAI/AAAAAAAAAA0/DsgO9eXs3cI/s64/photo.jpg",
      "userId": "06395049194550718667"
     },
     "user_tz": -60
    },
    "id": "Dw0z-gaBvoq8",
    "outputId": "16019fff-a055-4083-b243-9c522824cf2e"
   },
   "outputs": [
    {
     "data": {
      "text/plain": [
       "Int64Index([875, 1149, 3119, 5832, 6994, 9773, 9854, 10481, 14423, 19452], dtype='int64')"
      ]
     },
     "execution_count": 19,
     "metadata": {
      "tags": []
     },
     "output_type": "execute_result"
    }
   ],
   "source": [
    "data[data[\"bathrooms\"]== ____].index"
   ]
  },
  {
   "cell_type": "code",
   "execution_count": null,
   "metadata": {
    "colab": {
     "base_uri": "https://localhost:8080/",
     "height": 69
    },
    "colab_type": "code",
    "executionInfo": {
     "elapsed": 4200,
     "status": "ok",
     "timestamp": 1563521047347,
     "user": {
      "displayName": "Juan Beltran",
      "photoUrl": "https://lh4.googleusercontent.com/-59JSx7DE41I/AAAAAAAAAAI/AAAAAAAAAA0/DsgO9eXs3cI/s64/photo.jpg",
      "userId": "06395049194550718667"
     },
     "user_tz": -60
    },
    "id": "duhiO7saxTI9",
    "outputId": "5b98c51d-153f-4cd9-f9ab-ad66ed3b7632"
   },
   "outputs": [
    {
     "data": {
      "text/plain": [
       "Int64Index([875, 3119, 3467, 4868, 6994, 8477, 8484, 9773, 9854, 12653, 14423,\n",
       "            18379, 19452],\n",
       "           dtype='int64')"
      ]
     },
     "execution_count": 20,
     "metadata": {
      "tags": []
     },
     "output_type": "execute_result"
    }
   ],
   "source": [
    "data[data[\"bedrooms\"]== ____].index"
   ]
  },
  {
   "cell_type": "code",
   "execution_count": null,
   "metadata": {
    "colab": {
     "base_uri": "https://localhost:8080/",
     "height": 35
    },
    "colab_type": "code",
    "executionInfo": {
     "elapsed": 3434,
     "status": "ok",
     "timestamp": 1563521047348,
     "user": {
      "displayName": "Juan Beltran",
      "photoUrl": "https://lh4.googleusercontent.com/-59JSx7DE41I/AAAAAAAAAAI/AAAAAAAAAA0/DsgO9eXs3cI/s64/photo.jpg",
      "userId": "06395049194550718667"
     },
     "user_tz": -60
    },
    "id": "couQkWiA038H",
    "outputId": "f66f6f35-be1a-4742-9075-295fd4c87822"
   },
   "outputs": [
    {
     "name": "stdout",
     "output_type": "stream",
     "text": [
      "(16, 22)\n"
     ]
    }
   ],
   "source": [
    "print(___.shape)\n",
    "index_to_drop = ____.index"
   ]
  },
  {
   "cell_type": "code",
   "execution_count": null,
   "metadata": {
    "colab": {},
    "colab_type": "code",
    "id": "qmyVJXF6_bRR"
   },
   "outputs": [],
   "source": [
    "data.drop(index_to_drop, inplace =True)"
   ]
  },
  {
   "cell_type": "code",
   "execution_count": null,
   "metadata": {
    "colab": {
     "base_uri": "https://localhost:8080/",
     "height": 308
    },
    "colab_type": "code",
    "executionInfo": {
     "elapsed": 2333,
     "status": "ok",
     "timestamp": 1563521047350,
     "user": {
      "displayName": "Juan Beltran",
      "photoUrl": "https://lh4.googleusercontent.com/-59JSx7DE41I/AAAAAAAAAAI/AAAAAAAAAA0/DsgO9eXs3cI/s64/photo.jpg",
      "userId": "06395049194550718667"
     },
     "user_tz": -60
    },
    "id": "0mpOsXygLKK-",
    "outputId": "1c54883b-96c8-48cf-edaf-7365cb682e90"
   },
   "outputs": [
    {
     "data": {
      "text/html": [
       "<div>\n",
       "<style scoped>\n",
       "    .dataframe tbody tr th:only-of-type {\n",
       "        vertical-align: middle;\n",
       "    }\n",
       "\n",
       "    .dataframe tbody tr th {\n",
       "        vertical-align: top;\n",
       "    }\n",
       "\n",
       "    .dataframe thead th {\n",
       "        text-align: right;\n",
       "    }\n",
       "</style>\n",
       "<table border=\"1\" class=\"dataframe\">\n",
       "  <thead>\n",
       "    <tr style=\"text-align: right;\">\n",
       "      <th></th>\n",
       "      <th>id</th>\n",
       "      <th>price</th>\n",
       "      <th>bedrooms</th>\n",
       "      <th>bathrooms</th>\n",
       "      <th>sqft_living</th>\n",
       "      <th>sqft_lot</th>\n",
       "      <th>floors</th>\n",
       "      <th>waterfront</th>\n",
       "      <th>view</th>\n",
       "      <th>condition</th>\n",
       "      <th>grade</th>\n",
       "      <th>sqft_above</th>\n",
       "      <th>sqft_basement</th>\n",
       "      <th>yr_built</th>\n",
       "      <th>yr_renovated</th>\n",
       "      <th>zipcode</th>\n",
       "      <th>lat</th>\n",
       "      <th>long</th>\n",
       "      <th>sqft_living15</th>\n",
       "      <th>sqft_lot15</th>\n",
       "      <th>days</th>\n",
       "    </tr>\n",
       "  </thead>\n",
       "  <tbody>\n",
       "    <tr>\n",
       "      <th>count</th>\n",
       "      <td>2.159700e+04</td>\n",
       "      <td>2.159700e+04</td>\n",
       "      <td>21597.000000</td>\n",
       "      <td>21597.000000</td>\n",
       "      <td>21597.000000</td>\n",
       "      <td>2.159700e+04</td>\n",
       "      <td>21597.000000</td>\n",
       "      <td>21597.000000</td>\n",
       "      <td>21597.000000</td>\n",
       "      <td>21597.000000</td>\n",
       "      <td>21597.000000</td>\n",
       "      <td>21597.000000</td>\n",
       "      <td>21597.000000</td>\n",
       "      <td>21597.000000</td>\n",
       "      <td>21597.000000</td>\n",
       "      <td>21597.000000</td>\n",
       "      <td>21597.000000</td>\n",
       "      <td>21597.000000</td>\n",
       "      <td>21597.000000</td>\n",
       "      <td>21597.000000</td>\n",
       "      <td>21597.000000</td>\n",
       "    </tr>\n",
       "    <tr>\n",
       "      <th>mean</th>\n",
       "      <td>4.580474e+09</td>\n",
       "      <td>5.402029e+05</td>\n",
       "      <td>3.373200</td>\n",
       "      <td>2.115826</td>\n",
       "      <td>2080.321850</td>\n",
       "      <td>1.509941e+04</td>\n",
       "      <td>1.494096</td>\n",
       "      <td>0.007547</td>\n",
       "      <td>0.234292</td>\n",
       "      <td>3.409825</td>\n",
       "      <td>7.657915</td>\n",
       "      <td>1788.596842</td>\n",
       "      <td>291.725008</td>\n",
       "      <td>1970.999676</td>\n",
       "      <td>84.464787</td>\n",
       "      <td>98077.951845</td>\n",
       "      <td>47.560093</td>\n",
       "      <td>-122.213982</td>\n",
       "      <td>1986.620318</td>\n",
       "      <td>12758.283512</td>\n",
       "      <td>180.180997</td>\n",
       "    </tr>\n",
       "    <tr>\n",
       "      <th>std</th>\n",
       "      <td>2.876736e+09</td>\n",
       "      <td>3.671337e+05</td>\n",
       "      <td>0.926299</td>\n",
       "      <td>0.768984</td>\n",
       "      <td>918.106125</td>\n",
       "      <td>4.141264e+04</td>\n",
       "      <td>0.539683</td>\n",
       "      <td>0.086549</td>\n",
       "      <td>0.766390</td>\n",
       "      <td>0.650546</td>\n",
       "      <td>1.173200</td>\n",
       "      <td>827.759761</td>\n",
       "      <td>442.667800</td>\n",
       "      <td>29.375234</td>\n",
       "      <td>401.821438</td>\n",
       "      <td>53.513072</td>\n",
       "      <td>0.138552</td>\n",
       "      <td>0.140724</td>\n",
       "      <td>685.230472</td>\n",
       "      <td>27274.441950</td>\n",
       "      <td>113.059987</td>\n",
       "    </tr>\n",
       "    <tr>\n",
       "      <th>min</th>\n",
       "      <td>1.000102e+06</td>\n",
       "      <td>7.800000e+04</td>\n",
       "      <td>1.000000</td>\n",
       "      <td>0.500000</td>\n",
       "      <td>370.000000</td>\n",
       "      <td>5.200000e+02</td>\n",
       "      <td>1.000000</td>\n",
       "      <td>0.000000</td>\n",
       "      <td>0.000000</td>\n",
       "      <td>1.000000</td>\n",
       "      <td>3.000000</td>\n",
       "      <td>370.000000</td>\n",
       "      <td>0.000000</td>\n",
       "      <td>1900.000000</td>\n",
       "      <td>0.000000</td>\n",
       "      <td>98001.000000</td>\n",
       "      <td>47.155900</td>\n",
       "      <td>-122.519000</td>\n",
       "      <td>399.000000</td>\n",
       "      <td>651.000000</td>\n",
       "      <td>0.000000</td>\n",
       "    </tr>\n",
       "    <tr>\n",
       "      <th>25%</th>\n",
       "      <td>2.123049e+09</td>\n",
       "      <td>3.220000e+05</td>\n",
       "      <td>3.000000</td>\n",
       "      <td>1.750000</td>\n",
       "      <td>1430.000000</td>\n",
       "      <td>5.040000e+03</td>\n",
       "      <td>1.000000</td>\n",
       "      <td>0.000000</td>\n",
       "      <td>0.000000</td>\n",
       "      <td>3.000000</td>\n",
       "      <td>7.000000</td>\n",
       "      <td>1190.000000</td>\n",
       "      <td>0.000000</td>\n",
       "      <td>1951.000000</td>\n",
       "      <td>0.000000</td>\n",
       "      <td>98033.000000</td>\n",
       "      <td>47.471100</td>\n",
       "      <td>-122.328000</td>\n",
       "      <td>1490.000000</td>\n",
       "      <td>5100.000000</td>\n",
       "      <td>81.000000</td>\n",
       "    </tr>\n",
       "    <tr>\n",
       "      <th>50%</th>\n",
       "      <td>3.904930e+09</td>\n",
       "      <td>4.500000e+05</td>\n",
       "      <td>3.000000</td>\n",
       "      <td>2.250000</td>\n",
       "      <td>1910.000000</td>\n",
       "      <td>7.618000e+03</td>\n",
       "      <td>1.500000</td>\n",
       "      <td>0.000000</td>\n",
       "      <td>0.000000</td>\n",
       "      <td>3.000000</td>\n",
       "      <td>7.000000</td>\n",
       "      <td>1560.000000</td>\n",
       "      <td>0.000000</td>\n",
       "      <td>1975.000000</td>\n",
       "      <td>0.000000</td>\n",
       "      <td>98065.000000</td>\n",
       "      <td>47.571800</td>\n",
       "      <td>-122.231000</td>\n",
       "      <td>1840.000000</td>\n",
       "      <td>7620.000000</td>\n",
       "      <td>167.000000</td>\n",
       "    </tr>\n",
       "    <tr>\n",
       "      <th>75%</th>\n",
       "      <td>7.308900e+09</td>\n",
       "      <td>6.450000e+05</td>\n",
       "      <td>4.000000</td>\n",
       "      <td>2.500000</td>\n",
       "      <td>2550.000000</td>\n",
       "      <td>1.068500e+04</td>\n",
       "      <td>2.000000</td>\n",
       "      <td>0.000000</td>\n",
       "      <td>0.000000</td>\n",
       "      <td>4.000000</td>\n",
       "      <td>8.000000</td>\n",
       "      <td>2210.000000</td>\n",
       "      <td>560.000000</td>\n",
       "      <td>1997.000000</td>\n",
       "      <td>0.000000</td>\n",
       "      <td>98118.000000</td>\n",
       "      <td>47.678000</td>\n",
       "      <td>-122.125000</td>\n",
       "      <td>2360.000000</td>\n",
       "      <td>10083.000000</td>\n",
       "      <td>291.000000</td>\n",
       "    </tr>\n",
       "    <tr>\n",
       "      <th>max</th>\n",
       "      <td>9.900000e+09</td>\n",
       "      <td>7.700000e+06</td>\n",
       "      <td>33.000000</td>\n",
       "      <td>8.000000</td>\n",
       "      <td>13540.000000</td>\n",
       "      <td>1.651359e+06</td>\n",
       "      <td>3.500000</td>\n",
       "      <td>1.000000</td>\n",
       "      <td>4.000000</td>\n",
       "      <td>5.000000</td>\n",
       "      <td>13.000000</td>\n",
       "      <td>9410.000000</td>\n",
       "      <td>4820.000000</td>\n",
       "      <td>2015.000000</td>\n",
       "      <td>2015.000000</td>\n",
       "      <td>98199.000000</td>\n",
       "      <td>47.777600</td>\n",
       "      <td>-121.315000</td>\n",
       "      <td>6210.000000</td>\n",
       "      <td>871200.000000</td>\n",
       "      <td>390.000000</td>\n",
       "    </tr>\n",
       "  </tbody>\n",
       "</table>\n",
       "</div>"
      ],
      "text/plain": [
       "                 id         price  ...     sqft_lot15          days\n",
       "count  2.159700e+04  2.159700e+04  ...   21597.000000  21597.000000\n",
       "mean   4.580474e+09  5.402029e+05  ...   12758.283512    180.180997\n",
       "std    2.876736e+09  3.671337e+05  ...   27274.441950    113.059987\n",
       "min    1.000102e+06  7.800000e+04  ...     651.000000      0.000000\n",
       "25%    2.123049e+09  3.220000e+05  ...    5100.000000     81.000000\n",
       "50%    3.904930e+09  4.500000e+05  ...    7620.000000    167.000000\n",
       "75%    7.308900e+09  6.450000e+05  ...   10083.000000    291.000000\n",
       "max    9.900000e+09  7.700000e+06  ...  871200.000000    390.000000\n",
       "\n",
       "[8 rows x 21 columns]"
      ]
     },
     "execution_count": 23,
     "metadata": {
      "tags": []
     },
     "output_type": "execute_result"
    }
   ],
   "source": [
    "data.describe()"
   ]
  },
  {
   "cell_type": "code",
   "execution_count": null,
   "metadata": {
    "colab": {
     "base_uri": "https://localhost:8080/",
     "height": 301
    },
    "colab_type": "code",
    "executionInfo": {
     "elapsed": 3303,
     "status": "ok",
     "timestamp": 1563521049315,
     "user": {
      "displayName": "Juan Beltran",
      "photoUrl": "https://lh4.googleusercontent.com/-59JSx7DE41I/AAAAAAAAAAI/AAAAAAAAAA0/DsgO9eXs3cI/s64/photo.jpg",
      "userId": "06395049194550718667"
     },
     "user_tz": -60
    },
    "id": "3c9FbOQ4LL1W",
    "outputId": "41c4b20b-4c15-49f9-d144-bc03154cb1a4"
   },
   "outputs": [
    {
     "data": {
      "text/plain": [
       "<matplotlib.axes._subplots.AxesSubplot at 0x7f9f9f61cbe0>"
      ]
     },
     "execution_count": 24,
     "metadata": {
      "tags": []
     },
     "output_type": "execute_result"
    },
    {
     "data": {
      "image/png": "[encoded data removed]",
      "text/plain": [
       "<Figure size 432x288 with 1 Axes>"
      ]
     },
     "metadata": {
      "tags": []
     },
     "output_type": "display_data"
    }
   ],
   "source": [
    "sns.boxplot(data[\"bedrooms\"])"
   ]
  },
  {
   "cell_type": "code",
   "execution_count": null,
   "metadata": {
    "colab": {
     "base_uri": "https://localhost:8080/",
     "height": 115
    },
    "colab_type": "code",
    "executionInfo": {
     "elapsed": 3209,
     "status": "ok",
     "timestamp": 1563521049316,
     "user": {
      "displayName": "Juan Beltran",
      "photoUrl": "https://lh4.googleusercontent.com/-59JSx7DE41I/AAAAAAAAAAI/AAAAAAAAAA0/DsgO9eXs3cI/s64/photo.jpg",
      "userId": "06395049194550718667"
     },
     "user_tz": -60
    },
    "id": "PKiVhJUgMBTG",
    "outputId": "b4d4fbfb-380f-4042-8e65-0fd2a46e0d3f"
   },
   "outputs": [
    {
     "data": {
      "text/html": [
       "<div>\n",
       "<style scoped>\n",
       "    .dataframe tbody tr th:only-of-type {\n",
       "        vertical-align: middle;\n",
       "    }\n",
       "\n",
       "    .dataframe tbody tr th {\n",
       "        vertical-align: top;\n",
       "    }\n",
       "\n",
       "    .dataframe thead th {\n",
       "        text-align: right;\n",
       "    }\n",
       "</style>\n",
       "<table border=\"1\" class=\"dataframe\">\n",
       "  <thead>\n",
       "    <tr style=\"text-align: right;\">\n",
       "      <th></th>\n",
       "      <th>id</th>\n",
       "      <th>date</th>\n",
       "      <th>price</th>\n",
       "      <th>bedrooms</th>\n",
       "      <th>bathrooms</th>\n",
       "      <th>sqft_living</th>\n",
       "      <th>sqft_lot</th>\n",
       "      <th>floors</th>\n",
       "      <th>waterfront</th>\n",
       "      <th>view</th>\n",
       "      <th>condition</th>\n",
       "      <th>grade</th>\n",
       "      <th>sqft_above</th>\n",
       "      <th>sqft_basement</th>\n",
       "      <th>yr_built</th>\n",
       "      <th>yr_renovated</th>\n",
       "      <th>zipcode</th>\n",
       "      <th>lat</th>\n",
       "      <th>long</th>\n",
       "      <th>sqft_living15</th>\n",
       "      <th>sqft_lot15</th>\n",
       "      <th>days</th>\n",
       "    </tr>\n",
       "  </thead>\n",
       "  <tbody>\n",
       "    <tr>\n",
       "      <th>15870</th>\n",
       "      <td>2402100895</td>\n",
       "      <td>2014-06-25</td>\n",
       "      <td>640000</td>\n",
       "      <td>33</td>\n",
       "      <td>1.75</td>\n",
       "      <td>1620</td>\n",
       "      <td>6000</td>\n",
       "      <td>1.0</td>\n",
       "      <td>0</td>\n",
       "      <td>0</td>\n",
       "      <td>5</td>\n",
       "      <td>7</td>\n",
       "      <td>1040</td>\n",
       "      <td>580</td>\n",
       "      <td>1947</td>\n",
       "      <td>0</td>\n",
       "      <td>98103</td>\n",
       "      <td>47.6878</td>\n",
       "      <td>-122.331</td>\n",
       "      <td>1330</td>\n",
       "      <td>4700</td>\n",
       "      <td>54</td>\n",
       "    </tr>\n",
       "  </tbody>\n",
       "</table>\n",
       "</div>"
      ],
      "text/plain": [
       "               id       date   price  ...  sqft_living15  sqft_lot15  days\n",
       "15870  2402100895 2014-06-25  640000  ...           1330        4700    54\n",
       "\n",
       "[1 rows x 22 columns]"
      ]
     },
     "execution_count": 25,
     "metadata": {
      "tags": []
     },
     "output_type": "execute_result"
    }
   ],
   "source": [
    "data[data[\"bedrooms\"]==33]"
   ]
  },
  {
   "cell_type": "code",
   "execution_count": null,
   "metadata": {
    "colab": {},
    "colab_type": "code",
    "id": "s742AEp3MSML"
   },
   "outputs": [],
   "source": [
    "data = data[data[\"bedrooms\"]!=33]"
   ]
  },
  {
   "cell_type": "code",
   "execution_count": null,
   "metadata": {
    "colab": {
     "base_uri": "https://localhost:8080/",
     "height": 698
    },
    "colab_type": "code",
    "executionInfo": {
     "elapsed": 1979,
     "status": "ok",
     "timestamp": 1563521050168,
     "user": {
      "displayName": "Juan Beltran",
      "photoUrl": "https://lh4.googleusercontent.com/-59JSx7DE41I/AAAAAAAAAAI/AAAAAAAAAA0/DsgO9eXs3cI/s64/photo.jpg",
      "userId": "06395049194550718667"
     },
     "user_tz": -60
    },
    "id": "-9C9KGayMufK",
    "outputId": "cadf5a91-3861-4f09-d05d-0da011186a45"
   },
   "outputs": [
    {
     "data": {
      "text/html": [
       "<div>\n",
       "<style scoped>\n",
       "    .dataframe tbody tr th:only-of-type {\n",
       "        vertical-align: middle;\n",
       "    }\n",
       "\n",
       "    .dataframe tbody tr th {\n",
       "        vertical-align: top;\n",
       "    }\n",
       "\n",
       "    .dataframe thead th {\n",
       "        text-align: right;\n",
       "    }\n",
       "</style>\n",
       "<table border=\"1\" class=\"dataframe\">\n",
       "  <thead>\n",
       "    <tr style=\"text-align: right;\">\n",
       "      <th></th>\n",
       "      <th>id</th>\n",
       "      <th>price</th>\n",
       "      <th>bedrooms</th>\n",
       "      <th>bathrooms</th>\n",
       "      <th>sqft_living</th>\n",
       "      <th>sqft_lot</th>\n",
       "      <th>floors</th>\n",
       "      <th>waterfront</th>\n",
       "      <th>view</th>\n",
       "      <th>condition</th>\n",
       "      <th>grade</th>\n",
       "      <th>sqft_above</th>\n",
       "      <th>sqft_basement</th>\n",
       "      <th>yr_built</th>\n",
       "      <th>yr_renovated</th>\n",
       "      <th>zipcode</th>\n",
       "      <th>lat</th>\n",
       "      <th>long</th>\n",
       "      <th>sqft_living15</th>\n",
       "      <th>sqft_lot15</th>\n",
       "      <th>days</th>\n",
       "    </tr>\n",
       "  </thead>\n",
       "  <tbody>\n",
       "    <tr>\n",
       "      <th>id</th>\n",
       "      <td>1.000000</td>\n",
       "      <td>-0.016727</td>\n",
       "      <td>0.002328</td>\n",
       "      <td>0.005145</td>\n",
       "      <td>-0.012258</td>\n",
       "      <td>-0.131920</td>\n",
       "      <td>0.018576</td>\n",
       "      <td>-0.002730</td>\n",
       "      <td>0.011526</td>\n",
       "      <td>-0.023721</td>\n",
       "      <td>0.008169</td>\n",
       "      <td>-0.010831</td>\n",
       "      <td>-0.005170</td>\n",
       "      <td>0.021589</td>\n",
       "      <td>-0.016933</td>\n",
       "      <td>-0.008195</td>\n",
       "      <td>-0.001766</td>\n",
       "      <td>0.020643</td>\n",
       "      <td>-0.002734</td>\n",
       "      <td>-0.138570</td>\n",
       "      <td>0.005346</td>\n",
       "    </tr>\n",
       "    <tr>\n",
       "      <th>price</th>\n",
       "      <td>-0.016727</td>\n",
       "      <td>1.000000</td>\n",
       "      <td>0.315966</td>\n",
       "      <td>0.525915</td>\n",
       "      <td>0.701921</td>\n",
       "      <td>0.089885</td>\n",
       "      <td>0.256831</td>\n",
       "      <td>0.266438</td>\n",
       "      <td>0.397323</td>\n",
       "      <td>0.036000</td>\n",
       "      <td>0.667935</td>\n",
       "      <td>0.605395</td>\n",
       "      <td>0.323772</td>\n",
       "      <td>0.053995</td>\n",
       "      <td>0.126418</td>\n",
       "      <td>-0.053443</td>\n",
       "      <td>0.306772</td>\n",
       "      <td>0.022103</td>\n",
       "      <td>0.585273</td>\n",
       "      <td>0.082841</td>\n",
       "      <td>-0.003976</td>\n",
       "    </tr>\n",
       "    <tr>\n",
       "      <th>bedrooms</th>\n",
       "      <td>0.002328</td>\n",
       "      <td>0.315966</td>\n",
       "      <td>1.000000</td>\n",
       "      <td>0.527870</td>\n",
       "      <td>0.593178</td>\n",
       "      <td>0.033602</td>\n",
       "      <td>0.183707</td>\n",
       "      <td>-0.006869</td>\n",
       "      <td>0.082437</td>\n",
       "      <td>0.023440</td>\n",
       "      <td>0.366174</td>\n",
       "      <td>0.492543</td>\n",
       "      <td>0.309261</td>\n",
       "      <td>0.160736</td>\n",
       "      <td>0.019160</td>\n",
       "      <td>-0.158588</td>\n",
       "      <td>-0.011595</td>\n",
       "      <td>0.136561</td>\n",
       "      <td>0.404532</td>\n",
       "      <td>0.031892</td>\n",
       "      <td>-0.015236</td>\n",
       "    </tr>\n",
       "    <tr>\n",
       "      <th>bathrooms</th>\n",
       "      <td>0.005145</td>\n",
       "      <td>0.525915</td>\n",
       "      <td>0.527870</td>\n",
       "      <td>1.000000</td>\n",
       "      <td>0.755755</td>\n",
       "      <td>0.088368</td>\n",
       "      <td>0.502574</td>\n",
       "      <td>0.063742</td>\n",
       "      <td>0.188381</td>\n",
       "      <td>-0.126443</td>\n",
       "      <td>0.665834</td>\n",
       "      <td>0.686664</td>\n",
       "      <td>0.283459</td>\n",
       "      <td>0.507166</td>\n",
       "      <td>0.050540</td>\n",
       "      <td>-0.204778</td>\n",
       "      <td>0.024301</td>\n",
       "      <td>0.224889</td>\n",
       "      <td>0.569878</td>\n",
       "      <td>0.088297</td>\n",
       "      <td>-0.034262</td>\n",
       "    </tr>\n",
       "    <tr>\n",
       "      <th>sqft_living</th>\n",
       "      <td>-0.012258</td>\n",
       "      <td>0.701921</td>\n",
       "      <td>0.593178</td>\n",
       "      <td>0.755755</td>\n",
       "      <td>1.000000</td>\n",
       "      <td>0.173449</td>\n",
       "      <td>0.353941</td>\n",
       "      <td>0.103853</td>\n",
       "      <td>0.284704</td>\n",
       "      <td>-0.059397</td>\n",
       "      <td>0.762776</td>\n",
       "      <td>0.876448</td>\n",
       "      <td>0.435152</td>\n",
       "      <td>0.318140</td>\n",
       "      <td>0.055303</td>\n",
       "      <td>-0.199793</td>\n",
       "      <td>0.052178</td>\n",
       "      <td>0.241200</td>\n",
       "      <td>0.756400</td>\n",
       "      <td>0.184337</td>\n",
       "      <td>-0.034303</td>\n",
       "    </tr>\n",
       "    <tr>\n",
       "      <th>sqft_lot</th>\n",
       "      <td>-0.131920</td>\n",
       "      <td>0.089885</td>\n",
       "      <td>0.033602</td>\n",
       "      <td>0.088368</td>\n",
       "      <td>0.173449</td>\n",
       "      <td>1.000000</td>\n",
       "      <td>-0.004824</td>\n",
       "      <td>0.021631</td>\n",
       "      <td>0.074897</td>\n",
       "      <td>-0.008806</td>\n",
       "      <td>0.114726</td>\n",
       "      <td>0.184134</td>\n",
       "      <td>0.015424</td>\n",
       "      <td>0.052939</td>\n",
       "      <td>0.007684</td>\n",
       "      <td>-0.129582</td>\n",
       "      <td>-0.085507</td>\n",
       "      <td>0.230222</td>\n",
       "      <td>0.144756</td>\n",
       "      <td>0.718203</td>\n",
       "      <td>0.006326</td>\n",
       "    </tr>\n",
       "    <tr>\n",
       "      <th>floors</th>\n",
       "      <td>0.018576</td>\n",
       "      <td>0.256831</td>\n",
       "      <td>0.183707</td>\n",
       "      <td>0.502574</td>\n",
       "      <td>0.353941</td>\n",
       "      <td>-0.004824</td>\n",
       "      <td>1.000000</td>\n",
       "      <td>0.023752</td>\n",
       "      <td>0.028801</td>\n",
       "      <td>-0.264013</td>\n",
       "      <td>0.458783</td>\n",
       "      <td>0.523970</td>\n",
       "      <td>-0.245694</td>\n",
       "      <td>0.489175</td>\n",
       "      <td>0.006418</td>\n",
       "      <td>-0.059522</td>\n",
       "      <td>0.049280</td>\n",
       "      <td>0.125912</td>\n",
       "      <td>0.280072</td>\n",
       "      <td>-0.010734</td>\n",
       "      <td>-0.022381</td>\n",
       "    </tr>\n",
       "    <tr>\n",
       "      <th>waterfront</th>\n",
       "      <td>-0.002730</td>\n",
       "      <td>0.266438</td>\n",
       "      <td>-0.006869</td>\n",
       "      <td>0.063742</td>\n",
       "      <td>0.103853</td>\n",
       "      <td>0.021631</td>\n",
       "      <td>0.023752</td>\n",
       "      <td>1.000000</td>\n",
       "      <td>0.401970</td>\n",
       "      <td>0.016624</td>\n",
       "      <td>0.082886</td>\n",
       "      <td>0.072106</td>\n",
       "      <td>0.080562</td>\n",
       "      <td>-0.026157</td>\n",
       "      <td>0.092872</td>\n",
       "      <td>0.030274</td>\n",
       "      <td>-0.014302</td>\n",
       "      <td>-0.041908</td>\n",
       "      <td>0.086505</td>\n",
       "      <td>0.030780</td>\n",
       "      <td>0.001361</td>\n",
       "    </tr>\n",
       "    <tr>\n",
       "      <th>view</th>\n",
       "      <td>0.011526</td>\n",
       "      <td>0.397323</td>\n",
       "      <td>0.082437</td>\n",
       "      <td>0.188381</td>\n",
       "      <td>0.284704</td>\n",
       "      <td>0.074897</td>\n",
       "      <td>0.028801</td>\n",
       "      <td>0.401970</td>\n",
       "      <td>1.000000</td>\n",
       "      <td>0.046041</td>\n",
       "      <td>0.251722</td>\n",
       "      <td>0.167600</td>\n",
       "      <td>0.277090</td>\n",
       "      <td>-0.053649</td>\n",
       "      <td>0.103948</td>\n",
       "      <td>0.084629</td>\n",
       "      <td>0.005884</td>\n",
       "      <td>-0.078120</td>\n",
       "      <td>0.280674</td>\n",
       "      <td>0.072900</td>\n",
       "      <td>-0.001741</td>\n",
       "    </tr>\n",
       "    <tr>\n",
       "      <th>condition</th>\n",
       "      <td>-0.023721</td>\n",
       "      <td>0.036000</td>\n",
       "      <td>0.023440</td>\n",
       "      <td>-0.126443</td>\n",
       "      <td>-0.059397</td>\n",
       "      <td>-0.008806</td>\n",
       "      <td>-0.264013</td>\n",
       "      <td>0.016624</td>\n",
       "      <td>0.046041</td>\n",
       "      <td>1.000000</td>\n",
       "      <td>-0.146854</td>\n",
       "      <td>-0.158826</td>\n",
       "      <td>0.173801</td>\n",
       "      <td>-0.361555</td>\n",
       "      <td>-0.060772</td>\n",
       "      <td>0.002835</td>\n",
       "      <td>-0.015209</td>\n",
       "      <td>-0.105800</td>\n",
       "      <td>-0.092979</td>\n",
       "      <td>-0.003093</td>\n",
       "      <td>-0.050765</td>\n",
       "    </tr>\n",
       "    <tr>\n",
       "      <th>grade</th>\n",
       "      <td>0.008169</td>\n",
       "      <td>0.667935</td>\n",
       "      <td>0.366174</td>\n",
       "      <td>0.665834</td>\n",
       "      <td>0.762776</td>\n",
       "      <td>0.114726</td>\n",
       "      <td>0.458783</td>\n",
       "      <td>0.082886</td>\n",
       "      <td>0.251722</td>\n",
       "      <td>-0.146854</td>\n",
       "      <td>1.000000</td>\n",
       "      <td>0.756069</td>\n",
       "      <td>0.168240</td>\n",
       "      <td>0.447854</td>\n",
       "      <td>0.014256</td>\n",
       "      <td>-0.185761</td>\n",
       "      <td>0.113602</td>\n",
       "      <td>0.200324</td>\n",
       "      <td>0.713863</td>\n",
       "      <td>0.120974</td>\n",
       "      <td>-0.039803</td>\n",
       "    </tr>\n",
       "    <tr>\n",
       "      <th>sqft_above</th>\n",
       "      <td>-0.010831</td>\n",
       "      <td>0.605395</td>\n",
       "      <td>0.492543</td>\n",
       "      <td>0.686664</td>\n",
       "      <td>0.876448</td>\n",
       "      <td>0.184134</td>\n",
       "      <td>0.523970</td>\n",
       "      <td>0.072106</td>\n",
       "      <td>0.167600</td>\n",
       "      <td>-0.158826</td>\n",
       "      <td>0.756069</td>\n",
       "      <td>1.000000</td>\n",
       "      <td>-0.052130</td>\n",
       "      <td>0.424017</td>\n",
       "      <td>0.023242</td>\n",
       "      <td>-0.261557</td>\n",
       "      <td>-0.001160</td>\n",
       "      <td>0.344819</td>\n",
       "      <td>0.731756</td>\n",
       "      <td>0.195069</td>\n",
       "      <td>-0.027686</td>\n",
       "    </tr>\n",
       "    <tr>\n",
       "      <th>sqft_basement</th>\n",
       "      <td>-0.005170</td>\n",
       "      <td>0.323772</td>\n",
       "      <td>0.309261</td>\n",
       "      <td>0.283459</td>\n",
       "      <td>0.435152</td>\n",
       "      <td>0.015424</td>\n",
       "      <td>-0.245694</td>\n",
       "      <td>0.080562</td>\n",
       "      <td>0.277090</td>\n",
       "      <td>0.173801</td>\n",
       "      <td>0.168240</td>\n",
       "      <td>-0.052130</td>\n",
       "      <td>1.000000</td>\n",
       "      <td>-0.133043</td>\n",
       "      <td>0.071240</td>\n",
       "      <td>0.074712</td>\n",
       "      <td>0.110389</td>\n",
       "      <td>-0.144525</td>\n",
       "      <td>0.200478</td>\n",
       "      <td>0.017559</td>\n",
       "      <td>-0.019374</td>\n",
       "    </tr>\n",
       "    <tr>\n",
       "      <th>yr_built</th>\n",
       "      <td>0.021589</td>\n",
       "      <td>0.053995</td>\n",
       "      <td>0.160736</td>\n",
       "      <td>0.507166</td>\n",
       "      <td>0.318140</td>\n",
       "      <td>0.052939</td>\n",
       "      <td>0.489175</td>\n",
       "      <td>-0.026157</td>\n",
       "      <td>-0.053649</td>\n",
       "      <td>-0.361555</td>\n",
       "      <td>0.447854</td>\n",
       "      <td>0.424017</td>\n",
       "      <td>-0.133043</td>\n",
       "      <td>1.000000</td>\n",
       "      <td>-0.224919</td>\n",
       "      <td>-0.347199</td>\n",
       "      <td>-0.148340</td>\n",
       "      <td>0.409974</td>\n",
       "      <td>0.326353</td>\n",
       "      <td>0.070767</td>\n",
       "      <td>-0.000322</td>\n",
       "    </tr>\n",
       "    <tr>\n",
       "      <th>yr_renovated</th>\n",
       "      <td>-0.016933</td>\n",
       "      <td>0.126418</td>\n",
       "      <td>0.019160</td>\n",
       "      <td>0.050540</td>\n",
       "      <td>0.055303</td>\n",
       "      <td>0.007684</td>\n",
       "      <td>0.006418</td>\n",
       "      <td>0.092872</td>\n",
       "      <td>0.103948</td>\n",
       "      <td>-0.060772</td>\n",
       "      <td>0.014256</td>\n",
       "      <td>0.023242</td>\n",
       "      <td>0.071240</td>\n",
       "      <td>-0.224919</td>\n",
       "      <td>1.000000</td>\n",
       "      <td>0.064330</td>\n",
       "      <td>0.029360</td>\n",
       "      <td>-0.068330</td>\n",
       "      <td>-0.002704</td>\n",
       "      <td>0.007941</td>\n",
       "      <td>-0.024505</td>\n",
       "    </tr>\n",
       "    <tr>\n",
       "      <th>zipcode</th>\n",
       "      <td>-0.008195</td>\n",
       "      <td>-0.053443</td>\n",
       "      <td>-0.158588</td>\n",
       "      <td>-0.204778</td>\n",
       "      <td>-0.199793</td>\n",
       "      <td>-0.129582</td>\n",
       "      <td>-0.059522</td>\n",
       "      <td>0.030274</td>\n",
       "      <td>0.084629</td>\n",
       "      <td>0.002835</td>\n",
       "      <td>-0.185761</td>\n",
       "      <td>-0.261557</td>\n",
       "      <td>0.074712</td>\n",
       "      <td>-0.347199</td>\n",
       "      <td>0.064330</td>\n",
       "      <td>1.000000</td>\n",
       "      <td>0.266729</td>\n",
       "      <td>-0.564253</td>\n",
       "      <td>-0.279286</td>\n",
       "      <td>-0.147288</td>\n",
       "      <td>0.001629</td>\n",
       "    </tr>\n",
       "    <tr>\n",
       "      <th>lat</th>\n",
       "      <td>-0.001766</td>\n",
       "      <td>0.306772</td>\n",
       "      <td>-0.011595</td>\n",
       "      <td>0.024301</td>\n",
       "      <td>0.052178</td>\n",
       "      <td>-0.085507</td>\n",
       "      <td>0.049280</td>\n",
       "      <td>-0.014302</td>\n",
       "      <td>0.005884</td>\n",
       "      <td>-0.015209</td>\n",
       "      <td>0.113602</td>\n",
       "      <td>-0.001160</td>\n",
       "      <td>0.110389</td>\n",
       "      <td>-0.148340</td>\n",
       "      <td>0.029360</td>\n",
       "      <td>0.266729</td>\n",
       "      <td>1.000000</td>\n",
       "      <td>-0.135340</td>\n",
       "      <td>0.048721</td>\n",
       "      <td>-0.086129</td>\n",
       "      <td>-0.032439</td>\n",
       "    </tr>\n",
       "    <tr>\n",
       "      <th>long</th>\n",
       "      <td>0.020643</td>\n",
       "      <td>0.022103</td>\n",
       "      <td>0.136561</td>\n",
       "      <td>0.224889</td>\n",
       "      <td>0.241200</td>\n",
       "      <td>0.230222</td>\n",
       "      <td>0.125912</td>\n",
       "      <td>-0.041908</td>\n",
       "      <td>-0.078120</td>\n",
       "      <td>-0.105800</td>\n",
       "      <td>0.200324</td>\n",
       "      <td>0.344819</td>\n",
       "      <td>-0.144525</td>\n",
       "      <td>0.409974</td>\n",
       "      <td>-0.068330</td>\n",
       "      <td>-0.564253</td>\n",
       "      <td>-0.135340</td>\n",
       "      <td>1.000000</td>\n",
       "      <td>0.335601</td>\n",
       "      <td>0.255579</td>\n",
       "      <td>-0.007272</td>\n",
       "    </tr>\n",
       "    <tr>\n",
       "      <th>sqft_living15</th>\n",
       "      <td>-0.002734</td>\n",
       "      <td>0.585273</td>\n",
       "      <td>0.404532</td>\n",
       "      <td>0.569878</td>\n",
       "      <td>0.756400</td>\n",
       "      <td>0.144756</td>\n",
       "      <td>0.280072</td>\n",
       "      <td>0.086505</td>\n",
       "      <td>0.280674</td>\n",
       "      <td>-0.092979</td>\n",
       "      <td>0.713863</td>\n",
       "      <td>0.731756</td>\n",
       "      <td>0.200478</td>\n",
       "      <td>0.326353</td>\n",
       "      <td>-0.002704</td>\n",
       "      <td>-0.279286</td>\n",
       "      <td>0.048721</td>\n",
       "      <td>0.335601</td>\n",
       "      <td>1.000000</td>\n",
       "      <td>0.183506</td>\n",
       "      <td>-0.031249</td>\n",
       "    </tr>\n",
       "    <tr>\n",
       "      <th>sqft_lot15</th>\n",
       "      <td>-0.138570</td>\n",
       "      <td>0.082841</td>\n",
       "      <td>0.031892</td>\n",
       "      <td>0.088297</td>\n",
       "      <td>0.184337</td>\n",
       "      <td>0.718203</td>\n",
       "      <td>-0.010734</td>\n",
       "      <td>0.030780</td>\n",
       "      <td>0.072900</td>\n",
       "      <td>-0.003093</td>\n",
       "      <td>0.120974</td>\n",
       "      <td>0.195069</td>\n",
       "      <td>0.017559</td>\n",
       "      <td>0.070767</td>\n",
       "      <td>0.007941</td>\n",
       "      <td>-0.147288</td>\n",
       "      <td>-0.086129</td>\n",
       "      <td>0.255579</td>\n",
       "      <td>0.183506</td>\n",
       "      <td>1.000000</td>\n",
       "      <td>0.002574</td>\n",
       "    </tr>\n",
       "    <tr>\n",
       "      <th>days</th>\n",
       "      <td>0.005346</td>\n",
       "      <td>-0.003976</td>\n",
       "      <td>-0.015236</td>\n",
       "      <td>-0.034262</td>\n",
       "      <td>-0.034303</td>\n",
       "      <td>0.006326</td>\n",
       "      <td>-0.022381</td>\n",
       "      <td>0.001361</td>\n",
       "      <td>-0.001741</td>\n",
       "      <td>-0.050765</td>\n",
       "      <td>-0.039803</td>\n",
       "      <td>-0.027686</td>\n",
       "      <td>-0.019374</td>\n",
       "      <td>-0.000322</td>\n",
       "      <td>-0.024505</td>\n",
       "      <td>0.001629</td>\n",
       "      <td>-0.032439</td>\n",
       "      <td>-0.007272</td>\n",
       "      <td>-0.031249</td>\n",
       "      <td>0.002574</td>\n",
       "      <td>1.000000</td>\n",
       "    </tr>\n",
       "  </tbody>\n",
       "</table>\n",
       "</div>"
      ],
      "text/plain": [
       "                     id     price  ...  sqft_lot15      days\n",
       "id             1.000000 -0.016727  ...   -0.138570  0.005346\n",
       "price         -0.016727  1.000000  ...    0.082841 -0.003976\n",
       "bedrooms       0.002328  0.315966  ...    0.031892 -0.015236\n",
       "bathrooms      0.005145  0.525915  ...    0.088297 -0.034262\n",
       "sqft_living   -0.012258  0.701921  ...    0.184337 -0.034303\n",
       "sqft_lot      -0.131920  0.089885  ...    0.718203  0.006326\n",
       "floors         0.018576  0.256831  ...   -0.010734 -0.022381\n",
       "waterfront    -0.002730  0.266438  ...    0.030780  0.001361\n",
       "view           0.011526  0.397323  ...    0.072900 -0.001741\n",
       "condition     -0.023721  0.036000  ...   -0.003093 -0.050765\n",
       "grade          0.008169  0.667935  ...    0.120974 -0.039803\n",
       "sqft_above    -0.010831  0.605395  ...    0.195069 -0.027686\n",
       "sqft_basement -0.005170  0.323772  ...    0.017559 -0.019374\n",
       "yr_built       0.021589  0.053995  ...    0.070767 -0.000322\n",
       "yr_renovated  -0.016933  0.126418  ...    0.007941 -0.024505\n",
       "zipcode       -0.008195 -0.053443  ...   -0.147288  0.001629\n",
       "lat           -0.001766  0.306772  ...   -0.086129 -0.032439\n",
       "long           0.020643  0.022103  ...    0.255579 -0.007272\n",
       "sqft_living15 -0.002734  0.585273  ...    0.183506 -0.031249\n",
       "sqft_lot15    -0.138570  0.082841  ...    1.000000  0.002574\n",
       "days           0.005346 -0.003976  ...    0.002574  1.000000\n",
       "\n",
       "[21 rows x 21 columns]"
      ]
     },
     "execution_count": 27,
     "metadata": {
      "tags": []
     },
     "output_type": "execute_result"
    }
   ],
   "source": [
    "data.corr()"
   ]
  },
  {
   "cell_type": "code",
   "execution_count": null,
   "metadata": {
    "colab": {},
    "colab_type": "code",
    "id": "V_g3HzX_MyVN"
   },
   "outputs": [],
   "source": [
    "# sns.pairplot(data)"
   ]
  },
  {
   "cell_type": "code",
   "execution_count": null,
   "metadata": {
    "colab": {
     "base_uri": "https://localhost:8080/",
     "height": 696
    },
    "colab_type": "code",
    "executionInfo": {
     "elapsed": 5006,
     "status": "ok",
     "timestamp": 1563521053666,
     "user": {
      "displayName": "Juan Beltran",
      "photoUrl": "https://lh4.googleusercontent.com/-59JSx7DE41I/AAAAAAAAAAI/AAAAAAAAAA0/DsgO9eXs3cI/s64/photo.jpg",
      "userId": "06395049194550718667"
     },
     "user_tz": -60
    },
    "id": "GDNobyAsM4vy",
    "outputId": "3fdb2715-5b51-4071-8853-dc6c15c1c298"
   },
   "outputs": [
    {
     "data": {
      "text/plain": [
       "<matplotlib.axes._subplots.AxesSubplot at 0x7f9f9f5fa550>"
      ]
     },
     "execution_count": 29,
     "metadata": {
      "tags": []
     },
     "output_type": "execute_result"
    },
    {
     "data": {
      "image/png": "[encoded data removed]",
      "text/plain": [
       "<Figure size 1440x720 with 2 Axes>"
      ]
     },
     "metadata": {
      "tags": []
     },
     "output_type": "display_data"
    }
   ],
   "source": [
    "# Ensure the plot displays in a large enough size to be readable\n",
    "plt.figure(figsize=(20,10))\n",
    "\n",
    "# Create an annotated heatmap of the correlations\n",
    "\n",
    "sns.heatmap(____, annot=True)\n",
    "\n",
    "# The \"annot\" parameter tells the plot to display labels"
   ]
  },
  {
   "cell_type": "code",
   "execution_count": null,
   "metadata": {
    "colab": {
     "base_uri": "https://localhost:8080/",
     "height": 397
    },
    "colab_type": "code",
    "executionInfo": {
     "elapsed": 3040,
     "status": "ok",
     "timestamp": 1563521266319,
     "user": {
      "displayName": "Juan Beltran",
      "photoUrl": "https://lh4.googleusercontent.com/-59JSx7DE41I/AAAAAAAAAAI/AAAAAAAAAA0/DsgO9eXs3cI/s64/photo.jpg",
      "userId": "06395049194550718667"
     },
     "user_tz": -60
    },
    "id": "YCOyRNc6OdAA",
    "outputId": "678a7047-0c8a-4d22-cd2e-bb76f0a4f3fb"
   },
   "outputs": [
    {
     "data": {
      "text/plain": [
       "price            1.000000\n",
       "grade            0.617172\n",
       "sqft_living      0.604351\n",
       "sqft_living15    0.549388\n",
       "sqft_above       0.515706\n",
       "lat              0.440586\n",
       "bathrooms        0.439813\n",
       "bedrooms         0.293880\n",
       "floors           0.269290\n",
       "sqft_basement    0.221756\n",
       "view             0.212300\n",
       "sqft_lot         0.094969\n",
       "sqft_lot15       0.082999\n",
       "long             0.079642\n",
       "yr_renovated     0.074992\n",
       "yr_built         0.060989\n",
       "waterfront       0.051178\n",
       "condition        0.030849\n",
       "id               0.018226\n",
       "days            -0.009074\n",
       "zipcode         -0.019257\n",
       "Name: price, dtype: float64"
      ]
     },
     "execution_count": 70,
     "metadata": {
      "tags": []
     },
     "output_type": "execute_result"
    }
   ],
   "source": [
    "corr_mat = data.corr()\n",
    "# Filter by price column and sort descending\n",
    "corr_mat['____'].sort_values(ascending=False)"
   ]
  },
  {
   "cell_type": "code",
   "execution_count": null,
   "metadata": {
    "colab": {
     "base_uri": "https://localhost:8080/",
     "height": 35
    },
    "colab_type": "code",
    "executionInfo": {
     "elapsed": 4583,
     "status": "ok",
     "timestamp": 1563521053668,
     "user": {
      "displayName": "Juan Beltran",
      "photoUrl": "https://lh4.googleusercontent.com/-59JSx7DE41I/AAAAAAAAAAI/AAAAAAAAAA0/DsgO9eXs3cI/s64/photo.jpg",
      "userId": "06395049194550718667"
     },
     "user_tz": -60
    },
    "id": "U_HnmKJ0ebhm",
    "outputId": "7922bc42-271f-433f-a84a-08a4763af1c7"
   },
   "outputs": [
    {
     "name": "stdout",
     "output_type": "stream",
     "text": [
      "(21596, 1) (21596, 1)\n"
     ]
    }
   ],
   "source": [
    "labels = data[['price']]\n",
    "features = data[['sqft_living']]\n",
    "print(features.shape, labels.shape)\n"
   ]
  },
  {
   "cell_type": "code",
   "execution_count": null,
   "metadata": {
    "colab": {
     "base_uri": "https://localhost:8080/",
     "height": 52
    },
    "colab_type": "code",
    "executionInfo": {
     "elapsed": 4042,
     "status": "ok",
     "timestamp": 1563521053669,
     "user": {
      "displayName": "Juan Beltran",
      "photoUrl": "https://lh4.googleusercontent.com/-59JSx7DE41I/AAAAAAAAAAI/AAAAAAAAAA0/DsgO9eXs3cI/s64/photo.jpg",
      "userId": "06395049194550718667"
     },
     "user_tz": -60
    },
    "id": "3GGWibd9eiuA",
    "outputId": "7f88fe4c-2f6e-49a8-f71c-782f15370573"
   },
   "outputs": [
    {
     "name": "stdout",
     "output_type": "stream",
     "text": [
      "Train Size (15117, 1) (15117, 1)\n",
      "Test Size (6479, 1) (6479, 1)\n"
     ]
    }
   ],
   "source": [
    "from sklearn.model_selection import train_test_split\n",
    "from sklearn.preprocessing import StandardScaler\n",
    "\n",
    "X_train, X_test, y_train, y_test = train_test_split(features, labels, test_size=0.3, random_state=42)\n",
    "\n",
    "print('Train Size', X_train.shape, y_train.shape)\n",
    "print('Test Size', X_test.shape, y_test.shape)"
   ]
  },
  {
   "cell_type": "code",
   "execution_count": null,
   "metadata": {
    "colab": {
     "base_uri": "https://localhost:8080/",
     "height": 52
    },
    "colab_type": "code",
    "executionInfo": {
     "elapsed": 3579,
     "status": "ok",
     "timestamp": 1563521053670,
     "user": {
      "displayName": "Juan Beltran",
      "photoUrl": "https://lh4.googleusercontent.com/-59JSx7DE41I/AAAAAAAAAAI/AAAAAAAAAA0/DsgO9eXs3cI/s64/photo.jpg",
      "userId": "06395049194550718667"
     },
     "user_tz": -60
    },
    "id": "ZeHtm2QKejBq",
    "outputId": "7dd2dd4f-58e5-4367-e7cf-c87bab22eed9"
   },
   "outputs": [
    {
     "name": "stdout",
     "output_type": "stream",
     "text": [
      "Train Size (15117, 2) (15117, 1)\n",
      "Test Size (6479, 2) (6479, 1)\n"
     ]
    }
   ],
   "source": [
    "sc =  StandardScaler().fit(X_train)\n",
    "X_train =  sc.transform(X_train)\n",
    "X_train = sm.add_constant(X_train)\n",
    "X_test = sc.transform(X_test)\n",
    "X_test = sm.add_constant(X_test)\n",
    "print('Train Size', X_train.shape, y_train.shape)\n",
    "print('Test Size', X_test.shape, y_test.shape)"
   ]
  },
  {
   "cell_type": "code",
   "execution_count": null,
   "metadata": {
    "colab": {},
    "colab_type": "code",
    "id": "IX69Xm1qejEv"
   },
   "outputs": [],
   "source": [
    "# Create the model\n",
    "model = sm.OLS(____, ____)\n",
    "# Fit the model\n",
    "model_results = model.fit()"
   ]
  },
  {
   "cell_type": "code",
   "execution_count": null,
   "metadata": {
    "colab": {
     "base_uri": "https://localhost:8080/",
     "height": 449
    },
    "colab_type": "code",
    "executionInfo": {
     "elapsed": 1505,
     "status": "ok",
     "timestamp": 1563521090385,
     "user": {
      "displayName": "Juan Beltran",
      "photoUrl": "https://lh4.googleusercontent.com/-59JSx7DE41I/AAAAAAAAAAI/AAAAAAAAAA0/DsgO9eXs3cI/s64/photo.jpg",
      "userId": "06395049194550718667"
     },
     "user_tz": -60
    },
    "id": "XEAgvGB-ejJj",
    "outputId": "0ae92c53-d27b-4d19-dea2-45f970ec3506"
   },
   "outputs": [
    {
     "name": "stdout",
     "output_type": "stream",
     "text": [
      "                            OLS Regression Results                            \n",
      "==============================================================================\n",
      "Dep. Variable:                  price   R-squared:                       0.493\n",
      "Model:                            OLS   Adj. R-squared:                  0.493\n",
      "Method:                 Least Squares   F-statistic:                 1.469e+04\n",
      "Date:                Fri, 19 Jul 2019   Prob (F-statistic):               0.00\n",
      "Time:                        07:24:49   Log-Likelihood:            -2.1008e+05\n",
      "No. Observations:               15117   AIC:                         4.202e+05\n",
      "Df Residuals:                   15115   BIC:                         4.202e+05\n",
      "Df Model:                           1                                         \n",
      "Covariance Type:            nonrobust                                         \n",
      "==============================================================================\n",
      "                 coef    std err          t      P>|t|      [0.025      0.975]\n",
      "------------------------------------------------------------------------------\n",
      "const       5.421e+05   2134.642    253.964      0.000    5.38e+05    5.46e+05\n",
      "x1          2.588e+05   2134.642    121.216      0.000    2.55e+05    2.63e+05\n",
      "==============================================================================\n",
      "Omnibus:                     9743.164   Durbin-Watson:                   1.987\n",
      "Prob(Omnibus):                  0.000   Jarque-Bera (JB):           271748.999\n",
      "Skew:                           2.659   Prob(JB):                         0.00\n",
      "Kurtosis:                      23.079   Cond. No.                         1.00\n",
      "==============================================================================\n",
      "\n",
      "Warnings:\n",
      "[1] Standard Errors assume that the covariance matrix of the errors is correctly specified.\n"
     ]
    }
   ],
   "source": [
    "# Evaluate the model\n",
    "print(model_results.summary())"
   ]
  },
  {
   "cell_type": "code",
   "execution_count": null,
   "metadata": {
    "colab": {},
    "colab_type": "code",
    "id": "DF7NI8n3iSIa"
   },
   "outputs": [],
   "source": [
    "# Use our new model to make predictions\n",
    "y_pred = model_results.predict(____)"
   ]
  },
  {
   "cell_type": "code",
   "execution_count": null,
   "metadata": {
    "colab": {
     "base_uri": "https://localhost:8080/",
     "height": 313
    },
    "colab_type": "code",
    "executionInfo": {
     "elapsed": 6525,
     "status": "ok",
     "timestamp": 1563521095775,
     "user": {
      "displayName": "Juan Beltran",
      "photoUrl": "https://lh4.googleusercontent.com/-59JSx7DE41I/AAAAAAAAAAI/AAAAAAAAAA0/DsgO9eXs3cI/s64/photo.jpg",
      "userId": "06395049194550718667"
     },
     "user_tz": -60
    },
    "id": "d000btjMimq8",
    "outputId": "33b69100-48cb-49d6-b396-a01ba0a41cc2"
   },
   "outputs": [
    {
     "data": {
      "text/plain": [
       "Text(0, 0.5, 'Predicted')"
      ]
     },
     "execution_count": 37,
     "metadata": {
      "tags": []
     },
     "output_type": "execute_result"
    },
    {
     "data": {
      "image/png": "[encoded data removed]",
      "text/plain": [
       "<Figure size 432x288 with 1 Axes>"
      ]
     },
     "metadata": {
      "tags": []
     },
     "output_type": "display_data"
    }
   ],
   "source": [
    "# Plot the predictions\n",
    "\n",
    "# Build a scatterplot\n",
    "plt.scatter(____, ____)\n",
    "\n",
    "# Add a line for perfect correlation\n",
    "plt.plot([x for x in range(0,7000000)],[x for x in range(0,7000000)], color='red')\n",
    "\n",
    "# Label it nicely\n",
    "plt.title(\"Model 2 predictions vs. actual\")\n",
    "plt.xlabel(\"Actual\")\n",
    "plt.ylabel(\"Predicted\")"
   ]
  },
  {
   "cell_type": "code",
   "execution_count": null,
   "metadata": {
    "colab": {
     "base_uri": "https://localhost:8080/",
     "height": 35
    },
    "colab_type": "code",
    "executionInfo": {
     "elapsed": 3658,
     "status": "ok",
     "timestamp": 1563521125970,
     "user": {
      "displayName": "Juan Beltran",
      "photoUrl": "https://lh4.googleusercontent.com/-59JSx7DE41I/AAAAAAAAAAI/AAAAAAAAAA0/DsgO9eXs3cI/s64/photo.jpg",
      "userId": "06395049194550718667"
     },
     "user_tz": -60
    },
    "id": "QxMOeDSNQf16",
    "outputId": "a40176d4-f5bf-420f-9bf5-1dbbebc1e21c"
   },
   "outputs": [
    {
     "name": "stdout",
     "output_type": "stream",
     "text": [
      "(21596, 14) (21596,)\n"
     ]
    }
   ],
   "source": [
    "labels = data['_____']\n",
    "features = data.drop(['____'], axis=1)\n",
    "\n",
    "print(features.shape, labels.shape)"
   ]
  },
  {
   "cell_type": "code",
   "execution_count": null,
   "metadata": {
    "colab": {
     "base_uri": "https://localhost:8080/",
     "height": 52
    },
    "colab_type": "code",
    "executionInfo": {
     "elapsed": 563,
     "status": "ok",
     "timestamp": 1563521127556,
     "user": {
      "displayName": "Juan Beltran",
      "photoUrl": "https://lh4.googleusercontent.com/-59JSx7DE41I/AAAAAAAAAAI/AAAAAAAAAA0/DsgO9eXs3cI/s64/photo.jpg",
      "userId": "06395049194550718667"
     },
     "user_tz": -60
    },
    "id": "Shlh_3lvUkTK",
    "outputId": "b162be85-45af-440f-f1c2-b5da3a8316ca"
   },
   "outputs": [
    {
     "name": "stdout",
     "output_type": "stream",
     "text": [
      "Train Size (15117, 14) (15117,)\n",
      "Test Size (6479, 14) (6479,)\n"
     ]
    }
   ],
   "source": [
    "from sklearn.model_selection import train_test_split\n",
    "from sklearn.preprocessing import StandardScaler\n",
    "\n",
    "X_train, X_test, y_train, y_test = train_test_split(features, labels, test_size=0.3, random_state=42)\n",
    "\n",
    "print('Train Size', X_train.shape, y_train.shape)\n",
    "print('Test Size', X_test.shape, y_test.shape)\n",
    "X_train_index = X_train.index\n",
    "X_test_index = X_test.index"
   ]
  },
  {
   "cell_type": "code",
   "execution_count": null,
   "metadata": {
    "colab": {
     "base_uri": "https://localhost:8080/",
     "height": 52
    },
    "colab_type": "code",
    "executionInfo": {
     "elapsed": 984,
     "status": "ok",
     "timestamp": 1563521128672,
     "user": {
      "displayName": "Juan Beltran",
      "photoUrl": "https://lh4.googleusercontent.com/-59JSx7DE41I/AAAAAAAAAAI/AAAAAAAAAA0/DsgO9eXs3cI/s64/photo.jpg",
      "userId": "06395049194550718667"
     },
     "user_tz": -60
    },
    "id": "fNSNTsMIUumU",
    "outputId": "196475dd-9ff2-4328-d95d-4a6698f1a86d"
   },
   "outputs": [
    {
     "name": "stdout",
     "output_type": "stream",
     "text": [
      "Train Size (15117, 15) (15117,)\n",
      "Test Size (6479, 15) (6479,)\n"
     ]
    }
   ],
   "source": [
    "sc =  StandardScaler().fit(X_train)\n",
    "X_train =  sc.transform(X_train)\n",
    "X_train = sm.add_constant(X_train)\n",
    "X_test = sc.transform(X_test)\n",
    "X_test = sm.add_constant(X_test)\n",
    "print('Train Size', X_train.shape, y_train.shape)\n",
    "print('Test Size', X_test.shape, y_test.shape)"
   ]
  },
  {
   "cell_type": "code",
   "execution_count": null,
   "metadata": {
    "colab": {},
    "colab_type": "code",
    "id": "gXuEzuUxtpss"
   },
   "outputs": [],
   "source": [
    "var_names = list([\"const\"])+ list(features.columns)\n",
    "X_train = pd.DataFrame(X_train, columns = var_names, index = X_train_index)"
   ]
  },
  {
   "cell_type": "code",
   "execution_count": null,
   "metadata": {
    "colab": {},
    "colab_type": "code",
    "id": "8rZG7Mi9XnFT"
   },
   "outputs": [],
   "source": [
    "# Create the model\n",
    "model2 = sm.OLS(____, ____)\n",
    "# Fit the model\n",
    "model2_results = model2.fit()"
   ]
  },
  {
   "cell_type": "code",
   "execution_count": null,
   "metadata": {
    "colab": {
     "base_uri": "https://localhost:8080/",
     "height": 674
    },
    "colab_type": "code",
    "executionInfo": {
     "elapsed": 728,
     "status": "ok",
     "timestamp": 1563521129273,
     "user": {
      "displayName": "Juan Beltran",
      "photoUrl": "https://lh4.googleusercontent.com/-59JSx7DE41I/AAAAAAAAAAI/AAAAAAAAAA0/DsgO9eXs3cI/s64/photo.jpg",
      "userId": "06395049194550718667"
     },
     "user_tz": -60
    },
    "id": "CvfNw8r5ciID",
    "outputId": "96051125-cfd6-4071-9848-2d1181935737"
   },
   "outputs": [
    {
     "name": "stdout",
     "output_type": "stream",
     "text": [
      "                            OLS Regression Results                            \n",
      "==============================================================================\n",
      "Dep. Variable:                  price   R-squared:                       0.674\n",
      "Model:                            OLS   Adj. R-squared:                  0.673\n",
      "Method:                 Least Squares   F-statistic:                     2227.\n",
      "Date:                Fri, 19 Jul 2019   Prob (F-statistic):               0.00\n",
      "Time:                        07:25:28   Log-Likelihood:            -2.0674e+05\n",
      "No. Observations:               15117   AIC:                         4.135e+05\n",
      "Df Residuals:                   15102   BIC:                         4.136e+05\n",
      "Df Model:                          14                                         \n",
      "Covariance Type:            nonrobust                                         \n",
      "=================================================================================\n",
      "                    coef    std err          t      P>|t|      [0.025      0.975]\n",
      "---------------------------------------------------------------------------------\n",
      "const          5.421e+05   1713.062    316.464      0.000    5.39e+05    5.45e+05\n",
      "bedrooms      -6008.0632   2117.457     -2.837      0.005   -1.02e+04   -1857.591\n",
      "bathrooms      7.208e+04   3008.962     23.954      0.000    6.62e+04     7.8e+04\n",
      "floors           1.5e+04   2390.893      6.274      0.000    1.03e+04    1.97e+04\n",
      "waterfront       5.6e+04   1883.453     29.734      0.000    5.23e+04    5.97e+04\n",
      "view           3.584e+04   2051.674     17.469      0.000    3.18e+04    3.99e+04\n",
      "condition      2.065e+04   1907.241     10.826      0.000    1.69e+04    2.44e+04\n",
      "grade          1.645e+05   2920.100     56.326      0.000    1.59e+05     1.7e+05\n",
      "sqft_basement  2.686e+04   2209.229     12.159      0.000    2.25e+04    3.12e+04\n",
      "yr_built      -8.847e+04   2601.312    -34.010      0.000   -9.36e+04   -8.34e+04\n",
      "yr_renovated   8047.8759   1834.226      4.388      0.000    4452.570    1.16e+04\n",
      "lat            7.041e+04   1808.135     38.940      0.000    6.69e+04     7.4e+04\n",
      "long          -7611.2175   2032.604     -3.745      0.000   -1.16e+04   -3627.067\n",
      "sqft_living15   6.66e+04   2702.528     24.644      0.000    6.13e+04    7.19e+04\n",
      "days           1.468e+04   1719.835      8.533      0.000    1.13e+04     1.8e+04\n",
      "==============================================================================\n",
      "Omnibus:                    13930.886   Durbin-Watson:                   1.999\n",
      "Prob(Omnibus):                  0.000   Jarque-Bera (JB):          1669434.834\n",
      "Skew:                           4.025   Prob(JB):                         0.00\n",
      "Kurtosis:                      53.849   Cond. No.                         3.99\n",
      "==============================================================================\n",
      "\n",
      "Warnings:\n",
      "[1] Standard Errors assume that the covariance matrix of the errors is correctly specified.\n"
     ]
    }
   ],
   "source": [
    "# Evaluate the model\n",
    "print(model2_results.summary())"
   ]
  },
  {
   "cell_type": "code",
   "execution_count": null,
   "metadata": {
    "colab": {
     "base_uri": "https://localhost:8080/",
     "height": 52
    },
    "colab_type": "code",
    "executionInfo": {
     "elapsed": 1148,
     "status": "ok",
     "timestamp": 1563521129952,
     "user": {
      "displayName": "Juan Beltran",
      "photoUrl": "https://lh4.googleusercontent.com/-59JSx7DE41I/AAAAAAAAAAI/AAAAAAAAAA0/DsgO9eXs3cI/s64/photo.jpg",
      "userId": "06395049194550718667"
     },
     "user_tz": -60
    },
    "id": "dR5_SlFzc-XG",
    "outputId": "2f88137d-3de5-4d00-e312-5e39f6b409f1"
   },
   "outputs": [
    {
     "data": {
      "text/plain": [
       "array([  97759.25634511,  335432.32580744,  357444.96073546, ...,\n",
       "       1088431.42493418,  397122.37890772,  578014.55580791])"
      ]
     },
     "execution_count": 47,
     "metadata": {
      "tags": []
     },
     "output_type": "execute_result"
    }
   ],
   "source": [
    "# Use our new model to make predictions\n",
    "y_pred = model2_results.predict(____)\n",
    "y_pred"
   ]
  },
  {
   "cell_type": "code",
   "execution_count": null,
   "metadata": {
    "colab": {
     "base_uri": "https://localhost:8080/",
     "height": 313
    },
    "colab_type": "code",
    "executionInfo": {
     "elapsed": 8515,
     "status": "ok",
     "timestamp": 1563521137628,
     "user": {
      "displayName": "Juan Beltran",
      "photoUrl": "https://lh4.googleusercontent.com/-59JSx7DE41I/AAAAAAAAAAI/AAAAAAAAAA0/DsgO9eXs3cI/s64/photo.jpg",
      "userId": "06395049194550718667"
     },
     "user_tz": -60
    },
    "id": "Pm72ISzRjbqL",
    "outputId": "d138d4c2-f1dd-46bd-bb02-56ffb7f0f7f6"
   },
   "outputs": [
    {
     "data": {
      "text/plain": [
       "Text(0, 0.5, 'Predicted')"
      ]
     },
     "execution_count": 48,
     "metadata": {
      "tags": []
     },
     "output_type": "execute_result"
    },
    {
     "data": {
      "image/png": "[encoded data removed]",
      "text/plain": [
       "<Figure size 432x288 with 1 Axes>"
      ]
     },
     "metadata": {
      "tags": []
     },
     "output_type": "display_data"
    }
   ],
   "source": [
    "# Plot the predictions\n",
    "\n",
    "# Build a scatterplot\n",
    "plt.scatter(____, ____)\n",
    "\n",
    "# Add a line for perfect correlation\n",
    "plt.plot([x for x in range(0,7000000)],[x for x in range(0,7000000)], color='red')\n",
    "\n",
    "# Label it nicely\n",
    "plt.title(\"Model 2 predictions vs. actual\")\n",
    "plt.xlabel(\"Actual\")\n",
    "plt.ylabel(\"Predicted\")"
   ]
  },
  {
   "cell_type": "code",
   "execution_count": null,
   "metadata": {
    "colab": {
     "base_uri": "https://localhost:8080/",
     "height": 52
    },
    "colab_type": "code",
    "executionInfo": {
     "elapsed": 15816,
     "status": "ok",
     "timestamp": 1563521154125,
     "user": {
      "displayName": "Juan Beltran",
      "photoUrl": "https://lh4.googleusercontent.com/-59JSx7DE41I/AAAAAAAAAAI/AAAAAAAAAA0/DsgO9eXs3cI/s64/photo.jpg",
      "userId": "06395049194550718667"
     },
     "user_tz": -60
    },
    "id": "Ag6br0PIjdmj",
    "outputId": "699e83bb-6d16-4a72-ebcd-886ac84dcd60"
   },
   "outputs": [
    {
     "data": {
      "text/plain": [
       "array([  34740.74365489,   79567.67419256,  136555.03926454, ...,\n",
       "       -413431.42493418,   45377.62109228, -153064.55580791])"
      ]
     },
     "execution_count": 49,
     "metadata": {
      "tags": []
     },
     "output_type": "execute_result"
    }
   ],
   "source": [
    "y_test2 = y_test.values\n",
    "residuals = ____ - ____\n",
    "residuals"
   ]
  },
  {
   "cell_type": "code",
   "execution_count": null,
   "metadata": {
    "colab": {
     "base_uri": "https://localhost:8080/",
     "height": 301
    },
    "colab_type": "code",
    "executionInfo": {
     "elapsed": 15571,
     "status": "ok",
     "timestamp": 1563521154126,
     "user": {
      "displayName": "Juan Beltran",
      "photoUrl": "https://lh4.googleusercontent.com/-59JSx7DE41I/AAAAAAAAAAI/AAAAAAAAAA0/DsgO9eXs3cI/s64/photo.jpg",
      "userId": "06395049194550718667"
     },
     "user_tz": -60
    },
    "id": "f6DK_T7ElHID",
    "outputId": "5c9e0123-f465-423b-9490-d874586b8909"
   },
   "outputs": [
    {
     "data": {
      "text/plain": [
       "<matplotlib.axes._subplots.AxesSubplot at 0x7f9f9c575a20>"
      ]
     },
     "execution_count": 50,
     "metadata": {
      "tags": []
     },
     "output_type": "execute_result"
    },
    {
     "data": {
      "image/png": "[encoded data removed]",
      "text/plain": [
       "<Figure size 432x288 with 1 Axes>"
      ]
     },
     "metadata": {
      "tags": []
     },
     "output_type": "display_data"
    }
   ],
   "source": [
    "sns.scatterplot(x= ____, y= ____)"
   ]
  },
  {
   "cell_type": "code",
   "execution_count": null,
   "metadata": {
    "colab": {},
    "colab_type": "code",
    "id": "xWxK_JkAlOCE"
   },
   "outputs": [],
   "source": [
    "# New model for houses which price is less than $1'000,000\n",
    "data = ____"
   ]
  },
  {
   "cell_type": "code",
   "execution_count": null,
   "metadata": {
    "colab": {
     "base_uri": "https://localhost:8080/",
     "height": 35
    },
    "colab_type": "code",
    "executionInfo": {
     "elapsed": 23571,
     "status": "ok",
     "timestamp": 1563521209740,
     "user": {
      "displayName": "Juan Beltran",
      "photoUrl": "https://lh4.googleusercontent.com/-59JSx7DE41I/AAAAAAAAAAI/AAAAAAAAAA0/DsgO9eXs3cI/s64/photo.jpg",
      "userId": "06395049194550718667"
     },
     "user_tz": -60
    },
    "id": "R8MU8yNU3KfB",
    "outputId": "27b719bf-2750-48ca-c294-3047526b8468"
   },
   "outputs": [
    {
     "name": "stdout",
     "output_type": "stream",
     "text": [
      "(20106, 18) (20106,)\n"
     ]
    }
   ],
   "source": [
    "labels = data['____']\n",
    "features = data.drop(['____'], axis=1)\n",
    "\n",
    "print(features.shape, labels.shape)"
   ]
  },
  {
   "cell_type": "code",
   "execution_count": null,
   "metadata": {
    "colab": {
     "base_uri": "https://localhost:8080/",
     "height": 52
    },
    "colab_type": "code",
    "executionInfo": {
     "elapsed": 21194,
     "status": "ok",
     "timestamp": 1563521209742,
     "user": {
      "displayName": "Juan Beltran",
      "photoUrl": "https://lh4.googleusercontent.com/-59JSx7DE41I/AAAAAAAAAAI/AAAAAAAAAA0/DsgO9eXs3cI/s64/photo.jpg",
      "userId": "06395049194550718667"
     },
     "user_tz": -60
    },
    "id": "wMMqIlBb3XnL",
    "outputId": "0d6b18a7-5089-4301-9449-ab930d1f3a0b"
   },
   "outputs": [
    {
     "name": "stdout",
     "output_type": "stream",
     "text": [
      "Train Size (14074, 18) (14074,)\n",
      "Test Size (6032, 18) (6032,)\n"
     ]
    }
   ],
   "source": [
    "from sklearn.model_selection import train_test_split\n",
    "from sklearn.preprocessing import StandardScaler\n",
    "\n",
    "X_train, X_test, y_train, y_test = train_test_split(features, labels, test_size=0.3, random_state=42)\n",
    "\n",
    "print('Train Size', X_train.shape, y_train.shape)\n",
    "print('Test Size', X_test.shape, y_test.shape)\n",
    "X_train_index = X_train.index\n",
    "X_test_index = X_test.index"
   ]
  },
  {
   "cell_type": "code",
   "execution_count": null,
   "metadata": {
    "colab": {
     "base_uri": "https://localhost:8080/",
     "height": 52
    },
    "colab_type": "code",
    "executionInfo": {
     "elapsed": 19996,
     "status": "ok",
     "timestamp": 1563521209745,
     "user": {
      "displayName": "Juan Beltran",
      "photoUrl": "https://lh4.googleusercontent.com/-59JSx7DE41I/AAAAAAAAAAI/AAAAAAAAAA0/DsgO9eXs3cI/s64/photo.jpg",
      "userId": "06395049194550718667"
     },
     "user_tz": -60
    },
    "id": "S11B4SKg3bFD",
    "outputId": "ce6d508e-df43-4a87-fedf-3ca6357c3f9d"
   },
   "outputs": [
    {
     "name": "stdout",
     "output_type": "stream",
     "text": [
      "Train Size (14074, 19) (14074,)\n",
      "Test Size (6032, 19) (6032,)\n"
     ]
    }
   ],
   "source": [
    "sc =  StandardScaler().fit(X_train)\n",
    "X_train =  sc.transform(X_train)\n",
    "X_train = sm.add_constant(X_train)\n",
    "X_test = sc.transform(X_test)\n",
    "X_test = sm.add_constant(X_test)\n",
    "print('Train Size', X_train.shape, y_train.shape)\n",
    "print('Test Size', X_test.shape, y_test.shape)"
   ]
  },
  {
   "cell_type": "code",
   "execution_count": null,
   "metadata": {
    "colab": {},
    "colab_type": "code",
    "id": "-4TuHHid3fjC"
   },
   "outputs": [],
   "source": [
    "var_names = list([\"const\"])+ list(features.columns)\n",
    "X_train = pd.DataFrame(X_train, columns = var_names, index = X_train_index)"
   ]
  },
  {
   "cell_type": "code",
   "execution_count": null,
   "metadata": {
    "colab": {},
    "colab_type": "code",
    "id": "msLqVJh83yrF"
   },
   "outputs": [],
   "source": [
    "# Create the model\n",
    "model2 = sm.OLS(____, ____)\n",
    "# Fit the model\n",
    "model2_results = model2.fit()"
   ]
  },
  {
   "cell_type": "code",
   "execution_count": null,
   "metadata": {
    "colab": {
     "base_uri": "https://localhost:8080/",
     "height": 777
    },
    "colab_type": "code",
    "executionInfo": {
     "elapsed": 18485,
     "status": "ok",
     "timestamp": 1563521209755,
     "user": {
      "displayName": "Juan Beltran",
      "photoUrl": "https://lh4.googleusercontent.com/-59JSx7DE41I/AAAAAAAAAAI/AAAAAAAAAA0/DsgO9eXs3cI/s64/photo.jpg",
      "userId": "06395049194550718667"
     },
     "user_tz": -60
    },
    "id": "CLmjUQsi314V",
    "outputId": "81981191-c4e8-4e62-ffe0-675ac9d69405"
   },
   "outputs": [
    {
     "name": "stdout",
     "output_type": "stream",
     "text": [
      "                            OLS Regression Results                            \n",
      "==============================================================================\n",
      "Dep. Variable:                  price   R-squared:                       0.687\n",
      "Model:                            OLS   Adj. R-squared:                  0.687\n",
      "Method:                 Least Squares   F-statistic:                     1816.\n",
      "Date:                Fri, 19 Jul 2019   Prob (F-statistic):               0.00\n",
      "Time:                        07:26:43   Log-Likelihood:            -1.8333e+05\n",
      "No. Observations:               14074   AIC:                         3.667e+05\n",
      "Df Residuals:                   14056   BIC:                         3.668e+05\n",
      "Df Model:                          17                                         \n",
      "Covariance Type:            nonrobust                                         \n",
      "=================================================================================\n",
      "                    coef    std err          t      P>|t|      [0.025      0.975]\n",
      "---------------------------------------------------------------------------------\n",
      "const          4.684e+05    926.642    505.516      0.000    4.67e+05     4.7e+05\n",
      "bedrooms      -8080.8648   1219.593     -6.626      0.000   -1.05e+04   -5690.301\n",
      "bathrooms      1.647e+04   1610.166     10.228      0.000    1.33e+04    1.96e+04\n",
      "sqft_living    2.731e+04   1055.306     25.879      0.000    2.52e+04    2.94e+04\n",
      "sqft_lot       1.032e+04   1435.493      7.188      0.000    7505.008    1.31e+04\n",
      "floors         1.608e+04   1337.134     12.029      0.000    1.35e+04    1.87e+04\n",
      "waterfront     6699.8709    975.551      6.868      0.000    4787.661    8612.081\n",
      "view           1.671e+04   1020.647     16.375      0.000    1.47e+04    1.87e+04\n",
      "condition      1.759e+04   1027.841     17.109      0.000    1.56e+04    1.96e+04\n",
      "grade          7.009e+04   1537.933     45.574      0.000    6.71e+04    7.31e+04\n",
      "sqft_above     2.276e+04   1078.197     21.111      0.000    2.06e+04    2.49e+04\n",
      "sqft_basement  1.098e+04   1017.114     10.791      0.000    8981.755     1.3e+04\n",
      "yr_built      -4.862e+04   1465.166    -33.183      0.000   -5.15e+04   -4.57e+04\n",
      "yr_renovated   5396.6407    986.650      5.470      0.000    3462.675    7330.606\n",
      "lat            7.493e+04    982.584     76.262      0.000     7.3e+04    7.69e+04\n",
      "long          -1172.5886   1133.204     -1.035      0.301   -3393.818    1048.641\n",
      "sqft_living15   3.06e+04   1537.934     19.900      0.000    2.76e+04    3.36e+04\n",
      "sqft_lot15    -4776.3557   1439.385     -3.318      0.001   -7597.741   -1954.971\n",
      "days           8368.3688    930.942      8.989      0.000    6543.598    1.02e+04\n",
      "==============================================================================\n",
      "Omnibus:                      830.076   Durbin-Watson:                   2.007\n",
      "Prob(Omnibus):                  0.000   Jarque-Bera (JB):             1317.169\n",
      "Skew:                           0.489   Prob(JB):                    9.56e-287\n",
      "Kurtosis:                       4.136   Cond. No.                     7.24e+15\n",
      "==============================================================================\n",
      "\n",
      "Warnings:\n",
      "[1] Standard Errors assume that the covariance matrix of the errors is correctly specified.\n",
      "[2] The smallest eigenvalue is 1.34e-27. This might indicate that there are\n",
      "strong multicollinearity problems or that the design matrix is singular.\n"
     ]
    }
   ],
   "source": [
    "# Evaluate the model\n",
    "print(model2_results.summary())"
   ]
  },
  {
   "cell_type": "code",
   "execution_count": null,
   "metadata": {
    "colab": {
     "base_uri": "https://localhost:8080/",
     "height": 52
    },
    "colab_type": "code",
    "executionInfo": {
     "elapsed": 18131,
     "status": "ok",
     "timestamp": 1563521209756,
     "user": {
      "displayName": "Juan Beltran",
      "photoUrl": "https://lh4.googleusercontent.com/-59JSx7DE41I/AAAAAAAAAAI/AAAAAAAAAA0/DsgO9eXs3cI/s64/photo.jpg",
      "userId": "06395049194550718667"
     },
     "user_tz": -60
    },
    "id": "LSx8pYyz35AA",
    "outputId": "90c5de84-663c-4283-e16a-7c82ee0c332b"
   },
   "outputs": [
    {
     "data": {
      "text/plain": [
       "array([581387.56540652, 847132.33795842, 301429.69138105, ...,\n",
       "       499081.63532878, 553707.88586577, 487815.94955354])"
      ]
     },
     "execution_count": 58,
     "metadata": {
      "tags": []
     },
     "output_type": "execute_result"
    }
   ],
   "source": [
    "# Use our new model to make predictions\n",
    "y_pred = model2_results.predict(____)\n",
    "y_pred"
   ]
  },
  {
   "cell_type": "code",
   "execution_count": null,
   "metadata": {
    "colab": {
     "base_uri": "https://localhost:8080/",
     "height": 313
    },
    "colab_type": "code",
    "executionInfo": {
     "elapsed": 17013,
     "status": "ok",
     "timestamp": 1563521209757,
     "user": {
      "displayName": "Juan Beltran",
      "photoUrl": "https://lh4.googleusercontent.com/-59JSx7DE41I/AAAAAAAAAAI/AAAAAAAAAA0/DsgO9eXs3cI/s64/photo.jpg",
      "userId": "06395049194550718667"
     },
     "user_tz": -60
    },
    "id": "AelFxb2C39JI",
    "outputId": "e1a6cc2f-c76f-4431-8adb-cc3360c79c77"
   },
   "outputs": [
    {
     "data": {
      "text/plain": [
       "Text(0, 0.5, 'Predicted')"
      ]
     },
     "execution_count": 59,
     "metadata": {
      "tags": []
     },
     "output_type": "execute_result"
    },
    {
     "data": {
      "image/png": "[encoded data removed]",
      "text/plain": [
       "<Figure size 432x288 with 1 Axes>"
      ]
     },
     "metadata": {
      "tags": []
     },
     "output_type": "display_data"
    }
   ],
   "source": [
    "# Plot the predictions\n",
    "\n",
    "# Build a scatterplot\n",
    "plt.scatter(____, ____)\n",
    "\n",
    "# Add a line for perfect correlation\n",
    "plt.plot([x for x in range(0,1000000)],[x for x in range(0,1000000)], color='red')\n",
    "\n",
    "# Label it nicely\n",
    "plt.title(\"Model 2 predictions vs. actual\")\n",
    "plt.xlabel(\"Actual\")\n",
    "plt.ylabel(\"Predicted\")"
   ]
  },
  {
   "cell_type": "code",
   "execution_count": null,
   "metadata": {
    "colab": {
     "base_uri": "https://localhost:8080/",
     "height": 52
    },
    "colab_type": "code",
    "executionInfo": {
     "elapsed": 16262,
     "status": "ok",
     "timestamp": 1563521209757,
     "user": {
      "displayName": "Juan Beltran",
      "photoUrl": "https://lh4.googleusercontent.com/-59JSx7DE41I/AAAAAAAAAAI/AAAAAAAAAA0/DsgO9eXs3cI/s64/photo.jpg",
      "userId": "06395049194550718667"
     },
     "user_tz": -60
    },
    "id": "mqPRzvUT4BQT",
    "outputId": "8a5449ad-958f-40cb-b001-bbb15991013a"
   },
   "outputs": [
    {
     "data": {
      "text/plain": [
       "array([-128387.56540652,    7867.66204158,  -56429.69138105, ...,\n",
       "           918.36467122, -178707.88586577,  -67815.94955354])"
      ]
     },
     "execution_count": 60,
     "metadata": {
      "tags": []
     },
     "output_type": "execute_result"
    }
   ],
   "source": [
    "y_test2 = y_test.values\n",
    "residuals = ____ - ____\n",
    "residuals"
   ]
  },
  {
   "cell_type": "code",
   "execution_count": null,
   "metadata": {
    "colab": {
     "base_uri": "https://localhost:8080/",
     "height": 646
    },
    "colab_type": "code",
    "executionInfo": {
     "elapsed": 16045,
     "status": "ok",
     "timestamp": 1563521209758,
     "user": {
      "displayName": "Juan Beltran",
      "photoUrl": "https://lh4.googleusercontent.com/-59JSx7DE41I/AAAAAAAAAAI/AAAAAAAAAA0/DsgO9eXs3cI/s64/photo.jpg",
      "userId": "06395049194550718667"
     },
     "user_tz": -60
    },
    "id": "oWDrop1z4cFl",
    "outputId": "f900edf1-f98f-410e-cef3-bb9247e34573"
   },
   "outputs": [
    {
     "data": {
      "text/plain": [
       "<matplotlib.axes._subplots.AxesSubplot at 0x7f9f9c4cf940>"
      ]
     },
     "execution_count": 61,
     "metadata": {
      "tags": []
     },
     "output_type": "execute_result"
    },
    {
     "data": {
      "image/png": "[encoded data removed]",
      "text/plain": [
       "<Figure size 1152x720 with 1 Axes>"
      ]
     },
     "metadata": {
      "tags": []
     },
     "output_type": "display_data"
    }
   ],
   "source": [
    "plt.figure(figsize=(16, 10))\n",
    "sns.scatterplot(x= ____, y= ____)"
   ]
  },
  {
   "cell_type": "code",
   "execution_count": null,
   "metadata": {
    "colab": {
     "base_uri": "https://localhost:8080/",
     "height": 35
    },
    "colab_type": "code",
    "executionInfo": {
     "elapsed": 15876,
     "status": "ok",
     "timestamp": 1563521209759,
     "user": {
      "displayName": "Juan Beltran",
      "photoUrl": "https://lh4.googleusercontent.com/-59JSx7DE41I/AAAAAAAAAAI/AAAAAAAAAA0/DsgO9eXs3cI/s64/photo.jpg",
      "userId": "06395049194550718667"
     },
     "user_tz": -60
    },
    "id": "1xGIMHGk4f8J",
    "outputId": "88a70aa8-d2bf-4ed2-a905-010dc494cf52"
   },
   "outputs": [
    {
     "data": {
      "text/plain": [
       "106719.6101898343"
      ]
     },
     "execution_count": 62,
     "metadata": {
      "tags": []
     },
     "output_type": "execute_result"
    }
   ],
   "source": [
    "root_mean_squared_error = ____\n",
    "root_mean_squared_error"
   ]
  },
  {
   "cell_type": "code",
   "execution_count": null,
   "metadata": {
    "colab": {
     "base_uri": "https://localhost:8080/",
     "height": 35
    },
    "colab_type": "code",
    "executionInfo": {
     "elapsed": 15722,
     "status": "ok",
     "timestamp": 1563521209760,
     "user": {
      "displayName": "Juan Beltran",
      "photoUrl": "https://lh4.googleusercontent.com/-59JSx7DE41I/AAAAAAAAAAI/AAAAAAAAAA0/DsgO9eXs3cI/s64/photo.jpg",
      "userId": "06395049194550718667"
     },
     "user_tz": -60
    },
    "id": "ODO10D8C63Ez",
    "outputId": "48ec442e-32a4-41bc-bbe0-3e26d3ce020f"
   },
   "outputs": [
    {
     "data": {
      "text/plain": [
       "81705.97172399891"
      ]
     },
     "execution_count": 63,
     "metadata": {
      "tags": []
     },
     "output_type": "execute_result"
    }
   ],
   "source": [
    "mean_absolute_error = ____\n",
    "mean_absolute_error"
   ]
  },
  {
   "cell_type": "code",
   "execution_count": null,
   "metadata": {
    "colab": {},
    "colab_type": "code",
    "id": "ZxYqys3s7fts"
   },
   "outputs": [],
   "source": [
    "#In-sample prediction\n",
    "y_insample = model2_results.predict(____)"
   ]
  },
  {
   "cell_type": "code",
   "execution_count": null,
   "metadata": {
    "colab": {
     "base_uri": "https://localhost:8080/",
     "height": 313
    },
    "colab_type": "code",
    "executionInfo": {
     "elapsed": 15389,
     "status": "ok",
     "timestamp": 1563521209763,
     "user": {
      "displayName": "Juan Beltran",
      "photoUrl": "https://lh4.googleusercontent.com/-59JSx7DE41I/AAAAAAAAAAI/AAAAAAAAAA0/DsgO9eXs3cI/s64/photo.jpg",
      "userId": "06395049194550718667"
     },
     "user_tz": -60
    },
    "id": "A8N4A7gg9PT-",
    "outputId": "3de5919f-d767-48a9-cd93-0b45884dfb6c"
   },
   "outputs": [
    {
     "data": {
      "text/plain": [
       "Text(0, 0.5, 'Predicted')"
      ]
     },
     "execution_count": 65,
     "metadata": {
      "tags": []
     },
     "output_type": "execute_result"
    },
    {
     "data": {
      "image/png": "[encoded data removed]",
      "text/plain": [
       "<Figure size 432x288 with 1 Axes>"
      ]
     },
     "metadata": {
      "tags": []
     },
     "output_type": "display_data"
    }
   ],
   "source": [
    "# Plot the predictions\n",
    "\n",
    "# Build a scatterplot\n",
    "plt.scatter(____, ____)\n",
    "\n",
    "# Add a line for perfect correlation\n",
    "plt.plot([x for x in range(0,1000000)],[x for x in range(0,1000000)], color='red')\n",
    "\n",
    "# Label it nicely\n",
    "plt.title(\"Model 2 predictions vs. actual\")\n",
    "plt.xlabel(\"Actual\")\n",
    "plt.ylabel(\"Predicted\")"
   ]
  },
  {
   "cell_type": "code",
   "execution_count": null,
   "metadata": {
    "colab": {
     "base_uri": "https://localhost:8080/",
     "height": 72
    },
    "colab_type": "code",
    "executionInfo": {
     "elapsed": 15208,
     "status": "ok",
     "timestamp": 1563521209764,
     "user": {
      "displayName": "Juan Beltran",
      "photoUrl": "https://lh4.googleusercontent.com/-59JSx7DE41I/AAAAAAAAAAI/AAAAAAAAAA0/DsgO9eXs3cI/s64/photo.jpg",
      "userId": "06395049194550718667"
     },
     "user_tz": -60
    },
    "id": "snrdRXzM9VVq",
    "outputId": "41307053-d397-424e-af2e-5dc2c3966b98"
   },
   "outputs": [
    {
     "name": "stderr",
     "output_type": "stream",
     "text": [
      "/usr/local/lib/python3.6/dist-packages/statsmodels/genmod/generalized_linear_model.py:273: DomainWarning: The inverse_power link function does not respect the domain of the Gamma family.\n",
      "  DomainWarning)\n"
     ]
    }
   ],
   "source": [
    "model3 = sm.GLM(____, ____, family = sm.families.Gamma() )"
   ]
  },
  {
   "cell_type": "code",
   "execution_count": null,
   "metadata": {
    "colab": {
     "base_uri": "https://localhost:8080/",
     "height": 605
    },
    "colab_type": "code",
    "executionInfo": {
     "elapsed": 17930,
     "status": "ok",
     "timestamp": 1563521212846,
     "user": {
      "displayName": "Juan Beltran",
      "photoUrl": "https://lh4.googleusercontent.com/-59JSx7DE41I/AAAAAAAAAAI/AAAAAAAAAA0/DsgO9eXs3cI/s64/photo.jpg",
      "userId": "06395049194550718667"
     },
     "user_tz": -60
    },
    "id": "p_xVKCfq-Bka",
    "outputId": "3c177f83-5eda-448d-e24f-3515f6ef1a09"
   },
   "outputs": [
    {
     "name": "stdout",
     "output_type": "stream",
     "text": [
      "                 Generalized Linear Model Regression Results                  \n",
      "==============================================================================\n",
      "Dep. Variable:                  price   No. Observations:                14074\n",
      "Model:                            GLM   Df Residuals:                    14056\n",
      "Model Family:                   Gamma   Df Model:                           17\n",
      "Link Function:          inverse_power   Scale:                        0.073257\n",
      "Method:                          IRLS   Log-Likelihood:            -1.8908e+05\n",
      "Date:                Fri, 19 Jul 2019   Deviance:                       1745.8\n",
      "Time:                        07:26:46   Pearson chi2:                 1.03e+03\n",
      "No. Iterations:                   100                                         \n",
      "Covariance Type:            nonrobust                                         \n",
      "=================================================================================\n",
      "                    coef    std err          z      P>|z|      [0.025      0.975]\n",
      "---------------------------------------------------------------------------------\n",
      "const          2.384e-06   5.48e-09    434.836      0.000    2.37e-06    2.39e-06\n",
      "bedrooms       1.848e-08    5.1e-09      3.622      0.000    8.48e-09    2.85e-08\n",
      "bathrooms     -9.038e-08   4.59e-09    -19.700      0.000   -9.94e-08   -8.14e-08\n",
      "sqft_living   -9.314e-08   3.11e-09    -29.993      0.000   -9.92e-08   -8.71e-08\n",
      "sqft_lot      -1.008e-08    5.1e-09     -1.976      0.048   -2.01e-08   -7.94e-11\n",
      "floors        -1.006e-07   5.38e-09    -18.687      0.000   -1.11e-07      -9e-08\n",
      "waterfront    -2.334e-08   3.15e-09     -7.407      0.000   -2.95e-08   -1.72e-08\n",
      "view          -6.322e-08   2.21e-09    -28.621      0.000   -6.75e-08   -5.89e-08\n",
      "condition     -9.258e-08   4.42e-09    -20.930      0.000   -1.01e-07   -8.39e-08\n",
      "grade         -3.119e-07   5.41e-09    -57.630      0.000   -3.23e-07   -3.01e-07\n",
      "sqft_above    -6.356e-08   3.09e-09    -20.548      0.000   -6.96e-08   -5.75e-08\n",
      "sqft_basement -6.225e-08   2.21e-09    -28.145      0.000   -6.66e-08   -5.79e-08\n",
      "yr_built       2.142e-07   5.96e-09     35.919      0.000    2.03e-07    2.26e-07\n",
      "yr_renovated   4.902e-09   3.94e-09      1.244      0.213   -2.82e-09    1.26e-08\n",
      "lat           -4.013e-07   4.77e-09    -84.116      0.000   -4.11e-07   -3.92e-07\n",
      "long          -1.311e-08   5.33e-09     -2.461      0.014   -2.35e-08   -2.67e-09\n",
      "sqft_living15 -9.632e-08   4.69e-09    -20.536      0.000   -1.06e-07   -8.71e-08\n",
      "sqft_lot15     -2.67e-08   5.22e-09     -5.116      0.000   -3.69e-08   -1.65e-08\n",
      "days          -2.993e-08   3.61e-09     -8.292      0.000    -3.7e-08   -2.29e-08\n",
      "=================================================================================\n"
     ]
    }
   ],
   "source": [
    "res = model3.fit()\n",
    "print(res.summary())"
   ]
  },
  {
   "cell_type": "code",
   "execution_count": null,
   "metadata": {
    "colab": {
     "base_uri": "https://localhost:8080/",
     "height": 52
    },
    "colab_type": "code",
    "executionInfo": {
     "elapsed": 17344,
     "status": "ok",
     "timestamp": 1563521212848,
     "user": {
      "displayName": "Juan Beltran",
      "photoUrl": "https://lh4.googleusercontent.com/-59JSx7DE41I/AAAAAAAAAAI/AAAAAAAAAA0/DsgO9eXs3cI/s64/photo.jpg",
      "userId": "06395049194550718667"
     },
     "user_tz": -60
    },
    "id": "AAywyBH0_GxZ",
    "outputId": "cab1708d-be04-44c7-a71c-31933b8ba258"
   },
   "outputs": [
    {
     "data": {
      "text/plain": [
       "array([ 527066.49939573, 1079169.61020225,  316987.6972639 , ...,\n",
       "        440139.88413689,  527459.98454368,  465941.48865491])"
      ]
     },
     "execution_count": 68,
     "metadata": {
      "tags": []
     },
     "output_type": "execute_result"
    }
   ],
   "source": [
    "#prediction\n",
    "y_pred2 = res.predict(____)\n",
    "y_pred2"
   ]
  },
  {
   "cell_type": "code",
   "execution_count": null,
   "metadata": {
    "colab": {},
    "colab_type": "code",
    "id": "m-5IPIMq_WuN"
   },
   "outputs": [],
   "source": [
    "# Plot the predictions\n",
    "\n",
    "# Build a scatterplot\n",
    "plt.scatter(____, ____)\n",
    "\n",
    "# Add a line for perfect correlation\n",
    "plt.plot([x for x in range(0,1000000)],[x for x in range(0,1000000)], color='red').axis([])\n",
    "\n",
    "# Label it nicely\n",
    "plt.title(\"Model 2 predictions vs. actual\")\n",
    "plt.xlabel(\"Actual\")\n",
    "plt.ylabel(\"Predicted\")"
   ]
  },
  {
   "cell_type": "code",
   "execution_count": null,
   "metadata": {
    "colab": {},
    "colab_type": "code",
    "id": "w8BHKJJ__aEJ"
   },
   "outputs": [],
   "source": [
    "y_test2 = y_test.values\n",
    "residuals =  ____ - ____\n",
    "residuals"
   ]
  },
  {
   "cell_type": "code",
   "execution_count": null,
   "metadata": {
    "colab": {},
    "colab_type": "code",
    "id": "o8chNFnl_xcY"
   },
   "outputs": [],
   "source": [
    "plt.figure(figsize=(16, 10))\n",
    "sns.scatterplot(x= ____, y= ____)"
   ]
  }
 ],
 "metadata": {
  "colab": {
   "collapsed_sections": [],
   "name": "Level_1_Regression_House_Price.ipynb",
   "provenance": [
    {
     "file_id": "1lpPnzEihdAX96LapzVG7AC4tbXFTn6HY",
     "timestamp": 1563521646222
    }
   ],
   "version": "0.3.2"
  },
  "kernelspec": {
   "display_name": "Python 3",
   "language": "python",
   "name": "python3"
  },
  "language_info": {
   "codemirror_mode": {
    "name": "ipython",
    "version": 3
   },
   "file_extension": ".py",
   "mimetype": "text/x-python",
   "name": "python",
   "nbconvert_exporter": "python",
   "pygments_lexer": "ipython3",
   "version": "3.7.4"
  }
 },
 "nbformat": 4,
 "nbformat_minor": 4
}
