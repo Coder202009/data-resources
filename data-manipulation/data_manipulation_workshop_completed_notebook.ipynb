{
 "cells": [
  {
   "cell_type": "markdown",
   "metadata": {},
   "source": [
    "# Data Manipulation"
   ]
  },
  {
   "cell_type": "markdown",
   "metadata": {},
   "source": [
    "### Importing libraries"
   ]
  },
  {
   "cell_type": "code",
   "execution_count": 1,
   "metadata": {},
   "outputs": [],
   "source": [
    "# Import the Pandas library\n",
    "\n",
    "import pandas as pd"
   ]
  },
  {
   "cell_type": "markdown",
   "metadata": {},
   "source": [
    "### Loading the data"
   ]
  },
  {
   "cell_type": "code",
   "execution_count": 2,
   "metadata": {},
   "outputs": [],
   "source": [
    "# Load the data in from an excel file; specify which sheet by name or number\n",
    "\n",
    "plastics = pd.read_excel(\"plastic_data.xlsx\", sheet_name=1)\n",
    "\n",
    "# Possible import problems & solutions\n",
    "# permission error --> if the file is open in another program, close it\n",
    "# filenotfound error --> move the file to the same directory\n",
    "# filenotfound error --> check the file name"
   ]
  },
  {
   "cell_type": "code",
   "execution_count": 3,
   "metadata": {},
   "outputs": [],
   "source": [
    "# View the data\n",
    "\n",
    "plastics"
   ]
  },
  {
   "cell_type": "markdown",
   "metadata": {},
   "source": [
    "#### \"Tidy\" data\n",
    "\n",
    "- Rows should contain the things that you are interested in.\n",
    "- Each column should contain only one type of data.\n",
    "- Each column should record one observation about each row"
   ]
  },
  {
   "cell_type": "code",
   "execution_count": 4,
   "metadata": {},
   "outputs": [],
   "source": [
    "# Transpose (flip) the dataset\n",
    "\n",
    "plastics.T"
   ]
  },
  {
   "cell_type": "markdown",
   "metadata": {},
   "source": [
    "#### Making changes to data in Pandas\n",
    "\n",
    "By default, Pandas always edits a **copy** of your data.\n",
    "\n",
    "You have to explicitly overwrite the original."
   ]
  },
  {
   "cell_type": "code",
   "execution_count": 5,
   "metadata": {},
   "outputs": [],
   "source": [
    "# Transpose the dataset and overwrite the original\n",
    "\n",
    "plastics = plastics.T\n",
    "\n",
    "# Overwriting produces no output; no value is created and left hanging."
   ]
  },
  {
   "cell_type": "markdown",
   "metadata": {},
   "source": [
    "### Inspecting the data"
   ]
  },
  {
   "cell_type": "code",
   "execution_count": 6,
   "metadata": {},
   "outputs": [],
   "source": [
    "# Look at the first rows of the dataset (default is 5)\n",
    "\n",
    "plastics.head()"
   ]
  },
  {
   "cell_type": "code",
   "execution_count": 7,
   "metadata": {},
   "outputs": [],
   "source": [
    "# Look at the last rows of the dataset (default is 5)\n",
    "\n",
    "plastics.tail()"
   ]
  },
  {
   "cell_type": "code",
   "execution_count": 8,
   "metadata": {},
   "outputs": [],
   "source": [
    "# Look at random rows (1 by default)\n",
    "\n",
    "plastics.sample()"
   ]
  },
  {
   "cell_type": "markdown",
   "metadata": {},
   "source": [
    "#### Dataframes\n",
    "\n",
    "A dataframe stores information in rows and columns\n",
    "\n",
    "A series is a data structure that holds values from a single row or column"
   ]
  },
  {
   "cell_type": "code",
   "execution_count": 9,
   "metadata": {},
   "outputs": [],
   "source": [
    "# Check the type of plastics\n",
    "\n",
    "type(plastics)"
   ]
  },
  {
   "cell_type": "code",
   "execution_count": 10,
   "metadata": {},
   "outputs": [],
   "source": [
    "# Check the type of a column\n",
    "\n",
    "type(plastics[0])"
   ]
  },
  {
   "cell_type": "markdown",
   "metadata": {},
   "source": [
    "#### Methods and attributes\n",
    "\n",
    "A dataframe is a kind of data structure and datastructures are **objects**.\n",
    "\n",
    "An object has:\n",
    "- things it knows (attributes)\n",
    "- things it can do (methods)\n",
    "    \n",
    "Attributes don't need brackets. \n",
    "\n",
    "Methods - because they are bound functions - require brackets\n",
    "\n",
    "Dataframes are useful because they have so many built-in methods/attributes to speed up data analysis."
   ]
  },
  {
   "cell_type": "code",
   "execution_count": 11,
   "metadata": {},
   "outputs": [],
   "source": [
    "# Check the size/shape of a dataframe with the .shape attribute\n",
    "\n",
    "plastics.shape\n",
    "\n",
    "# Rows, columns"
   ]
  },
  {
   "cell_type": "markdown",
   "metadata": {},
   "source": [
    "### Subsetting a dataframe by index location"
   ]
  },
  {
   "cell_type": "code",
   "execution_count": 12,
   "metadata": {},
   "outputs": [],
   "source": [
    "# Use .iloc to select rows by position number\n",
    "# Use square brackets\n",
    "\n",
    "plastics.iloc[7:9]\n",
    "\n",
    "# df.iloc[start=0 : end=max]\n",
    "# end is an exclusive boundary"
   ]
  },
  {
   "cell_type": "code",
   "execution_count": 13,
   "metadata": {},
   "outputs": [],
   "source": [
    "# Select rows and columns by position number\n",
    "\n",
    "plastics.iloc[:, 4]\n",
    "\n",
    "# df.iloc[row_start=0 : row_end=max , col_start=0 : col_end=max]"
   ]
  },
  {
   "cell_type": "code",
   "execution_count": 14,
   "metadata": {},
   "outputs": [],
   "source": [
    "# Select a specific set of columns by index location\n",
    "\n",
    "plastics.iloc[[1, 4, 156], [0, 3, 6]]"
   ]
  },
  {
   "cell_type": "markdown",
   "metadata": {},
   "source": [
    "### Fixing the column headings"
   ]
  },
  {
   "cell_type": "code",
   "execution_count": 15,
   "metadata": {},
   "outputs": [],
   "source": [
    "# Access the current columns with an attribute\n",
    "\n",
    "plastics.columns"
   ]
  },
  {
   "cell_type": "code",
   "execution_count": 16,
   "metadata": {},
   "outputs": [],
   "source": [
    "# Use .iloc to get all of the values in row 0\n",
    "\n",
    "new_cols = plastics.iloc[0]"
   ]
  },
  {
   "cell_type": "code",
   "execution_count": 17,
   "metadata": {},
   "outputs": [],
   "source": [
    "# Overwrite the columns with the new columns\n",
    "\n",
    "plastics.columns = new_cols"
   ]
  },
  {
   "cell_type": "code",
   "execution_count": 18,
   "metadata": {},
   "outputs": [],
   "source": [
    "# Use .iloc to select all the rows except row 0\n",
    "# Overwrite the original dataframe, removing row 0\n",
    "\n",
    "plastics = plastics.iloc[1:]"
   ]
  },
  {
   "cell_type": "code",
   "execution_count": 19,
   "metadata": {},
   "outputs": [],
   "source": [
    "plastics.head(3)"
   ]
  },
  {
   "cell_type": "markdown",
   "metadata": {},
   "source": [
    "### Fixing the row index "
   ]
  },
  {
   "cell_type": "code",
   "execution_count": 20,
   "metadata": {},
   "outputs": [],
   "source": [
    "# Reset the index, shuffling the current row labels into the data\n",
    "# and adding a numeric index\n",
    "\n",
    "plastics.reset_index(inplace=True)\n",
    "\n",
    "# Edit the original, not a copy"
   ]
  },
  {
   "cell_type": "code",
   "execution_count": 21,
   "metadata": {},
   "outputs": [],
   "source": [
    "plastics.tail()"
   ]
  },
  {
   "cell_type": "markdown",
   "metadata": {},
   "source": [
    "#### Guidelines for column headings\n",
    "\n",
    "- short\n",
    "- precise\n",
    "- contain no spaces\n",
    "- relevant\n",
    "- lowercase\n",
    "- clearly distinct from each other\n",
    "- no more detailed than they need to be for that dataset"
   ]
  },
  {
   "cell_type": "code",
   "execution_count": 22,
   "metadata": {},
   "outputs": [],
   "source": [
    "# Rename columns\n",
    "# A dict of old:new column names\n",
    "\n",
    "plastics.rename(columns={\"index\": \"country\",\n",
    "                         \"PCapita plastic waste (kg per person per day)\": \"plastic_pc\",\n",
    "                         \"otalpopulatio\": \"total_pop\",\n",
    "                         \"Mismanaged plastic waste (tonnes)\" : \"plastic_mm\"},\n",
    "                inplace=True)"
   ]
  },
  {
   "cell_type": "code",
   "execution_count": 23,
   "metadata": {},
   "outputs": [],
   "source": [
    "plastics.head()"
   ]
  },
  {
   "cell_type": "markdown",
   "metadata": {},
   "source": [
    "### Selecting columns "
   ]
  },
  {
   "cell_type": "code",
   "execution_count": 24,
   "metadata": {},
   "outputs": [],
   "source": [
    "# Select a column by name\n",
    "\n",
    "plastics[\"gdp_pc\"]\n",
    "\n",
    "# Select a set of columns by name\n",
    "\n",
    "plastics[[\"gdp_pc\", \"total_pop\", \"country\"]]\n",
    "\n",
    "# Order doesn't matter"
   ]
  },
  {
   "cell_type": "markdown",
   "metadata": {},
   "source": [
    "### Cleaning the data"
   ]
  },
  {
   "cell_type": "code",
   "execution_count": 25,
   "metadata": {},
   "outputs": [],
   "source": [
    "# Remove a character from a column\n",
    "# Treat the column as a set of strings\n",
    "# In each string, replace $ with nothing\n",
    "# Overwrite the original column\n",
    "\n",
    "plastics[\"gdp_pc\"] = plastics[\"gdp_pc\"].str.replace(\"$\", \"\")"
   ]
  },
  {
   "cell_type": "code",
   "execution_count": 26,
   "metadata": {},
   "outputs": [],
   "source": [
    "plastics.head()"
   ]
  },
  {
   "cell_type": "markdown",
   "metadata": {},
   "source": [
    "### Dealing with missing values "
   ]
  },
  {
   "cell_type": "code",
   "execution_count": 27,
   "metadata": {},
   "outputs": [],
   "source": [
    "# Find all the NA values\n",
    "\n",
    "plastics.isna().sum()"
   ]
  },
  {
   "cell_type": "markdown",
   "metadata": {},
   "source": [
    "#### Strategies for NaN values\n",
    "\n",
    "Missing values have to be dealt with as part of cleaning, but there's no easy solution: this is a matter of judgement, rather than something with a clear best answer. \n",
    "\n",
    "There are two main ways to deal with missing data:\n",
    "\n",
    "1. Remove it: get rid of rows with missing values. This ensures data quality and consistency, but means that any future analysis will be performed on a smaller and less generalisable dataset.\n",
    "\n",
    "2. Assume it: provide a filler value for any gaps, such as 0, or the average of the relevant column. This ensures that you keep as much data as possible, but means that your data is less reliable. Importantly, this should only ever be done when you can make **reasonable** assumptions about a default value.\n",
    "\n",
    "Either strategy can be appropriate, depending on the situation. What's important is that you\n",
    "\n",
    "1. Think carefully about the decision and its implications\n",
    "2. Explain in any report what decisions you made (and why)\n",
    "3. Acknowledge the impact of your decisions on your results"
   ]
  },
  {
   "cell_type": "code",
   "execution_count": 28,
   "metadata": {},
   "outputs": [],
   "source": [
    "# Deal with the NA values\n",
    "\n",
    "# You can fill all the gaps in a column with a value (shown below, commented out), but should be careful with this.\n",
    "\n",
    "# plastics[\"gdp_pc\"].fillna()\n",
    "\n",
    "# Drop all the rows with any missing values\n",
    "\n",
    "plastics.dropna(inplace=True)"
   ]
  },
  {
   "cell_type": "markdown",
   "metadata": {},
   "source": [
    "### Changing data types "
   ]
  },
  {
   "cell_type": "code",
   "execution_count": 29,
   "metadata": {},
   "outputs": [],
   "source": [
    "# Check the types\n",
    "\n",
    "plastics.dtypes"
   ]
  },
  {
   "cell_type": "code",
   "execution_count": 30,
   "metadata": {},
   "outputs": [],
   "source": [
    "# Convert a column to numeric by letting Pandas make assumptions\n",
    "\n",
    "plastics[\"plastic_pc\"] = pd.to_numeric(plastics[\"plastic_pc\"])"
   ]
  },
  {
   "cell_type": "code",
   "execution_count": 31,
   "metadata": {},
   "outputs": [],
   "source": [
    "# Convert a column to a specific type\n",
    "\n",
    "plastics[\"gdp_pc\"] = plastics[\"gdp_pc\"].astype(float)"
   ]
  },
  {
   "cell_type": "code",
   "execution_count": 32,
   "metadata": {},
   "outputs": [],
   "source": [
    "# Convert all columns that should be numeric to be numeric.\n",
    "\n",
    "plastics[[\"total_pop\", \"year\",\n",
    "          \"plastic_mm\", \"coastal_pop\"]] = plastics[[\"total_pop\", \"year\",\n",
    "                                                    \"plastic_mm\", \"coastal_pop\"]].astype(int)"
   ]
  },
  {
   "cell_type": "code",
   "execution_count": 33,
   "metadata": {},
   "outputs": [],
   "source": [
    "# Check the types once more\n",
    "\n",
    "plastics.dtypes"
   ]
  },
  {
   "cell_type": "markdown",
   "metadata": {},
   "source": [
    "### High-level overview methods"
   ]
  },
  {
   "cell_type": "code",
   "execution_count": 34,
   "metadata": {},
   "outputs": [],
   "source": [
    "# Now that we have numeric columns, we can generate summary statistics\n",
    "\n",
    "plastics.describe()"
   ]
  },
  {
   "cell_type": "code",
   "execution_count": 35,
   "metadata": {},
   "outputs": [],
   "source": [
    "# See a range of information about the dataframe, including the count of each column type\n",
    "\n",
    "plastics.info()"
   ]
  },
  {
   "cell_type": "markdown",
   "metadata": {},
   "source": [
    "### Column methods"
   ]
  },
  {
   "cell_type": "code",
   "execution_count": 36,
   "metadata": {},
   "outputs": [],
   "source": [
    "# Round a column to 2 d.p. and overwrite the orignal\n",
    "\n",
    "plastics[\"gdp_pc\"] = plastics[\"gdp_pc\"].round(2)"
   ]
  },
  {
   "cell_type": "code",
   "execution_count": 37,
   "metadata": {},
   "outputs": [],
   "source": [
    "# Get the number of unique values in a column (good for categories)\n",
    "\n",
    "plastics[\"year\"].nunique()"
   ]
  },
  {
   "cell_type": "code",
   "execution_count": 38,
   "metadata": {},
   "outputs": [],
   "source": [
    "# Get the list of unique values in a column\n",
    "\n",
    "plastics[\"year\"].unique()"
   ]
  },
  {
   "cell_type": "code",
   "execution_count": 39,
   "metadata": {},
   "outputs": [],
   "source": [
    "# Get the number of values for each unique value in a column\n",
    "\n",
    "plastics[\"year\"].value_counts()"
   ]
  },
  {
   "cell_type": "code",
   "execution_count": 40,
   "metadata": {},
   "outputs": [],
   "source": [
    "# Get the average of a column\n",
    "\n",
    "plastics[\"gdp_pc\"].mean()\n",
    "\n",
    "# max, min, std, count, sum and various others are also available"
   ]
  },
  {
   "cell_type": "markdown",
   "metadata": {},
   "source": [
    "### Sorting a dataframe"
   ]
  },
  {
   "cell_type": "code",
   "execution_count": 41,
   "metadata": {},
   "outputs": [],
   "source": [
    "# Sort a dataframe based on a column, overwriting the original\n",
    "# by default, the sort is always in ascending order\n",
    "\n",
    "plastics.sort_values(by=\"plastic_mm\", ascending=False, inplace=True)"
   ]
  },
  {
   "cell_type": "code",
   "execution_count": 42,
   "metadata": {},
   "outputs": [],
   "source": [
    "plastics.head()"
   ]
  },
  {
   "cell_type": "markdown",
   "metadata": {},
   "source": [
    "### Filtering a dataframe"
   ]
  },
  {
   "cell_type": "code",
   "execution_count": 43,
   "metadata": {},
   "outputs": [],
   "source": [
    "# Create a true/false filter based on a condition\n",
    "\n",
    "bool_filter = plastics[\"gdp_pc\"] < 1000"
   ]
  },
  {
   "cell_type": "code",
   "execution_count": 44,
   "metadata": {},
   "outputs": [],
   "source": [
    "# Return every row where the filter says True\n",
    "\n",
    "plastics[bool_filter]"
   ]
  },
  {
   "cell_type": "code",
   "execution_count": 45,
   "metadata": {},
   "outputs": [],
   "source": [
    "# One-line format\n",
    "\n",
    "plastics[plastics[\"gdp_pc\"] < 1000]"
   ]
  },
  {
   "cell_type": "code",
   "execution_count": 46,
   "metadata": {},
   "outputs": [],
   "source": [
    "# Filter for all the rows where total_pop is less 40000\n",
    "\n",
    "plastics[plastics[\"total_pop\"] < 40000]\n",
    "\n",
    "# Filter for all the rows where the total_pop is greater than the average\n",
    "\n",
    "plastics[plastics[\"total_pop\"] > plastics[\"total_pop\"].mean()]\n",
    "\n",
    "# Filter for all the rows where the total_pop is less than the coastal_pop\n",
    "\n",
    "plastics[plastics[\"total_pop\"] < plastics[\"coastal_pop\"]]"
   ]
  },
  {
   "cell_type": "code",
   "execution_count": 47,
   "metadata": {},
   "outputs": [],
   "source": [
    "# Filter for multiple conditions using brackets and & (for and) or | (for or)\n",
    "\n",
    "plastics[(plastics[\"gdp_pc\"] > 1000) & (plastics[\"total_pop\"] < 50000)]"
   ]
  },
  {
   "cell_type": "markdown",
   "metadata": {},
   "source": [
    "### Writing clean data to a file "
   ]
  },
  {
   "cell_type": "code",
   "execution_count": 48,
   "metadata": {},
   "outputs": [],
   "source": [
    "# Write your clean dataset to a file, ignoring the index column\n",
    "\n",
    "plastics.to_csv(\"clean_plastics.csv\", index=False)"
   ]
  }
 ],
 "metadata": {
  "kernelspec": {
   "display_name": "Python 3",
   "language": "python",
   "name": "python3"
  },
  "language_info": {
   "codemirror_mode": {
    "name": "ipython",
    "version": 3
   },
   "file_extension": ".py",
   "mimetype": "text/x-python",
   "name": "python",
   "nbconvert_exporter": "python",
   "pygments_lexer": "ipython3",
   "version": "3.7.5"
  }
 },
 "nbformat": 4,
 "nbformat_minor": 2
}
