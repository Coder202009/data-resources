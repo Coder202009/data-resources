{
 "cells": [
  {
   "cell_type": "markdown",
   "metadata": {},
   "source": [
    "# Statistics in Python\n",
    "\n",
    "In this hands-on activity, we're going to learn how to conduct foundational, descriptive, and inferential statistics in Python. Using user review data from Google and Apple, we'll analyse different components of the data to gain a better understanding of the differences between the two companies and how customers perceive the performance of their apps. \n",
    "\n",
    "### Research Question/Brief\n",
    "\n",
    "Did Apple Store apps receive different user ratings than Google Play apps?"
   ]
  },
  {
   "cell_type": "markdown",
   "metadata": {},
   "source": [
    "## Activity Goals\n",
    "After we load and clean our data, we'll do the following:\n",
    "\n",
    "1. Foundations\n",
    "    - Identify levels of measurement for our variables of interest\n",
    "    - Visualize the distributions of our data\n",
    "2. Descriptive statistics\n",
    "    - Calculate and interpret measures of central tendency and spread for our variables of interest\n",
    "3. Inferential statistics \n",
    "    - Restate the formulated hypotheses and determine significance level\n",
    "    - T-tests and other statistical tests"
   ]
  },
  {
   "cell_type": "markdown",
   "metadata": {},
   "source": [
    "## Import Libraries & Load Data\n",
    "To get started, we first need to import our relevant Python libraries, as well as load in our datasets."
   ]
  },
  {
   "cell_type": "code",
   "execution_count": 2,
   "metadata": {},
   "outputs": [],
   "source": [
    "# Import the usual suspects for data manipulation, statistics, and visualisations.\n",
    "import pandas as pd # used to \"tidy\" up and manipulate our data\n",
    "import numpy as np # used for matrix and numerical calculations; foundation of pandas\n",
    "from scipy import stats # contains stats functions and is used to visualise probability distributions\n",
    "import matplotlib.pyplot as plt # used for visualisations\n",
    "import seaborn as sns # a more user-friendly library used for visualisations"
   ]
  },
  {
   "cell_type": "markdown",
   "metadata": {},
   "source": [
    "The data we'll be using today is from Kaggle. Kaggle is an excellent repository of data and various data-driven competitions that people all over the world can compete in. The original data from the Google Store is [here](https://www.kaggle.com/lava18/google-play-store-apps) and the original data from Apple Store is [here](https://www.kaggle.com/ramamet4/app-store-apple-data-set-10k-apps). \n",
    "\n",
    "For today's workshop, the data have already been cleaned and merged into one neat file. Let's download the combined datasets and save them to the Desktop. You can access them [here](https://github.com/DecodedCo/data-fellowship/tree/master/data)."
   ]
  },
  {
   "cell_type": "markdown",
   "metadata": {},
   "source": [
    "For the purposes of this exercise, we'll focus specifically on a few of the variables from each dataset that are of interest for answering our brief.\n",
    "- Category \n",
    "- Rating\n",
    "- Reviews\n",
    "- Price \n",
    "\n",
    "Let's load in the dataset and take a look at each of these columns. "
   ]
  },
  {
   "cell_type": "code",
   "execution_count": 3,
   "metadata": {},
   "outputs": [
    {
     "data": {
      "text/html": [
       "<div>\n",
       "<style scoped>\n",
       "    .dataframe tbody tr th:only-of-type {\n",
       "        vertical-align: middle;\n",
       "    }\n",
       "\n",
       "    .dataframe tbody tr th {\n",
       "        vertical-align: top;\n",
       "    }\n",
       "\n",
       "    .dataframe thead th {\n",
       "        text-align: right;\n",
       "    }\n",
       "</style>\n",
       "<table border=\"1\" class=\"dataframe\">\n",
       "  <thead>\n",
       "    <tr style=\"text-align: right;\">\n",
       "      <th></th>\n",
       "      <th>Category</th>\n",
       "      <th>Rating</th>\n",
       "      <th>Reviews</th>\n",
       "      <th>Price</th>\n",
       "      <th>platform</th>\n",
       "    </tr>\n",
       "  </thead>\n",
       "  <tbody>\n",
       "    <tr>\n",
       "      <td>0</td>\n",
       "      <td>ART_AND_DESIGN</td>\n",
       "      <td>4.1</td>\n",
       "      <td>159</td>\n",
       "      <td>0.0</td>\n",
       "      <td>google</td>\n",
       "    </tr>\n",
       "    <tr>\n",
       "      <td>1</td>\n",
       "      <td>ART_AND_DESIGN</td>\n",
       "      <td>3.9</td>\n",
       "      <td>967</td>\n",
       "      <td>0.0</td>\n",
       "      <td>google</td>\n",
       "    </tr>\n",
       "    <tr>\n",
       "      <td>2</td>\n",
       "      <td>ART_AND_DESIGN</td>\n",
       "      <td>4.7</td>\n",
       "      <td>87510</td>\n",
       "      <td>0.0</td>\n",
       "      <td>google</td>\n",
       "    </tr>\n",
       "    <tr>\n",
       "      <td>3</td>\n",
       "      <td>ART_AND_DESIGN</td>\n",
       "      <td>4.5</td>\n",
       "      <td>215644</td>\n",
       "      <td>0.0</td>\n",
       "      <td>google</td>\n",
       "    </tr>\n",
       "    <tr>\n",
       "      <td>4</td>\n",
       "      <td>ART_AND_DESIGN</td>\n",
       "      <td>4.3</td>\n",
       "      <td>967</td>\n",
       "      <td>0.0</td>\n",
       "      <td>google</td>\n",
       "    </tr>\n",
       "  </tbody>\n",
       "</table>\n",
       "</div>"
      ],
      "text/plain": [
       "         Category  Rating  Reviews  Price platform\n",
       "0  ART_AND_DESIGN     4.1      159    0.0   google\n",
       "1  ART_AND_DESIGN     3.9      967    0.0   google\n",
       "2  ART_AND_DESIGN     4.7    87510    0.0   google\n",
       "3  ART_AND_DESIGN     4.5   215644    0.0   google\n",
       "4  ART_AND_DESIGN     4.3      967    0.0   google"
      ]
     },
     "execution_count": 3,
     "metadata": {},
     "output_type": "execute_result"
    }
   ],
   "source": [
    "# Load the data into a pandas dataframe called 'df' using pandas read_csv\n",
    "df = pd.read_csv(\"apple_google_merged.csv\", index_col=0)\n",
    "\n",
    "# Let's observe the first three entries\n",
    "df.head()"
   ]
  },
  {
   "cell_type": "markdown",
   "metadata": {},
   "source": [
    "## 1. Foundations  \n",
    "In this section of the workshop, we'll cover some of the basics associated with statistics. First, let's take a look at how some of our variables are measured and what their data types are. We can do this quickly by using the `.info()` function."
   ]
  },
  {
   "cell_type": "code",
   "execution_count": 4,
   "metadata": {},
   "outputs": [
    {
     "name": "stdout",
     "output_type": "stream",
     "text": [
      "<class 'pandas.core.frame.DataFrame'>\n",
      "Int64Index: 15634 entries, 0 to 18036\n",
      "Data columns (total 5 columns):\n",
      "Category    15634 non-null object\n",
      "Rating      15634 non-null float64\n",
      "Reviews     15634 non-null int64\n",
      "Price       15634 non-null float64\n",
      "platform    15634 non-null object\n",
      "dtypes: float64(2), int64(1), object(2)\n",
      "memory usage: 732.8+ KB\n"
     ]
    }
   ],
   "source": [
    "df.info()"
   ]
  },
  {
   "cell_type": "markdown",
   "metadata": {},
   "source": [
    "Based on the output, we can see that are variables are various data types. Most importantly, some of them are floats, while some of them are integers. For example, the variable 'Reviews' is an integer, which means it's a whole number. However, the 'Rating' variable is a float, which means it can have decimal points.  \n",
    "\n",
    "For our brief, we are primarily concerned with the **ratings** given to Apple and Google. We can get a better feel for how the variable 'Rating' is measured by using the `.unique()` and `.value_counts()` functions."
   ]
  },
  {
   "cell_type": "code",
   "execution_count": 5,
   "metadata": {},
   "outputs": [
    {
     "data": {
      "text/plain": [
       "array([4.1, 3.9, 4.7, 4.5, 4.3, 4.4, 3.8, 4.2, 4.6, 3.2, 4. , 4.8, 4.9,\n",
       "       3.6, 3.7, 3.3, 3.4, 3.5, 3.1, 5. , 2.6, 3. , 1.9, 2.5, 2.8, 2.7,\n",
       "       1. , 2.9, 2.3, 2.2, 1.7, 2. , 1.8, 2.4, 1.6, 2.1, 1.4, 1.5, 1.2])"
      ]
     },
     "execution_count": 5,
     "metadata": {},
     "output_type": "execute_result"
    }
   ],
   "source": [
    "df['Rating'].unique()"
   ]
  },
  {
   "cell_type": "code",
   "execution_count": 6,
   "metadata": {},
   "outputs": [
    {
     "data": {
      "text/plain": [
       "4.5    3701\n",
       "4.0    2194\n",
       "4.4    1109\n",
       "4.3    1076\n",
       "4.2     952\n",
       "3.5     865\n",
       "4.6     823\n",
       "5.0     766\n",
       "4.1     708\n",
       "4.7     499\n",
       "3.0     466\n",
       "3.9     386\n",
       "3.8     303\n",
       "3.7     239\n",
       "4.8     234\n",
       "2.5     217\n",
       "3.6     174\n",
       "3.4     128\n",
       "2.0     118\n",
       "3.3     102\n",
       "4.9      87\n",
       "3.1      69\n",
       "3.2      64\n",
       "1.0      60\n",
       "1.5      59\n",
       "2.9      45\n",
       "2.8      42\n",
       "2.6      25\n",
       "2.7      25\n",
       "2.3      20\n",
       "2.4      19\n",
       "2.2      14\n",
       "1.9      13\n",
       "1.8       8\n",
       "1.7       8\n",
       "2.1       8\n",
       "1.6       4\n",
       "1.4       3\n",
       "1.2       1\n",
       "Name: Rating, dtype: int64"
      ]
     },
     "execution_count": 6,
     "metadata": {},
     "output_type": "execute_result"
    }
   ],
   "source": [
    "df['Rating'].value_counts()"
   ]
  },
  {
   "cell_type": "markdown",
   "metadata": {},
   "source": [
    "We can see that the variable 'Rating' is a continuous variable, but we can't tell much beyond that. To glean more insight, let's use the `.describe` function on the 'Rating' variable."
   ]
  },
  {
   "cell_type": "code",
   "execution_count": 7,
   "metadata": {},
   "outputs": [
    {
     "data": {
      "text/plain": [
       "count    15634.000000\n",
       "mean         4.134802\n",
       "std          0.612953\n",
       "min          1.000000\n",
       "25%          4.000000\n",
       "50%          4.300000\n",
       "75%          4.500000\n",
       "max          5.000000\n",
       "Name: Rating, dtype: float64"
      ]
     },
     "execution_count": 7,
     "metadata": {},
     "output_type": "execute_result"
    }
   ],
   "source": [
    "df[\"Rating\"].describe()"
   ]
  },
  {
   "cell_type": "markdown",
   "metadata": {},
   "source": [
    "The variable ranges from 1 to 5, with a mean of 4.13. However, we don't know how this differs between the two companies we are analysing! Let's use the `.groupby()` function in tandem with the `.describe()` function to get some more information on ratings for Apple and Google. "
   ]
  },
  {
   "cell_type": "code",
   "execution_count": 8,
   "metadata": {},
   "outputs": [
    {
     "data": {
      "text/html": [
       "<div>\n",
       "<style scoped>\n",
       "    .dataframe tbody tr th:only-of-type {\n",
       "        vertical-align: middle;\n",
       "    }\n",
       "\n",
       "    .dataframe tbody tr th {\n",
       "        vertical-align: top;\n",
       "    }\n",
       "\n",
       "    .dataframe thead th {\n",
       "        text-align: right;\n",
       "    }\n",
       "</style>\n",
       "<table border=\"1\" class=\"dataframe\">\n",
       "  <thead>\n",
       "    <tr style=\"text-align: right;\">\n",
       "      <th></th>\n",
       "      <th>count</th>\n",
       "      <th>mean</th>\n",
       "      <th>std</th>\n",
       "      <th>min</th>\n",
       "      <th>25%</th>\n",
       "      <th>50%</th>\n",
       "      <th>75%</th>\n",
       "      <th>max</th>\n",
       "    </tr>\n",
       "    <tr>\n",
       "      <th>platform</th>\n",
       "      <th></th>\n",
       "      <th></th>\n",
       "      <th></th>\n",
       "      <th></th>\n",
       "      <th></th>\n",
       "      <th></th>\n",
       "      <th></th>\n",
       "      <th></th>\n",
       "    </tr>\n",
       "  </thead>\n",
       "  <tbody>\n",
       "    <tr>\n",
       "      <td>apple</td>\n",
       "      <td>6268.0</td>\n",
       "      <td>4.049697</td>\n",
       "      <td>0.726943</td>\n",
       "      <td>1.0</td>\n",
       "      <td>4.0</td>\n",
       "      <td>4.5</td>\n",
       "      <td>4.5</td>\n",
       "      <td>5.0</td>\n",
       "    </tr>\n",
       "    <tr>\n",
       "      <td>google</td>\n",
       "      <td>9366.0</td>\n",
       "      <td>4.191757</td>\n",
       "      <td>0.515219</td>\n",
       "      <td>1.0</td>\n",
       "      <td>4.0</td>\n",
       "      <td>4.3</td>\n",
       "      <td>4.5</td>\n",
       "      <td>5.0</td>\n",
       "    </tr>\n",
       "  </tbody>\n",
       "</table>\n",
       "</div>"
      ],
      "text/plain": [
       "           count      mean       std  min  25%  50%  75%  max\n",
       "platform                                                     \n",
       "apple     6268.0  4.049697  0.726943  1.0  4.0  4.5  4.5  5.0\n",
       "google    9366.0  4.191757  0.515219  1.0  4.0  4.3  4.5  5.0"
      ]
     },
     "execution_count": 8,
     "metadata": {},
     "output_type": "execute_result"
    }
   ],
   "source": [
    "df.groupby(by='platform')['Rating'].describe()"
   ]
  },
  {
   "cell_type": "markdown",
   "metadata": {},
   "source": [
    "It seems that the data we are most interested in - the ratings among users for each platform - are _continuous_. It also appears that the data have a discernable order and are measured in _intervals_, with a rating of 1 being the lowest and a rating of 5 being the highest. With this information in hand, we can explore the descriptive statistics of our data, specifically the ratings among users of Google and Apple apps."
   ]
  },
  {
   "cell_type": "markdown",
   "metadata": {},
   "source": [
    "### Visualising distributions\n",
    "We can also visualise our variables by using the `Seaborn` package. Visualising our data helps us understand the distributions of the data points, which in turn helps us make decisions about how we test our hypotheses, etc. "
   ]
  },
  {
   "cell_type": "markdown",
   "metadata": {},
   "source": [
    "We'll use the `distplot` to create a figure that shows the shape of our data. We can do this for our overall data, as well as for the variables in our dataset. Like we've done above, we'll focus on the 'Ratings' variable since it's our variable of interest for our brief."
   ]
  },
  {
   "cell_type": "code",
   "execution_count": 9,
   "metadata": {},
   "outputs": [
    {
     "data": {
      "text/plain": [
       "<matplotlib.axes._subplots.AxesSubplot at 0x114dac810>"
      ]
     },
     "execution_count": 9,
     "metadata": {},
     "output_type": "execute_result"
    },
    {
     "data": {
      "image/png": "[encoded data removed]",
      "text/plain": [
       "<Figure size 432x288 with 1 Axes>"
      ]
     },
     "metadata": {
      "needs_background": "light"
     },
     "output_type": "display_data"
    }
   ],
   "source": [
    "sns.distplot(df['Rating'], hist=True, rug=False)"
   ]
  },
  {
   "cell_type": "code",
   "execution_count": 10,
   "metadata": {},
   "outputs": [
    {
     "data": {
      "text/plain": [
       "Text(0, 0.5, 'Density')"
      ]
     },
     "execution_count": 10,
     "metadata": {},
     "output_type": "execute_result"
    },
    {
     "data": {
      "image/png": "[encoded data removed]",
      "text/plain": [
       "<Figure size 432x288 with 1 Axes>"
      ]
     },
     "metadata": {
      "needs_background": "light"
     },
     "output_type": "display_data"
    }
   ],
   "source": [
    "apple = df[df.platform == 'apple']\n",
    "google = df[df.platform == 'google']\n",
    "\n",
    "sns.distplot(apple['Rating'], hist = True, kde = False, label='Apple')\n",
    "sns.distplot(google['Rating'], hist = True, kde = False, label='Google')\n",
    "\n",
    "# Plot formatting\n",
    "plt.legend(prop={'size': 12})\n",
    "plt.title('Distribution of User Ratings: Apple & Google')\n",
    "plt.xlabel('Rating')\n",
    "plt.ylabel('Density') "
   ]
  },
  {
   "cell_type": "markdown",
   "metadata": {},
   "source": [
    "## 2. Descriptive Statistics \n",
    "In this section of the workshop, we'll explore the descriptive statistics of our dataset. You'll cover descriptive statistics in more depth in your online practice, but here we'll cover measures of central tendency, as well as visualise the distributions of our data. \n",
    "\n",
    "Let's start by using the `.describe` function again on our data, which will easily return calculations like the mean, standard deviation, and min/max for each of the variables in our dataset."
   ]
  },
  {
   "cell_type": "code",
   "execution_count": 11,
   "metadata": {},
   "outputs": [
    {
     "data": {
      "text/html": [
       "<div>\n",
       "<style scoped>\n",
       "    .dataframe tbody tr th:only-of-type {\n",
       "        vertical-align: middle;\n",
       "    }\n",
       "\n",
       "    .dataframe tbody tr th {\n",
       "        vertical-align: top;\n",
       "    }\n",
       "\n",
       "    .dataframe thead th {\n",
       "        text-align: right;\n",
       "    }\n",
       "</style>\n",
       "<table border=\"1\" class=\"dataframe\">\n",
       "  <thead>\n",
       "    <tr style=\"text-align: right;\">\n",
       "      <th></th>\n",
       "      <th>Rating</th>\n",
       "      <th>Reviews</th>\n",
       "      <th>Price</th>\n",
       "    </tr>\n",
       "  </thead>\n",
       "  <tbody>\n",
       "    <tr>\n",
       "      <td>count</td>\n",
       "      <td>15634.000000</td>\n",
       "      <td>1.563400e+04</td>\n",
       "      <td>15634.000000</td>\n",
       "    </tr>\n",
       "    <tr>\n",
       "      <td>mean</td>\n",
       "      <td>4.134802</td>\n",
       "      <td>3.138916e+05</td>\n",
       "      <td>1.306140</td>\n",
       "    </tr>\n",
       "    <tr>\n",
       "      <td>std</td>\n",
       "      <td>0.612953</td>\n",
       "      <td>2.446250e+06</td>\n",
       "      <td>12.848935</td>\n",
       "    </tr>\n",
       "    <tr>\n",
       "      <td>min</td>\n",
       "      <td>1.000000</td>\n",
       "      <td>1.000000e+00</td>\n",
       "      <td>0.000000</td>\n",
       "    </tr>\n",
       "    <tr>\n",
       "      <td>25%</td>\n",
       "      <td>4.000000</td>\n",
       "      <td>1.150000e+02</td>\n",
       "      <td>0.000000</td>\n",
       "    </tr>\n",
       "    <tr>\n",
       "      <td>50%</td>\n",
       "      <td>4.300000</td>\n",
       "      <td>1.628000e+03</td>\n",
       "      <td>0.000000</td>\n",
       "    </tr>\n",
       "    <tr>\n",
       "      <td>75%</td>\n",
       "      <td>4.500000</td>\n",
       "      <td>2.814825e+04</td>\n",
       "      <td>0.000000</td>\n",
       "    </tr>\n",
       "    <tr>\n",
       "      <td>max</td>\n",
       "      <td>5.000000</td>\n",
       "      <td>7.815831e+07</td>\n",
       "      <td>400.000000</td>\n",
       "    </tr>\n",
       "  </tbody>\n",
       "</table>\n",
       "</div>"
      ],
      "text/plain": [
       "             Rating       Reviews         Price\n",
       "count  15634.000000  1.563400e+04  15634.000000\n",
       "mean       4.134802  3.138916e+05      1.306140\n",
       "std        0.612953  2.446250e+06     12.848935\n",
       "min        1.000000  1.000000e+00      0.000000\n",
       "25%        4.000000  1.150000e+02      0.000000\n",
       "50%        4.300000  1.628000e+03      0.000000\n",
       "75%        4.500000  2.814825e+04      0.000000\n",
       "max        5.000000  7.815831e+07    400.000000"
      ]
     },
     "execution_count": 11,
     "metadata": {},
     "output_type": "execute_result"
    }
   ],
   "source": [
    "df.describe()"
   ]
  },
  {
   "cell_type": "markdown",
   "metadata": {},
   "source": [
    "### Measures of Central Tendency \n",
    "In addition to the `.describe()` function, there are a number of other built-in functions provided by the `pandas` library that help us obtain our measures of central tendency. We can pull out a number of useful descriptive statistics by calling any of the variables in our dataset and then adding the measure of central tendency to the end.\n",
    "\n",
    "How would we compute these without the `pandas` functions?"
   ]
  },
  {
   "cell_type": "code",
   "execution_count": 8,
   "metadata": {},
   "outputs": [
    {
     "data": {
      "text/plain": [
       "4.3"
      ]
     },
     "execution_count": 8,
     "metadata": {},
     "output_type": "execute_result"
    }
   ],
   "source": [
    "# Median\n",
    "df['Rating'].median()"
   ]
  },
  {
   "cell_type": "code",
   "execution_count": 9,
   "metadata": {},
   "outputs": [
    {
     "data": {
      "text/plain": [
       "4.134802353844186"
      ]
     },
     "execution_count": 9,
     "metadata": {},
     "output_type": "execute_result"
    }
   ],
   "source": [
    "# Mean\n",
    "df['Rating'].mean()"
   ]
  },
  {
   "cell_type": "code",
   "execution_count": 10,
   "metadata": {},
   "outputs": [
    {
     "data": {
      "text/plain": [
       "0    4.5\n",
       "dtype: float64"
      ]
     },
     "execution_count": 10,
     "metadata": {},
     "output_type": "execute_result"
    }
   ],
   "source": [
    "# Mode\n",
    "df['Rating'].mode()"
   ]
  },
  {
   "cell_type": "markdown",
   "metadata": {},
   "source": [
    "What if we wanted to get the measures of central tendency, but grouped by the platform (e.g., Google or Apple)? We can use the `.groupby()` function again to do this. Like before, we can find the mean, median, and mode for the 'Rating' variable for users of the Apple and Google apps. "
   ]
  },
  {
   "cell_type": "code",
   "execution_count": 25,
   "metadata": {},
   "outputs": [
    {
     "data": {
      "text/plain": [
       "platform\n",
       "apple     4.049697\n",
       "google    4.191757\n",
       "Name: Rating, dtype: float64"
      ]
     },
     "execution_count": 25,
     "metadata": {},
     "output_type": "execute_result"
    }
   ],
   "source": [
    "# Mean by group\n",
    "df.groupby(by='platform')['Rating'].mean()"
   ]
  },
  {
   "cell_type": "code",
   "execution_count": 28,
   "metadata": {},
   "outputs": [
    {
     "data": {
      "text/plain": [
       "platform\n",
       "apple     4.5\n",
       "google    4.3\n",
       "Name: Rating, dtype: float64"
      ]
     },
     "execution_count": 28,
     "metadata": {},
     "output_type": "execute_result"
    }
   ],
   "source": [
    "# Median by group\n",
    "df.groupby(by='platform')['Rating'].median()"
   ]
  },
  {
   "cell_type": "code",
   "execution_count": 29,
   "metadata": {},
   "outputs": [
    {
     "data": {
      "text/plain": [
       "platform\n",
       "apple     4.5\n",
       "google    4.4\n",
       "Name: Rating, dtype: float64"
      ]
     },
     "execution_count": 29,
     "metadata": {},
     "output_type": "execute_result"
    }
   ],
   "source": [
    "# Mode by group\n",
    "df.groupby(by='platform')['Rating'].agg(pd.Series.mode)"
   ]
  },
  {
   "cell_type": "markdown",
   "metadata": {},
   "source": [
    "Based on these results, we can tentatively identify a few trends in the app data. If we're basing our evaluations on the mean, it appears Google has better average app ratings than Apple does. However, if we base our evaluations on the median (which isn't sensitive to outliers like the mean), it appears Apple has higher user ratings. Overall, both platforms seem to receive pretty decent ratings based on the mode (4.5 for Apple and 4.4 for Google, respectively)."
   ]
  },
  {
   "cell_type": "markdown",
   "metadata": {},
   "source": [
    "### Measures of Spread\n",
    "We also need to know how much spread/deviation/variation there is in our data. The measures of central tendency that we've calculated for both platforms are similar, so it will be useful to dig a little deepter to understand how dispersed our data points are among users who provide app ratings for Google and Apple."
   ]
  },
  {
   "cell_type": "code",
   "execution_count": 37,
   "metadata": {},
   "outputs": [
    {
     "data": {
      "text/plain": [
       "4.0"
      ]
     },
     "execution_count": 37,
     "metadata": {},
     "output_type": "execute_result"
    }
   ],
   "source": [
    "# Range\n",
    "df['Rating'].max()-df['Rating'].min()"
   ]
  },
  {
   "cell_type": "markdown",
   "metadata": {},
   "source": [
    " We also need to know how much variation there is around the mean of our data. The **variance** gives us the mathematical dispersion of the data relative to the mean. However, the units aren't great for comparison because they're squared, so we also rely on the standard deviation. **Standard deviation** is the square root of the variance and gives a value that's on the same scale as the original values, which helps with interpretation. Like before, we can use the built-in `pandas` functions to get these values. \n",
    " \n",
    " How would we compute these without the `pandas` functions?"
   ]
  },
  {
   "cell_type": "code",
   "execution_count": 13,
   "metadata": {},
   "outputs": [
    {
     "data": {
      "text/plain": [
       "0.3757112543512684"
      ]
     },
     "execution_count": 13,
     "metadata": {},
     "output_type": "execute_result"
    }
   ],
   "source": [
    "# Variance\n",
    "df['Rating'].var()"
   ]
  },
  {
   "cell_type": "code",
   "execution_count": 42,
   "metadata": {},
   "outputs": [
    {
     "data": {
      "text/plain": [
       "0.6129528973349163"
      ]
     },
     "execution_count": 42,
     "metadata": {},
     "output_type": "execute_result"
    }
   ],
   "source": [
    "# Standard deviation\n",
    "df['Rating'].std()"
   ]
  },
  {
   "cell_type": "markdown",
   "metadata": {},
   "source": [
    "While informative, this doesn't tell us much about the spread of the data based on our two platforms, Apple and Google. For example, it's the case that the mode for both groups are similar, but is it also the case that the standard deviation of ratings are similar between Apple and Google? Let's take a closer look at some of the metrics by group."
   ]
  },
  {
   "cell_type": "code",
   "execution_count": 38,
   "metadata": {},
   "outputs": [
    {
     "data": {
      "text/plain": [
       "platform\n",
       "apple     4.0\n",
       "google    4.0\n",
       "Name: Rating, dtype: float64"
      ]
     },
     "execution_count": 38,
     "metadata": {},
     "output_type": "execute_result"
    }
   ],
   "source": [
    "df.groupby(by='platform')['Rating'].max()-df['Rating'].min()"
   ]
  },
  {
   "cell_type": "code",
   "execution_count": 39,
   "metadata": {},
   "outputs": [
    {
     "data": {
      "text/plain": [
       "platform\n",
       "apple     0.528446\n",
       "google    0.265450\n",
       "Name: Rating, dtype: float64"
      ]
     },
     "execution_count": 39,
     "metadata": {},
     "output_type": "execute_result"
    }
   ],
   "source": [
    "# Variance by group\n",
    "df.groupby(by='platform')['Rating'].var()"
   ]
  },
  {
   "cell_type": "code",
   "execution_count": 40,
   "metadata": {},
   "outputs": [
    {
     "data": {
      "text/plain": [
       "platform\n",
       "apple     0.726943\n",
       "google    0.515219\n",
       "Name: Rating, dtype: float64"
      ]
     },
     "execution_count": 40,
     "metadata": {},
     "output_type": "execute_result"
    }
   ],
   "source": [
    "# Standard deviation by group\n",
    "df.groupby(by='platform')['Rating'].std()"
   ]
  },
  {
   "cell_type": "markdown",
   "metadata": {},
   "source": [
    "When grouped by app platform, the measures of spread aluminate the differences between Apple and Google user ratings. For example, when the standard deviation is small, it means the data points are grouped closer to the mean, while a larger standard deviation means they're more dispersed. In this case, there is more variability among the ratings provided by Apple users than there are for Google users. Recall that our group means are somewhat similar (4.04 for Apple and 4.19 for Google), so analysing the spread gives us a better idea of how close to the mean each group's user ratings are. It also suggests there are fewer higher and lower rating values among Google users when compared to Apple users. "
   ]
  },
  {
   "cell_type": "markdown",
   "metadata": {},
   "source": [
    "We can visualise the spread of our data using a boxplot from the `seaborn` package. The length of the blue box, for example, represents the interquartile range of the Google users, with the middle line denoting the median. The \"whiskers\" are the lines coming off of each side of the box, which represent the minimum to the median value (the 1st quartile/25th percentile) and the median to the maximum value (the 3rd quartile/75th percentile). Outliers are outside of the whiskers."
   ]
  },
  {
   "cell_type": "code",
   "execution_count": 46,
   "metadata": {},
   "outputs": [
    {
     "data": {
      "text/plain": [
       "<matplotlib.axes._subplots.AxesSubplot at 0x118935550>"
      ]
     },
     "execution_count": 46,
     "metadata": {},
     "output_type": "execute_result"
    },
    {
     "data": {
      "image/png": "[encoded data removed]",
      "text/plain": [
       "<Figure size 432x288 with 1 Axes>"
      ]
     },
     "metadata": {
      "needs_background": "light"
     },
     "output_type": "display_data"
    }
   ],
   "source": [
    "sns.boxplot(x=df['Rating'], y=df['platform'])"
   ]
  },
  {
   "cell_type": "markdown",
   "metadata": {},
   "source": [
    "## 3. Inferential Statistics\n",
    "Finally, we'll use inferential statistics to make generlizations about our data samples to the larger population. The first step in this process is to define the hypotheses that we want to test. Let's formulate a null and an alternative hypothesis for the question from our brief.\n",
    "\n",
    "**H<sub>null</sub>**: The average user ratings of Apple and Google users are equal (e.g., there is no difference between the two). \n",
    "\n",
    "**H<sub>alternative</sub>**: The average user ratings of Apple users is different than that of Google users. \n",
    "\n",
    "Next, we'll determine the significance level. While this differs among disciplines, the conventional level is 95% with a p-value < .05.\n",
    "\n",
    "**Significance level**: 0.05\n",
    "\n",
    "Now that the hypotheses and significance levels are defined, we are going to try to reject or accept the null hypothesis by using statistical tests. We'll start with the [Student's t-test](https://en.wikipedia.org/wiki/Student%27s_t-test#Independent_two-sample_t-test), which is derived from the t-distribution, to evaluate differences between two independent groups. For our brief, we'll conduct a Student's t-test using the `stats.ttest_ind` function to compare the differences between Apple and Google user ratings."
   ]
  },
  {
   "cell_type": "code",
   "execution_count": 48,
   "metadata": {},
   "outputs": [],
   "source": [
    "# Create subsets of the column 'Rating' by the different platforms so we can do a t-test. \n",
    "apple = df[df['platform']== 'apple']['Rating']\n",
    "google = df[df['platform']== 'google']['Rating']"
   ]
  },
  {
   "cell_type": "code",
   "execution_count": 67,
   "metadata": {},
   "outputs": [
    {
     "data": {
      "text/plain": [
       "Ttest_indResult(statistic=-14.294169045166113, pvalue=4.642189615775503e-46)"
      ]
     },
     "execution_count": 67,
     "metadata": {},
     "output_type": "execute_result"
    }
   ],
   "source": [
    "# Run a Student's t-test\n",
    "t_test =stats.ttest_ind(apple, google)\n",
    "\n",
    "# Check summary results\n",
    "t_test"
   ]
  },
  {
   "cell_type": "code",
   "execution_count": 55,
   "metadata": {},
   "outputs": [
    {
     "name": "stdout",
     "output_type": "stream",
     "text": [
      "The p-value is 4.642189615775503e-46 so the observed differences are very unlikely to be due to chance. We reject the null hypothesis.\n"
     ]
    }
   ],
   "source": [
    "# Let's use an if-else statement to spit out a coherent result for us\n",
    "if t_test.pvalue < 0.05:\n",
    "    print('The p-value is', t_test.pvalue,\n",
    "          'so the observed differences are very unlikely to be due to chance. We reject the null hypothesis.')\n",
    "else:\n",
    "    print('The p-value is', t_test.pvalue,\n",
    "          'so the observed differences are likely to be due to chance. We accept the null hypothesis.')"
   ]
  },
  {
   "cell_type": "markdown",
   "metadata": {},
   "source": [
    "The results from our Student's t-test - specifically, the very small p-value - suggest that we can reject the null hypothesis that there are not significant differences between Apple and Google users and their app ratings. However, there are a number of assumptions that are built into the Student's t-test (you can read more [here](https://en.wikipedia.org/wiki/Student%27s_t-test#Independent_two-sample_t-test)). This test assumes that the variances between groups are equal. As we discovered while exploring our descriptive statistics, this isn't the case. To get around this assumption, we can use a Welch’s t-test from the `stats.ttest` function we used above, which doesn't make this assumption if we set the parameter `equal_var` to `False`."
   ]
  },
  {
   "cell_type": "code",
   "execution_count": 56,
   "metadata": {},
   "outputs": [
    {
     "name": "stdout",
     "output_type": "stream",
     "text": [
      "The p-value is 1.607484672627137e-40 so the observed differences are very unlikely to be due to chance. We reject the null hypothesis.\n"
     ]
    }
   ],
   "source": [
    "# Run a Welch's t-test (unequal variances)\n",
    "welch = stats.ttest_ind( apple, google, equal_var= False)\n",
    "if welch.pvalue < 0.05:\n",
    "    print('The p-value is', welch.pvalue,\n",
    "          'so the observed differences are very unlikely to be due to chance. We reject the null hypothesis.')\n",
    "else:\n",
    "    print('The p-value is', welch.pvalue,\n",
    "          'so the observed differences are likely to be due to chance. We accept the null hypothesis.')"
   ]
  },
  {
   "cell_type": "markdown",
   "metadata": {},
   "source": [
    "Good news! After running the Welch's t-test, our suspicions are still confirmed: there are differences between Apple and Google user ratings. Unfortunately, there are even more assumptions that both the Student's and Welch's t-test make about the data. Importantly, both tests assume that the distribution of the data is normal. We know from our figures in the descriptive statistics section that the distribution is _somewhat_ normal, though skewed. We can conduct a more formal test using the function `stats.normaltest` to confirm this. The null hypothesis of the normality test is that the data is normally distributed. "
   ]
  },
  {
   "cell_type": "code",
   "execution_count": 61,
   "metadata": {},
   "outputs": [
    {
     "data": {
      "text/plain": [
       "NormaltestResult(statistic=1778.9974234584017, pvalue=0.0)"
      ]
     },
     "execution_count": 61,
     "metadata": {},
     "output_type": "execute_result"
    }
   ],
   "source": [
    "# Save result in a variable called 'apple_normal'\n",
    "apple_normal = stats.normaltest(apple)\n",
    "apple_normal"
   ]
  },
  {
   "cell_type": "code",
   "execution_count": 62,
   "metadata": {},
   "outputs": [
    {
     "data": {
      "text/plain": [
       "NormaltestResult(statistic=3678.6157187516856, pvalue=0.0)"
      ]
     },
     "execution_count": 62,
     "metadata": {},
     "output_type": "execute_result"
    }
   ],
   "source": [
    "# Save result in a variable called 'google_normal'\n",
    "google_normal = stats.normaltest(google)\n",
    "google_normal"
   ]
  },
  {
   "cell_type": "markdown",
   "metadata": {},
   "source": [
    "The p-values from our normality tests are both zero, which means we can reject the null and conclude that the data for both groups is not normally distributed (you can also use a histogram to see the distribution of the data with the code `plt.hist`). \n",
    "\n",
    "As you may have guessed by now, there is a test for when this occurs! These are called **non-parametric tests**, which means the assumtions about normality and equal variances are relaxed so that we can test for group differences. The equivalent non-parametric version of a Student's t-test is the Mann-Whitney U Test. To conduct this, we can use the function `stats.mannwhitneyu`. "
   ]
  },
  {
   "cell_type": "code",
   "execution_count": 64,
   "metadata": {},
   "outputs": [
    {
     "name": "stdout",
     "output_type": "stream",
     "text": [
      "The p-value is 1.4464448193978504e-12 so the observed differences are very unlikely to be due to chance. We reject the null hypothesis.\n"
     ]
    }
   ],
   "source": [
    "# Run a Mann-Whitney U Test (non-parametric)\n",
    "mann_whitney = stats.mannwhitneyu(apple, google)\n",
    "if mann_whitney.pvalue < 0.05:\n",
    "    print('The p-value is', mann_whitney.pvalue,\n",
    "          'so the observed differences are very unlikely to be due to chance. We reject the null hypothesis.')\n",
    "else:\n",
    "    print('The p-value is', mann_whitney.pvalue,\n",
    "          'so the observed differences are likely to be due to chance. We accept the null hypothesis.')"
   ]
  },
  {
   "cell_type": "markdown",
   "metadata": {},
   "source": [
    "Again, based on our p-value, we can reject the null hypothesis and conclude that there are, in fact, significant differences between the Apple and Google ratings that users provide. "
   ]
  },
  {
   "cell_type": "markdown",
   "metadata": {},
   "source": [
    "> Another non-parametric option is a `permutation test`. Similar to the Mann-Whitney U test, permutation tests make no assumptions about the distribution of your data. The null hypothesis is that the two different groups - here, the mean ratings of Apple and Google users - come from the same distribution. If you fail to reject the null after looking at your p-value, that means that the distributions of the two groups _are_ different. The [`mlxtend` package](http://rasbt.github.io/mlxtend/user_guide/evaluate/permutation_test/) is a good resource to use for permutation tests."
   ]
  },
  {
   "cell_type": "markdown",
   "metadata": {},
   "source": [
    "## Conclusions\n",
    "We've run through a number of statistical tools to better understand our data and answer the question posed at the beginning of this workshop: Did Apple Store apps receive different average user ratings than Google Play apps by users? The calculation of our group means indicates this is the case. Our analysis of the descriptive statistics suggest that Google's ratings were, on average, a bit better than Apple's. After running a series of statistical tests (including the Student's t-test, Welch's t-test, and Mann-Whitney U test), we failed to accept the null hypothesis, which confirmed that the average user ratings between the two groups are different from one another. "
   ]
  },
  {
   "cell_type": "markdown",
   "metadata": {},
   "source": [
    "## Further Extensions - ANOVA"
   ]
  },
  {
   "cell_type": "markdown",
   "metadata": {},
   "source": [
    "Perhaps we have more than two groups whose differences in mean user ratings we want to examine. For example, the Amazon Appstore is an alternative to the Google and Apple platforms and provides apps for users of Androids. To investigate whether there are significant differences between the mean user ratings of all three groups, we can use a process called [_Analysis of Variance_](https://statistics.laerd.com/statistical-guides/one-way-anova-statistical-guide.php) (or ANOVA). \n",
    "\n",
    "If we wanted to construct null and alternative hypotheses for multiple groups, they would look something like this:\n",
    "\n",
    "H<sub>null</sub>:The mean user rating is the same among all three platforms.\n",
    "\n",
    "H<sub>alternative</sub>: The mean user rating is _not_ the same among all three platforms. \n",
    "\n",
    "ANOVA is a method that allows us to test these hypotheses. The basic idea is to break up the variation of our data into two groups - _between_  and _within_ - to see if there are group differences. If the between group variation is larger than the within group variation, the means of our groups will not be equal. If the between and within group variations are approximately the same size, then we should expect there to be no significant differences between our groups means. ANOVA assumes normality, independent random samples, and homogeneity of variances.\n",
    "\n",
    "To evaluate whether there are statistically significant differences among the three groups, we can compute an F statistic derived from the F distribution using the ratio of the between and within group variance (for more on the F statistic, see [this](https://statisticsbyjim.com/anova/f-tests-anova/)). As the F statistics gets larger, so too does the chance of rejecting the null hypothesis. Similar to t-tests, the p-value associated with the F statistic helps us determine if we can reject the null hypothesis. For example, if our significance level is 95% and our p-value for our F statistic is <= .05 when we use an ANOVA, we can say that the mean user ratings for the Google, Apple, and Amazon app stores are statistically not all equal for these three groups. \n",
    "\n",
    "There are various ways to [conduct an ANOVA in Python](https://www.marsja.se/four-ways-to-conduct-one-way-anovas-using-python/) - give it a try on your own data problem!\n"
   ]
  }
 ],
 "metadata": {
  "kernelspec": {
   "display_name": "Python 3",
   "language": "python",
   "name": "python3"
  },
  "language_info": {
   "codemirror_mode": {
    "name": "ipython",
    "version": 3
   },
   "file_extension": ".py",
   "mimetype": "text/x-python",
   "name": "python",
   "nbconvert_exporter": "python",
   "pygments_lexer": "ipython3",
   "version": "3.7.4"
  }
 },
 "nbformat": 4,
 "nbformat_minor": 2
}
