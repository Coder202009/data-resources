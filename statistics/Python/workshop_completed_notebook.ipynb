{
 "cells": [
  {
   "cell_type": "markdown",
   "metadata": {},
   "source": [
    "# Statistics in Python\n",
    "\n",
    "In this hands-on activity, we're going to learn how to conduct foundational, descriptive, and inferential statistics in Python. Using user review data from Google and Apple, we'll analyse different components of the data to gain a better understanding of the differences between the two companies and how customers perceive the performance of their apps. \n",
    "\n",
    "### Research Question/Brief\n",
    "\n",
    "Did Apple Store apps receive different user ratings than Google Play apps?"
   ]
  },
  {
   "cell_type": "markdown",
   "metadata": {},
   "source": [
    "## Activity Goals\n",
    "After we load and clean our data, we'll do the following:\n",
    "\n",
    "1. Foundations\n",
    "    - Identify levels of measurement for our variables of interest\n",
    "    - Visualize the distributions of our data\n",
    "2. Descriptive statistics\n",
    "    - Calculate and interpret measures of central tendency and spread for our variables of interest\n",
    "3. Inferential statistics \n",
    "    - Restate the formulated hypotheses and determine significance level\n",
    "    - T-tests and other statistical tests"
   ]
  },
  {
   "cell_type": "markdown",
   "metadata": {},
   "source": [
    "## Import Libraries & Load Data\n",
    "To get started, we first need to import our relevant Python libraries, as well as load in our datasets."
   ]
  },
  {
   "cell_type": "code",
   "execution_count": 2,
   "metadata": {},
   "outputs": [],
   "source": [
    "# Import the usual suspects for data manipulation, statistics, and visualisations.\n",
    "import pandas as pd # used to \"tidy\" up and manipulate our data\n",
    "import numpy as np # used for matrix and numerical calculations; foundation of pandas\n",
    "from scipy import stats # contains stats functions and is used to visualise probability distributions\n",
    "import matplotlib.pyplot as plt # used for visualisations\n",
    "import seaborn as sns # a more user-friendly library used for visualisations"
   ]
  },
  {
   "cell_type": "markdown",
   "metadata": {},
   "source": [
    "The data we'll be using today is a _slightly altered_ version from the original, which you can find on Kaggle. Kaggle is an excellent repository of data and various data-driven competitions that people all over the world can compete in. If you're curious, original data from the Google Store is [here](https://www.kaggle.com/lava18/google-play-store-apps) and the original data from Apple Store is [here](https://www.kaggle.com/ramamet4/app-store-apple-data-set-10k-apps). \n",
    "\n",
    "For today's workshop, the data have already been cleaned, transformed and merged into one neat file. Let's download the combined datasets and save them to the Desktop. You can access them [here](https://github.com/DecodedCo/data-fellowship/tree/master/data)."
   ]
  },
  {
   "cell_type": "markdown",
   "metadata": {},
   "source": [
    "For the purposes of this exercise, we'll focus specifically on a few of the variables from each dataset that are of interest for answering our brief.\n",
    "- Category \n",
    "- Rating\n",
    "- Reviews\n",
    "- Price \n",
    "\n",
    "Let's load in the dataset and take a look at each of these columns. "
   ]
  },
  {
   "cell_type": "code",
   "execution_count": 3,
   "metadata": {},
   "outputs": [
    {
     "data": {
      "text/html": [
       "<div>\n",
       "<style scoped>\n",
       "    .dataframe tbody tr th:only-of-type {\n",
       "        vertical-align: middle;\n",
       "    }\n",
       "\n",
       "    .dataframe tbody tr th {\n",
       "        vertical-align: top;\n",
       "    }\n",
       "\n",
       "    .dataframe thead th {\n",
       "        text-align: right;\n",
       "    }\n",
       "</style>\n",
       "<table border=\"1\" class=\"dataframe\">\n",
       "  <thead>\n",
       "    <tr style=\"text-align: right;\">\n",
       "      <th></th>\n",
       "      <th>Category</th>\n",
       "      <th>Rating</th>\n",
       "      <th>Reviews</th>\n",
       "      <th>Price</th>\n",
       "      <th>platform</th>\n",
       "    </tr>\n",
       "  </thead>\n",
       "  <tbody>\n",
       "    <tr>\n",
       "      <th>0</th>\n",
       "      <td>ART_AND_DESIGN</td>\n",
       "      <td>3.11</td>\n",
       "      <td>159</td>\n",
       "      <td>0.0</td>\n",
       "      <td>google</td>\n",
       "    </tr>\n",
       "    <tr>\n",
       "      <th>1</th>\n",
       "      <td>ART_AND_DESIGN</td>\n",
       "      <td>3.37</td>\n",
       "      <td>967</td>\n",
       "      <td>0.0</td>\n",
       "      <td>google</td>\n",
       "    </tr>\n",
       "    <tr>\n",
       "      <th>2</th>\n",
       "      <td>ART_AND_DESIGN</td>\n",
       "      <td>1.67</td>\n",
       "      <td>87510</td>\n",
       "      <td>0.0</td>\n",
       "      <td>google</td>\n",
       "    </tr>\n",
       "    <tr>\n",
       "      <th>3</th>\n",
       "      <td>ART_AND_DESIGN</td>\n",
       "      <td>2.22</td>\n",
       "      <td>215644</td>\n",
       "      <td>0.0</td>\n",
       "      <td>google</td>\n",
       "    </tr>\n",
       "    <tr>\n",
       "      <th>4</th>\n",
       "      <td>ART_AND_DESIGN</td>\n",
       "      <td>3.12</td>\n",
       "      <td>967</td>\n",
       "      <td>0.0</td>\n",
       "      <td>google</td>\n",
       "    </tr>\n",
       "  </tbody>\n",
       "</table>\n",
       "</div>"
      ],
      "text/plain": [
       "         Category  Rating  Reviews  Price platform\n",
       "0  ART_AND_DESIGN    3.11      159    0.0   google\n",
       "1  ART_AND_DESIGN    3.37      967    0.0   google\n",
       "2  ART_AND_DESIGN    1.67    87510    0.0   google\n",
       "3  ART_AND_DESIGN    2.22   215644    0.0   google\n",
       "4  ART_AND_DESIGN    3.12      967    0.0   google"
      ]
     },
     "execution_count": 3,
     "metadata": {},
     "output_type": "execute_result"
    }
   ],
   "source": [
    "# Load the data into a pandas dataframe called 'df' using pandas read_csv\n",
    "df = pd.read_csv(\"apple_google_merged.csv\", index_col=0)\n",
    "\n",
    "# Let's observe the first three entries\n",
    "df.head()"
   ]
  },
  {
   "cell_type": "markdown",
   "metadata": {},
   "source": [
    "## 1. Foundations  \n",
    "In this section of the workshop, we'll cover some of the basics associated with statistics. First, let's take a look at how some of our variables are measured and what their data types are. We can do this quickly by using the `.info()` function."
   ]
  },
  {
   "cell_type": "code",
   "execution_count": 4,
   "metadata": {},
   "outputs": [
    {
     "name": "stdout",
     "output_type": "stream",
     "text": [
      "<class 'pandas.core.frame.DataFrame'>\n",
      "Int64Index: 15634 entries, 0 to 18036\n",
      "Data columns (total 5 columns):\n",
      "Category    15634 non-null object\n",
      "Rating      15634 non-null float64\n",
      "Reviews     15634 non-null int64\n",
      "Price       15634 non-null float64\n",
      "platform    15634 non-null object\n",
      "dtypes: float64(2), int64(1), object(2)\n",
      "memory usage: 732.8+ KB\n"
     ]
    }
   ],
   "source": [
    "df.info()"
   ]
  },
  {
   "cell_type": "markdown",
   "metadata": {},
   "source": [
    "Based on the output, we can see that are variables are various data types. Most importantly, some of them are floats, while some of them are integers. For example, the variable 'Reviews' is an integer, which means it's a whole number. However, the 'Rating' variable is a float, which means it can have decimal points.  \n",
    "\n",
    "For our brief, we are primarily concerned with the **ratings** given to Apple and Google. We can get a better feel for how the variable 'Rating' is measured by using the `.unique()` and `.value_counts()` functions."
   ]
  },
  {
   "cell_type": "code",
   "execution_count": 5,
   "metadata": {
    "scrolled": true
   },
   "outputs": [
    {
     "data": {
      "text/plain": [
       "array([3.11, 3.37, 1.67, 2.22, 3.12, 4.48, 4.7 , 1.89, 2.03, 3.38, 3.7 ,\n",
       "       3.51, 3.28, 2.81, 3.8 , 1.77, 6.14, 4.69, 2.49, 0.94, 2.8 , 4.11,\n",
       "       4.95, 3.93, 4.13, 3.39, 3.71, 4.21, 3.6 , 3.68, 3.33, 2.87, 3.81,\n",
       "       3.78, 3.34, 3.92, 1.93, 3.54, 4.43, 4.53, 2.79, 2.34, 3.85, 2.06,\n",
       "       3.61, 4.04, 4.67, 3.77, 3.95, 4.1 , 0.97, 4.68, 2.89, 3.04, 3.98,\n",
       "       4.61, 3.47, 3.58, 2.53, 2.68, 1.55, 4.18, 2.56, 5.13, 5.75, 2.12,\n",
       "       3.76, 4.85, 6.75, 6.18, 2.35, 0.62, 2.3 , 4.42, 3.24, 5.28, 4.24,\n",
       "       4.39, 2.63, 3.35, 5.34, 2.1 , 2.09, 3.79, 5.69, 4.  , 2.27, 2.38,\n",
       "       2.36, 3.74, 5.82, 4.6 , 3.44, 1.28, 3.56, 2.52, 3.4 , 4.74, 2.61,\n",
       "       2.48, 2.72, 7.08, 4.52, 5.35, 4.4 , 2.6 , 3.18, 2.78, 3.99, 4.17,\n",
       "       4.19, 3.83, 4.2 , 3.63, 3.42, 4.86, 2.44, 4.12, 0.96, 4.23, 4.92,\n",
       "       3.84, 5.26, 3.86, 2.33, 5.64, 2.45, 2.32, 6.36, 3.65, 4.64, 2.66,\n",
       "       4.59, 4.05, 3.03, 4.32, 4.71, 5.49, 6.27, 3.  , 3.14, 2.54, 3.5 ,\n",
       "       4.27, 6.23, 4.88, 2.31, 2.95, 4.14, 6.72, 3.64, 3.46, 4.44, 5.53,\n",
       "       4.41, 4.08, 4.06, 2.01, 2.92, 1.52, 4.97, 3.2 , 3.16, 4.54, 4.55,\n",
       "       5.47, 3.26, 4.31, 5.21, 3.23, 2.91, 5.89, 3.1 , 5.61, 3.87, 3.52,\n",
       "       3.94, 2.83, 4.89, 1.58, 5.06, 5.85, 0.72, 4.99, 2.67, 3.72, 4.29,\n",
       "       4.38, 3.32, 2.17, 3.36, 5.23, 2.51, 1.29, 1.84, 1.82, 2.9 , 5.44,\n",
       "       5.81, 3.48, 4.83, 3.96, 1.3 , 1.71, 3.69, 4.78, 2.75, 3.13, 4.35,\n",
       "       6.11, 5.76, 1.91, 4.5 , 2.62, 3.25, 6.  , 3.66, 4.47, 2.88, 6.08,\n",
       "       3.07, 3.15, 3.19, 6.5 , 2.69, 3.09, 2.82, 2.42, 3.59, 2.86, 3.21,\n",
       "       1.6 , 3.3 , 5.57, 3.27, 4.73, 1.22, 3.01, 4.15, 1.98, 2.55, 2.04,\n",
       "       5.03, 5.11, 5.87, 5.52, 0.84, 2.77, 2.96, 1.5 , 4.56, 2.25, 3.75,\n",
       "       0.59, 4.8 , 4.49, 3.9 , 3.55, 1.1 , 1.57, 2.37, 2.98, 1.32, 3.82,\n",
       "       1.94, 3.02, 5.9 , 2.85, 0.5 , 6.69, 5.38, 5.55, 1.56, 5.2 , 0.85,\n",
       "       2.2 , 5.05, 2.41, 4.26, 5.5 , 2.5 , 2.13, 4.62, 3.67, 5.3 , 5.88,\n",
       "       5.24, 6.16, 5.77, 1.62, 3.41, 5.27, 1.81, 3.45, 4.66, 2.08, 6.48,\n",
       "       4.34, 3.22, 5.41, 2.14, 0.66, 2.74, 4.07, 2.84, 3.88, 1.4 , 2.97,\n",
       "       3.29, 3.49, 4.9 , 1.48, 5.74, 3.06, 3.08, 1.46, 3.17, 1.76, 2.76,\n",
       "       5.19, 5.51, 4.82, 4.75, 3.57, 4.3 , 1.87, 5.02, 1.97, 5.16, 4.93,\n",
       "       2.23, 4.76, 1.18, 1.65, 2.43, 4.58, 4.33, 4.72, 1.64, 1.88, 4.37,\n",
       "       4.79, 2.05, 5.04, 4.81, 3.73, 4.03, 3.89, 5.09, 4.51, 2.59, 2.  ,\n",
       "       1.63, 4.02, 2.07, 4.96, 2.93, 2.26, 4.46, 2.24, 4.09, 2.4 , 1.08,\n",
       "       5.45, 2.65, 6.65, 5.32, 2.29, 4.36, 1.21, 1.7 , 2.71, 1.23, 3.91,\n",
       "       6.19, 5.12, 1.47, 4.22, 4.98, 4.16, 1.68, 4.63, 4.87, 3.53, 5.08,\n",
       "       2.99, 1.66, 2.19, 5.31, 0.73, 2.58, 5.59, 6.4 , 2.7 , 3.31, 5.15,\n",
       "       1.42, 2.02, 2.16, 1.75, 2.39, 2.94, 6.2 , 1.99, 2.28, 1.61, 1.04,\n",
       "       5.33, 3.62, 5.93, 3.97, 6.17, 2.73, 4.84, 1.2 , 4.28, 1.15, 4.01,\n",
       "       1.95, 0.34, 6.12, 5.1 , 1.26, 6.55, 1.53, 4.57, 2.47, 1.86, 5.72,\n",
       "       1.51, 0.9 , 1.17, 1.73, 2.18, 1.43, 0.7 , 5.14, 1.24, 5.58, 5.42,\n",
       "       0.56, 5.17, 5.63, 3.05, 4.45, 1.38, 1.8 , 3.43, 5.07, 7.41, 6.01,\n",
       "       0.82, 6.52, 0.36, 2.21, 5.43, 8.01, 4.77, 0.78, 1.72, 6.84, 0.29,\n",
       "       1.96, 4.25, 5.54, 0.95, 0.41, 4.65, 5.56, 5.46, 1.78, 0.6 , 1.16,\n",
       "       1.49, 1.45, 5.97, 2.64, 1.31, 1.83, 5.7 , 7.58, 1.69, 5.  , 1.34,\n",
       "       0.39, 2.57, 6.44, 5.94, 5.71, 1.44, 1.85, 1.14, 5.29, 1.33, 0.91,\n",
       "       7.14, 1.41, 1.79, 6.94, 1.35, 5.37, 1.54, 2.46, 1.25, 5.39, 6.06,\n",
       "       0.92, 0.12, 6.26, 5.67, 5.01, 0.  , 6.13, 6.56, 0.74, 6.29, 0.61,\n",
       "       0.93, 4.94, 2.15, 5.95, 1.19, 7.45, 1.09, 6.76, 1.02, 0.81, 0.89,\n",
       "       5.73, 5.66, 5.62, 6.04, 5.99, 5.86, 5.18, 1.59, 1.92, 2.11, 0.2 ,\n",
       "       6.58, 5.25, 5.78, 6.07, 7.54, 4.91, 6.03, 1.06, 1.74, 0.63, 5.48,\n",
       "       0.77, 1.27, 0.51, 5.98, 6.8 , 6.21, 6.59, 1.36, 6.62, 6.39, 6.41,\n",
       "       5.22, 0.54, 5.4 , 1.01, 5.36, 0.53, 6.02, 6.1 , 6.42, 0.43, 6.53,\n",
       "       6.33, 7.1 , 0.49, 6.64, 6.74, 1.9 , 0.52, 1.03, 0.05, 8.48, 0.67,\n",
       "       6.57, 0.1 , 5.6 , 1.05, 1.07, 0.79, 1.37, 5.79, 5.83, 0.37, 5.68,\n",
       "       0.48, 0.87, 6.66, 1.39, 5.91, 0.98, 6.05, 7.02, 0.68, 7.21, 1.11,\n",
       "       6.28, 6.3 , 0.71, 6.47, 0.28, 1.  , 5.8 , 6.09, 0.99, 6.98, 6.67,\n",
       "       0.8 , 0.64, 7.28, 6.35, 7.68, 0.46, 1.12, 6.7 , 1.13, 0.57, 0.76,\n",
       "       7.3 , 6.15, 5.65, 6.32, 6.49, 0.88, 5.92, 0.15, 6.83, 7.23, 0.69,\n",
       "       0.18, 0.86, 6.45, 0.35, 7.6 , 0.32, 6.95, 5.84, 7.44, 0.47, 7.07,\n",
       "       6.43, 6.22, 0.45, 6.51, 7.36, 5.96, 0.55, 6.24, 0.65, 6.86, 7.12,\n",
       "       0.03, 6.37, 0.21, 0.13, 6.46, 0.75, 6.34, 6.61, 0.26, 0.83, 0.3 ])"
      ]
     },
     "execution_count": 5,
     "metadata": {},
     "output_type": "execute_result"
    }
   ],
   "source": [
    "df['Rating'].unique()"
   ]
  },
  {
   "cell_type": "code",
   "execution_count": 6,
   "metadata": {},
   "outputs": [
    {
     "data": {
      "text/plain": [
       "3.51    75\n",
       "2.88    71\n",
       "3.33    67\n",
       "3.02    67\n",
       "3.76    67\n",
       "        ..\n",
       "6.72     1\n",
       "0.74     1\n",
       "6.39     1\n",
       "0.30     1\n",
       "7.07     1\n",
       "Name: Rating, Length: 671, dtype: int64"
      ]
     },
     "execution_count": 6,
     "metadata": {},
     "output_type": "execute_result"
    }
   ],
   "source": [
    "df['Rating'].value_counts()"
   ]
  },
  {
   "cell_type": "markdown",
   "metadata": {},
   "source": [
    "We can see that the variable 'Rating' is a continuous variable, but we can't tell much beyond that. To glean more insight, let's use the `.describe` function on the 'Rating' variable."
   ]
  },
  {
   "cell_type": "code",
   "execution_count": 7,
   "metadata": {},
   "outputs": [
    {
     "data": {
      "text/plain": [
       "count    15634.000000\n",
       "mean         3.454387\n",
       "std          1.106925\n",
       "min          0.000000\n",
       "25%          2.710000\n",
       "50%          3.430000\n",
       "75%          4.190000\n",
       "max          8.480000\n",
       "Name: Rating, dtype: float64"
      ]
     },
     "execution_count": 7,
     "metadata": {},
     "output_type": "execute_result"
    }
   ],
   "source": [
    "df[\"Rating\"].describe()"
   ]
  },
  {
   "cell_type": "markdown",
   "metadata": {},
   "source": [
    "The variable ranges from 0 to 5 (stars), with a mean of 3.45. However, we don't know how this differs between the two companies we are analysing! Let's use the `.groupby()` function in tandem with the `.describe()` function to get some more information on ratings for Apple and Google. "
   ]
  },
  {
   "cell_type": "code",
   "execution_count": 8,
   "metadata": {},
   "outputs": [
    {
     "data": {
      "text/html": [
       "<div>\n",
       "<style scoped>\n",
       "    .dataframe tbody tr th:only-of-type {\n",
       "        vertical-align: middle;\n",
       "    }\n",
       "\n",
       "    .dataframe tbody tr th {\n",
       "        vertical-align: top;\n",
       "    }\n",
       "\n",
       "    .dataframe thead th {\n",
       "        text-align: right;\n",
       "    }\n",
       "</style>\n",
       "<table border=\"1\" class=\"dataframe\">\n",
       "  <thead>\n",
       "    <tr style=\"text-align: right;\">\n",
       "      <th></th>\n",
       "      <th>count</th>\n",
       "      <th>mean</th>\n",
       "      <th>std</th>\n",
       "      <th>min</th>\n",
       "      <th>25%</th>\n",
       "      <th>50%</th>\n",
       "      <th>75%</th>\n",
       "      <th>max</th>\n",
       "    </tr>\n",
       "    <tr>\n",
       "      <th>platform</th>\n",
       "      <th></th>\n",
       "      <th></th>\n",
       "      <th></th>\n",
       "      <th></th>\n",
       "      <th></th>\n",
       "      <th></th>\n",
       "      <th></th>\n",
       "      <th></th>\n",
       "    </tr>\n",
       "  </thead>\n",
       "  <tbody>\n",
       "    <tr>\n",
       "      <th>apple</th>\n",
       "      <td>6268.0</td>\n",
       "      <td>3.336313</td>\n",
       "      <td>0.939340</td>\n",
       "      <td>0.0</td>\n",
       "      <td>2.71</td>\n",
       "      <td>3.33</td>\n",
       "      <td>3.96</td>\n",
       "      <td>6.55</td>\n",
       "    </tr>\n",
       "    <tr>\n",
       "      <th>google</th>\n",
       "      <td>9366.0</td>\n",
       "      <td>3.533405</td>\n",
       "      <td>1.199718</td>\n",
       "      <td>0.0</td>\n",
       "      <td>2.71</td>\n",
       "      <td>3.54</td>\n",
       "      <td>4.35</td>\n",
       "      <td>8.48</td>\n",
       "    </tr>\n",
       "  </tbody>\n",
       "</table>\n",
       "</div>"
      ],
      "text/plain": [
       "           count      mean       std  min   25%   50%   75%   max\n",
       "platform                                                         \n",
       "apple     6268.0  3.336313  0.939340  0.0  2.71  3.33  3.96  6.55\n",
       "google    9366.0  3.533405  1.199718  0.0  2.71  3.54  4.35  8.48"
      ]
     },
     "execution_count": 8,
     "metadata": {},
     "output_type": "execute_result"
    }
   ],
   "source": [
    "df.groupby(by='platform')['Rating'].describe()"
   ]
  },
  {
   "cell_type": "markdown",
   "metadata": {},
   "source": [
    "It seems that the data we are most interested in - the ratings among users for each platform - are _continuous_. It also appears that the data have a discernable order and are measured in _intervals_, with a rating of 0 being the lowest and a rating of 5 being the highest. With this information in hand, we can explore the descriptive statistics of our data, specifically the ratings among users of Google and Apple apps."
   ]
  },
  {
   "cell_type": "markdown",
   "metadata": {},
   "source": [
    "## 2. Descriptive Statistics \n",
    "In this section of the workshop, we'll explore the descriptive statistics of our dataset. This essentially means:\n",
    "This essentially means: \n",
    "\n",
    "1. Finding where your data is centred -- i.e. _measures of centrality_.\n",
    "2. Finding how spread out your data is -- i.e. _measures of spread._\n",
    "3. Visualising your distribution using \n",
    "    - Histograms \n",
    "    - Boxplots\n",
    "\n",
    "\n",
    "In fact, we've already done most of this already! Points 1 and 2 are mostly covered with the handy `.describe()` function we used above. Despite that however, it may be useful to laser in on specific metrics, which is what we'll explore now.\n",
    "\n",
    "\n",
    "> _You'll get lots of time to cover and refresh descriptive statistics in more depth in your online practice._ "
   ]
  },
  {
   "cell_type": "code",
   "execution_count": 14,
   "metadata": {},
   "outputs": [
    {
     "data": {
      "text/html": [
       "<div>\n",
       "<style scoped>\n",
       "    .dataframe tbody tr th:only-of-type {\n",
       "        vertical-align: middle;\n",
       "    }\n",
       "\n",
       "    .dataframe tbody tr th {\n",
       "        vertical-align: top;\n",
       "    }\n",
       "\n",
       "    .dataframe thead th {\n",
       "        text-align: right;\n",
       "    }\n",
       "</style>\n",
       "<table border=\"1\" class=\"dataframe\">\n",
       "  <thead>\n",
       "    <tr style=\"text-align: right;\">\n",
       "      <th></th>\n",
       "      <th>Rating</th>\n",
       "      <th>Reviews</th>\n",
       "      <th>Price</th>\n",
       "    </tr>\n",
       "  </thead>\n",
       "  <tbody>\n",
       "    <tr>\n",
       "      <th>count</th>\n",
       "      <td>15634.000000</td>\n",
       "      <td>1.563400e+04</td>\n",
       "      <td>15634.000000</td>\n",
       "    </tr>\n",
       "    <tr>\n",
       "      <th>mean</th>\n",
       "      <td>3.454387</td>\n",
       "      <td>3.138916e+05</td>\n",
       "      <td>1.306140</td>\n",
       "    </tr>\n",
       "    <tr>\n",
       "      <th>std</th>\n",
       "      <td>1.106925</td>\n",
       "      <td>2.446250e+06</td>\n",
       "      <td>12.848935</td>\n",
       "    </tr>\n",
       "    <tr>\n",
       "      <th>min</th>\n",
       "      <td>0.000000</td>\n",
       "      <td>1.000000e+00</td>\n",
       "      <td>0.000000</td>\n",
       "    </tr>\n",
       "    <tr>\n",
       "      <th>25%</th>\n",
       "      <td>2.710000</td>\n",
       "      <td>1.150000e+02</td>\n",
       "      <td>0.000000</td>\n",
       "    </tr>\n",
       "    <tr>\n",
       "      <th>50%</th>\n",
       "      <td>3.430000</td>\n",
       "      <td>1.628000e+03</td>\n",
       "      <td>0.000000</td>\n",
       "    </tr>\n",
       "    <tr>\n",
       "      <th>75%</th>\n",
       "      <td>4.190000</td>\n",
       "      <td>2.814825e+04</td>\n",
       "      <td>0.000000</td>\n",
       "    </tr>\n",
       "    <tr>\n",
       "      <th>max</th>\n",
       "      <td>8.480000</td>\n",
       "      <td>7.815831e+07</td>\n",
       "      <td>400.000000</td>\n",
       "    </tr>\n",
       "  </tbody>\n",
       "</table>\n",
       "</div>"
      ],
      "text/plain": [
       "             Rating       Reviews         Price\n",
       "count  15634.000000  1.563400e+04  15634.000000\n",
       "mean       3.454387  3.138916e+05      1.306140\n",
       "std        1.106925  2.446250e+06     12.848935\n",
       "min        0.000000  1.000000e+00      0.000000\n",
       "25%        2.710000  1.150000e+02      0.000000\n",
       "50%        3.430000  1.628000e+03      0.000000\n",
       "75%        4.190000  2.814825e+04      0.000000\n",
       "max        8.480000  7.815831e+07    400.000000"
      ]
     },
     "execution_count": 14,
     "metadata": {},
     "output_type": "execute_result"
    }
   ],
   "source": [
    "# Running .describe() again\n",
    "df.describe()"
   ]
  },
  {
   "cell_type": "markdown",
   "metadata": {},
   "source": [
    "### Measures of Central Tendency \n",
    "In addition to the `.describe()` function, there are a number of other built-in functions provided by the `pandas` library that help us obtain our measures of central tendency. We can pull out a number of useful descriptive statistics by calling any of the variables in our dataset and then adding the measure of central tendency to the end.\n",
    "\n",
    "How would we compute these without the `pandas` functions?"
   ]
  },
  {
   "cell_type": "code",
   "execution_count": 15,
   "metadata": {},
   "outputs": [
    {
     "data": {
      "text/plain": [
       "3.43"
      ]
     },
     "execution_count": 15,
     "metadata": {},
     "output_type": "execute_result"
    }
   ],
   "source": [
    "# Median\n",
    "df['Rating'].median()"
   ]
  },
  {
   "cell_type": "code",
   "execution_count": 16,
   "metadata": {},
   "outputs": [
    {
     "data": {
      "text/plain": [
       "3.454386593322255"
      ]
     },
     "execution_count": 16,
     "metadata": {},
     "output_type": "execute_result"
    }
   ],
   "source": [
    "# Mean\n",
    "df['Rating'].mean()"
   ]
  },
  {
   "cell_type": "code",
   "execution_count": 17,
   "metadata": {},
   "outputs": [
    {
     "data": {
      "text/plain": [
       "0    3.51\n",
       "dtype: float64"
      ]
     },
     "execution_count": 17,
     "metadata": {},
     "output_type": "execute_result"
    }
   ],
   "source": [
    "# Mode\n",
    "df['Rating'].mode()"
   ]
  },
  {
   "cell_type": "markdown",
   "metadata": {},
   "source": [
    "What if we wanted to get the measures of central tendency, but grouped by the platform (e.g., Google or Apple)? We can use the `.groupby()` function again to do this. Like before, we can find the mean, median, and mode for the 'Rating' variable for users of the Apple and Google apps. "
   ]
  },
  {
   "cell_type": "code",
   "execution_count": 18,
   "metadata": {},
   "outputs": [
    {
     "data": {
      "text/plain": [
       "platform\n",
       "apple     3.336313\n",
       "google    3.533405\n",
       "Name: Rating, dtype: float64"
      ]
     },
     "execution_count": 18,
     "metadata": {},
     "output_type": "execute_result"
    }
   ],
   "source": [
    "# Mean by group\n",
    "df.groupby(by='platform')['Rating'].mean()"
   ]
  },
  {
   "cell_type": "code",
   "execution_count": 19,
   "metadata": {},
   "outputs": [
    {
     "data": {
      "text/plain": [
       "platform\n",
       "apple     3.33\n",
       "google    3.54\n",
       "Name: Rating, dtype: float64"
      ]
     },
     "execution_count": 19,
     "metadata": {},
     "output_type": "execute_result"
    }
   ],
   "source": [
    "# Median by group\n",
    "df.groupby(by='platform')['Rating'].median()"
   ]
  },
  {
   "cell_type": "code",
   "execution_count": 20,
   "metadata": {},
   "outputs": [
    {
     "data": {
      "text/plain": [
       "platform\n",
       "apple             3.39\n",
       "google    [3.33, 3.51]\n",
       "Name: Rating, dtype: object"
      ]
     },
     "execution_count": 20,
     "metadata": {},
     "output_type": "execute_result"
    }
   ],
   "source": [
    "# Mode by group\n",
    "df.groupby(by='platform')['Rating'].agg(pd.Series.mode)"
   ]
  },
  {
   "cell_type": "markdown",
   "metadata": {},
   "source": [
    "Based on these results, we can tentatively identify a few trends in the app data. If we're basing our evaluations on the mean or the median, it appears Google has better average app ratings than Apple does. With both the mean and median, it seems the difference is about ~0.2 stars.\n",
    "\n",
    "The question is: is this a big -- or a _significant_ difference? What do you think? To answer this question, we need hypothesis testing. We'll dig into this in the next section."
   ]
  },
  {
   "cell_type": "markdown",
   "metadata": {},
   "source": [
    "### Measures of Spread\n",
    "We also need to know how much spread/deviation/variation there is in our data. The measures of central tendency that we've calculated for both platforms are similar, so it will be useful to dig a little deepter to understand how dispersed our data points are among users who provide app ratings for Google and Apple."
   ]
  },
  {
   "cell_type": "code",
   "execution_count": 21,
   "metadata": {},
   "outputs": [
    {
     "data": {
      "text/plain": [
       "8.48"
      ]
     },
     "execution_count": 21,
     "metadata": {},
     "output_type": "execute_result"
    }
   ],
   "source": [
    "# Range\n",
    "df['Rating'].max()-df['Rating'].min()"
   ]
  },
  {
   "cell_type": "markdown",
   "metadata": {},
   "source": [
    " We also need to know how much variation there is around the mean of our data. The **variance** gives us the mathematical dispersion of the data relative to the mean. However, the units aren't great for comparison because they're squared, so we also rely on the standard deviation. **Standard deviation** is the square root of the variance and gives a value that's on the same scale as the original values, which helps with interpretation. Like before, we can use the built-in `pandas` functions to get these values. \n",
    " \n",
    " How would we compute these without the `pandas` functions?"
   ]
  },
  {
   "cell_type": "code",
   "execution_count": 22,
   "metadata": {},
   "outputs": [
    {
     "data": {
      "text/plain": [
       "1.2252836798714355"
      ]
     },
     "execution_count": 22,
     "metadata": {},
     "output_type": "execute_result"
    }
   ],
   "source": [
    "# Variance\n",
    "df['Rating'].var()"
   ]
  },
  {
   "cell_type": "code",
   "execution_count": 23,
   "metadata": {},
   "outputs": [
    {
     "data": {
      "text/plain": [
       "1.1069253271433603"
      ]
     },
     "execution_count": 23,
     "metadata": {},
     "output_type": "execute_result"
    }
   ],
   "source": [
    "# Standard deviation\n",
    "df['Rating'].std()"
   ]
  },
  {
   "cell_type": "markdown",
   "metadata": {},
   "source": [
    "While informative, this doesn't tell us much about the spread of the data based on our two platforms, Apple and Google. For example, it's the case that the mode for both groups are similar, but is it also the case that the standard deviation of ratings are similar between Apple and Google? Let's take a closer look at some of the metrics by group."
   ]
  },
  {
   "cell_type": "code",
   "execution_count": 24,
   "metadata": {},
   "outputs": [
    {
     "data": {
      "text/plain": [
       "platform\n",
       "apple     6.55\n",
       "google    8.48\n",
       "Name: Rating, dtype: float64"
      ]
     },
     "execution_count": 24,
     "metadata": {},
     "output_type": "execute_result"
    }
   ],
   "source": [
    "df.groupby(by='platform')['Rating'].max()-df['Rating'].min()"
   ]
  },
  {
   "cell_type": "code",
   "execution_count": 25,
   "metadata": {},
   "outputs": [
    {
     "data": {
      "text/plain": [
       "platform\n",
       "apple     0.882359\n",
       "google    1.439322\n",
       "Name: Rating, dtype: float64"
      ]
     },
     "execution_count": 25,
     "metadata": {},
     "output_type": "execute_result"
    }
   ],
   "source": [
    "# Variance by group\n",
    "df.groupby(by='platform')['Rating'].var()"
   ]
  },
  {
   "cell_type": "code",
   "execution_count": 26,
   "metadata": {},
   "outputs": [
    {
     "data": {
      "text/plain": [
       "platform\n",
       "apple     0.939340\n",
       "google    1.199718\n",
       "Name: Rating, dtype: float64"
      ]
     },
     "execution_count": 26,
     "metadata": {},
     "output_type": "execute_result"
    }
   ],
   "source": [
    "# Standard deviation by group\n",
    "df.groupby(by='platform')['Rating'].std()"
   ]
  },
  {
   "cell_type": "markdown",
   "metadata": {},
   "source": [
    "When grouped by app platform, the measures of spread aluminate the differences between Apple and Google user ratings. For example, when the standard deviation is small, it means the data points are grouped closer to the mean, while a larger standard deviation means they're more dispersed. In this case, there is more variability among the ratings provided by Google users than there are for Apple users. \n",
    "\n",
    "Recall that our group means are somewhat similar (3.33 for Apple and 3.53 for Google), so analysing the spread gives us a better idea of how close to the mean each group's user ratings are. It also suggests there are fewer higher and lower rating values among Apple users when compared to Google users. "
   ]
  },
  {
   "cell_type": "markdown",
   "metadata": {},
   "source": [
    "### Visualising distributions\n",
    "We can also visualise our variables by using the `Seaborn` package. Visualising our data helps us understand the distributions of the data points, which in turn helps us make decisions about how we test our hypotheses, etc.\n",
    "\n",
    "There are two main ways to visualise a distribution:\n",
    "1. Histograms;\n",
    "2. Boxplots (or box-and-whisker plots)\n",
    "\n",
    "We'll begin with histograms, and we'll build them using the handy `distplot()` function from Seaborn.\n",
    "\n",
    "Like we've done above, we'll focus on the 'Ratings' variable since it's our variable of interest for our brief."
   ]
  },
  {
   "cell_type": "code",
   "execution_count": 27,
   "metadata": {},
   "outputs": [
    {
     "data": {
      "text/plain": [
       "<matplotlib.axes._subplots.AxesSubplot at 0x2e06a302be0>"
      ]
     },
     "execution_count": 27,
     "metadata": {},
     "output_type": "execute_result"
    },
    {
     "data": {
      "image/png": "[encoded data removed]",
      "text/plain": [
       "<Figure size 432x288 with 1 Axes>"
      ]
     },
     "metadata": {
      "needs_background": "light"
     },
     "output_type": "display_data"
    }
   ],
   "source": [
    "sns.distplot(df['Rating'], hist=True, rug=False)"
   ]
  },
  {
   "cell_type": "code",
   "execution_count": 28,
   "metadata": {},
   "outputs": [
    {
     "name": "stderr",
     "output_type": "stream",
     "text": [
      "T:\\Anaconda3\\lib\\site-packages\\scipy\\stats\\stats.py:1713: FutureWarning: Using a non-tuple sequence for multidimensional indexing is deprecated; use `arr[tuple(seq)]` instead of `arr[seq]`. In the future this will be interpreted as an array index, `arr[np.array(seq)]`, which will result either in an error or a different result.\n",
      "  return np.add.reduce(sorted[indexer] * weights, axis=axis) / sumval\n"
     ]
    },
    {
     "data": {
      "text/plain": [
       "Text(0, 0.5, 'Density')"
      ]
     },
     "execution_count": 28,
     "metadata": {},
     "output_type": "execute_result"
    },
    {
     "data": {
      "image/png": "[encoded data removed]",
      "text/plain": [
       "<Figure size 432x288 with 1 Axes>"
      ]
     },
     "metadata": {
      "needs_background": "light"
     },
     "output_type": "display_data"
    }
   ],
   "source": [
    "apple = df[df['platform'] == 'apple']\n",
    "google = df[df['platform'] == 'google']\n",
    "\n",
    "sns.distplot(apple['Rating'], hist = True, kde = True, label='Apple')\n",
    "sns.distplot(google['Rating'], hist = True, kde = True, label='Google')\n",
    "\n",
    "# Play with kde = , and hist = ! Change True to False and vice versa.\n",
    "\n",
    "# Plot formatting\n",
    "plt.legend(prop={'size': 12})\n",
    "plt.title('Distribution of User Ratings: Apple & Google')\n",
    "plt.xlabel('Rating')\n",
    "plt.ylabel('Density') "
   ]
  },
  {
   "cell_type": "markdown",
   "metadata": {},
   "source": [
    "We can visualise the spread of our data using a boxplot. In seaborn, we use the `boxplot()` function to do this. "
   ]
  },
  {
   "cell_type": "code",
   "execution_count": 29,
   "metadata": {},
   "outputs": [
    {
     "data": {
      "text/plain": [
       "<matplotlib.axes._subplots.AxesSubplot at 0x2e06a3f8c18>"
      ]
     },
     "execution_count": 29,
     "metadata": {},
     "output_type": "execute_result"
    },
    {
     "data": {
      "image/png": "[encoded data removed]",
      "text/plain": [
       "<Figure size 432x288 with 1 Axes>"
      ]
     },
     "metadata": {
      "needs_background": "light"
     },
     "output_type": "display_data"
    }
   ],
   "source": [
    "sns.boxplot(x=df['Rating'], y=df['platform'])"
   ]
  },
  {
   "cell_type": "markdown",
   "metadata": {},
   "source": [
    "The boxplot gives us a few things:\n",
    "1. It gives us the **_median_**. This is represented by the line in the middle of the box.<br><br>\n",
    "2. It gives us the **_25th percentile_**. This represented by the left edge of the box.<br><br>\n",
    "3. It gives us the **_75th percentile_**. This represented by the right edge of the box.<br><br>\n",
    "4. It gives the **_Interquartile range (IQR)_**. This is the difference between the 75th and 25th percentiles -- i.e. the width of the box.<br><br>\n",
    "5. It gives us the **_whiskers_**, which are calculated by adding/subtracting the IQR from either edge of the box, usually scaled to a factor of 1.5. I.e. \n",
    "    - Right whisker = 75th percentile + 1.5*IQR\n",
    "    - Left whisker = 25th percentile - 1.5*IQR\n",
    "<br><br>\n",
    "6. It gives us the **_outliers_**. These are defined as any data points beyond the whiskers."
   ]
  },
  {
   "cell_type": "markdown",
   "metadata": {},
   "source": [
    "## 3. Inferential Statistics\n",
    "Finally, we'll use inferential statistics to make generlizations about our data samples to the larger population. The first step in this process is to define the hypotheses that we want to test. Let's formulate a null and an alternative hypothesis for the question from our brief.\n",
    "\n",
    "**H<sub>null</sub>**: The average user ratings of Apple and Google users are equal (e.g., there is no difference between the two). If there is a difference, then it is due to random chance.\n",
    "\n",
    "**H<sub>alternative</sub>**: The average user ratings of Apple users is different than that of Google users. We say this difference so large, it cannot simply be due to chance; it's _statistically significant_.\n",
    "\n",
    "Next, we'll determine the significance level. While this differs among disciplines, the conventional level is 0.05 -- i.e. a confidence level of 0.95.\n",
    "\n",
    "**Significance level**: 0.05<br>\n",
    "**Confidence level**: 0.95\n",
    "\n",
    "\n",
    "Now that the hypotheses and significance levels are defined, we are going to try to reject or accept the null hypothesis by using statistical tests. We'll start with the [Student's t-test](https://en.wikipedia.org/wiki/Student%27s_t-test#Independent_two-sample_t-test), which is derived from the t-distribution, to evaluate differences between two independent groups. For our brief, we'll conduct a Student's t-test using the `stats.ttest_ind` function to compare the differences between Apple and Google user ratings."
   ]
  },
  {
   "cell_type": "code",
   "execution_count": 30,
   "metadata": {},
   "outputs": [],
   "source": [
    "# Create subsets of the column 'Rating' by the different platforms so we can do a t-test. \n",
    "apple = df[df['platform']== 'apple']['Rating']\n",
    "google = df[df['platform']== 'google']['Rating']"
   ]
  },
  {
   "cell_type": "code",
   "execution_count": 31,
   "metadata": {},
   "outputs": [
    {
     "data": {
      "text/plain": [
       "Ttest_indResult(statistic=-10.952238132563531, pvalue=8.181414938323484e-28)"
      ]
     },
     "execution_count": 31,
     "metadata": {},
     "output_type": "execute_result"
    }
   ],
   "source": [
    "# Run a Student's t-test\n",
    "t_test =stats.ttest_ind(apple, google)\n",
    "\n",
    "# Check summary results\n",
    "t_test"
   ]
  },
  {
   "cell_type": "code",
   "execution_count": 32,
   "metadata": {},
   "outputs": [
    {
     "name": "stdout",
     "output_type": "stream",
     "text": [
      "The p-value is 8.181414938323484e-28 so the observed differences are very unlikely to be due to chance. We reject the null hypothesis.\n"
     ]
    }
   ],
   "source": [
    "# Let's use an if-else statement to spit out a coherent result for us\n",
    "if t_test.pvalue < 0.05:\n",
    "    print('The p-value is', t_test.pvalue,\n",
    "          'so the observed differences are very unlikely to be due to chance. We reject the null hypothesis.')\n",
    "else:\n",
    "    print('The p-value is', t_test.pvalue,\n",
    "          'so the observed differences are likely to be due to chance. We accept the null hypothesis.')"
   ]
  },
  {
   "cell_type": "markdown",
   "metadata": {},
   "source": [
    "The results from our Student's t-test - specifically, the very small p-value - suggest that we can reject the null hypothesis that there are not significant differences between Apple and Google users and their app ratings. However, there are a number of assumptions that are built into the Student's t-test (you can read more [here](https://en.wikipedia.org/wiki/Student%27s_t-test#Independent_two-sample_t-test)). This test assumes that the variances between groups are equal. As we discovered while exploring our descriptive statistics, this isn't the case. To get around this assumption, we can use a Welch’s t-test from the `stats.ttest` function we used above, which doesn't make this assumption if we set the parameter `equal_var` to `False`."
   ]
  },
  {
   "cell_type": "code",
   "execution_count": 33,
   "metadata": {},
   "outputs": [
    {
     "name": "stdout",
     "output_type": "stream",
     "text": [
      "The p-value is 2.071312735893307e-30 so the observed differences are very unlikely to be due to chance. We reject the null hypothesis.\n"
     ]
    }
   ],
   "source": [
    "# Run a Welch's t-test (unequal variances)\n",
    "welch = stats.ttest_ind( apple, google, equal_var= False)\n",
    "if welch.pvalue < 0.05:\n",
    "    print('The p-value is', welch.pvalue,\n",
    "          'so the observed differences are very unlikely to be due to chance. We reject the null hypothesis.')\n",
    "else:\n",
    "    print('The p-value is', welch.pvalue,\n",
    "          'so the observed differences are likely to be due to chance. We accept the null hypothesis.')"
   ]
  },
  {
   "cell_type": "markdown",
   "metadata": {},
   "source": [
    "Good news! After running the Welch's t-test, our suspicions are still confirmed: there are differences between Apple and Google user ratings. Unfortunately, there are even more assumptions that both the Student's and Welch's t-test make about the data. \n",
    "\n",
    "Importantly, both tests assume that the distribution of the data is normal. We know from our histograms that the data _looks normal_ -- i.e. it has one peak, and it seems symmetrical about that peak. But if we wanted to be very sure, we can run a separate hypothesis test that evaluates just that: how different a given dataset is from the normal distribution. We can use the `normaltest()` function from the `stats` sub-library to do this.\n",
    "\n",
    "\n",
    "The null hypothesis of the normality test is that the data is normally distributed. In other words, if we get a p-value < 0.05 then we reject the Null and we say the data is non-normal (at this significance level). On the other hand, if we get a p-value >= the significance level, then we can assume the data is normally distributed."
   ]
  },
  {
   "cell_type": "code",
   "execution_count": 34,
   "metadata": {},
   "outputs": [
    {
     "data": {
      "text/plain": [
       "NormaltestResult(statistic=0.911689288738436, pvalue=0.6339123112960724)"
      ]
     },
     "execution_count": 34,
     "metadata": {},
     "output_type": "execute_result"
    }
   ],
   "source": [
    "# Save result in a variable called 'apple_normal'\n",
    "apple_normal = stats.normaltest(apple)\n",
    "apple_normal"
   ]
  },
  {
   "cell_type": "code",
   "execution_count": 35,
   "metadata": {},
   "outputs": [
    {
     "data": {
      "text/plain": [
       "NormaltestResult(statistic=1.5179958928822137, pvalue=0.46813528869049503)"
      ]
     },
     "execution_count": 35,
     "metadata": {},
     "output_type": "execute_result"
    }
   ],
   "source": [
    "# Save result in a variable called 'google_normal'\n",
    "google_normal = stats.normaltest(google)\n",
    "google_normal"
   ]
  },
  {
   "cell_type": "markdown",
   "metadata": {},
   "source": [
    "The p-values from our normality tests are both greater than 0.05, which means we don't have strong enough evidence to reject the Null. We conclude that our Ratings data is in fact normally distributed. Since the t-test assumption of normality stands, we accept the test(s) as valid -- more specifically, we accept Welch's t-test result because it assumes the variances are unequal, which is what we have."
   ]
  },
  {
   "cell_type": "markdown",
   "metadata": {},
   "source": [
    "## Conclusions\n",
    "We've run through a number of statistical tools to better understand our data and answer the question posed at the beginning of this workshop: Did Apple Store apps receive different average user ratings than Google Play apps by users? The calculation of our group means indicates this is the case. \n",
    "\n",
    "Our analysis of the descriptive statistics suggest that Google's ratings were, on average, a bit better than Apple's. After running two statistical tests -- Student's t-test and Welch's t-test -- we rejected the null hypothesis, which stated that the average user ratings between the two groups are different from one another. \n",
    "\n",
    "We conclude with 95% confidence that the observed difference of 0.197 stars is indeed statistically significant. "
   ]
  },
  {
   "cell_type": "markdown",
   "metadata": {},
   "source": [
    "## Further Extensions - ANOVA"
   ]
  },
  {
   "cell_type": "markdown",
   "metadata": {},
   "source": [
    "Perhaps we have more than two groups whose differences in mean user ratings we want to examine. For example, the Amazon Appstore is an alternative to the Google and Apple platforms and provides apps for users of Androids. To investigate whether there are significant differences between the mean user ratings of all three groups, we can use a process called [_Analysis of Variance_](https://statistics.laerd.com/statistical-guides/one-way-anova-statistical-guide.php) (or ANOVA). \n",
    "\n",
    "If we wanted to construct null and alternative hypotheses for multiple groups, they would look something like this:\n",
    "\n",
    "H<sub>null</sub>:The mean user rating is the same among all three platforms.\n",
    "\n",
    "H<sub>alternative</sub>: The mean user rating is _not_ the same among all three platforms. \n",
    "\n",
    "ANOVA is a method that allows us to test these hypotheses. The basic idea is to break up the variation of our data into two groups - _between_  and _within_ - to see if there are group differences. If the between group variation is larger than the within group variation, the means of our groups will not be equal. If the between and within group variations are approximately the same size, then we should expect there to be no significant differences between our groups means. ANOVA assumes normality, independent random samples, and homogeneity of variances.\n",
    "\n",
    "To evaluate whether there are statistically significant differences among the three groups, we can compute an F statistic derived from the F distribution using the ratio of the between and within group variance (for more on the F statistic, see [this](https://statisticsbyjim.com/anova/f-tests-anova/)). As the F statistics gets larger, so too does the chance of rejecting the null hypothesis. Similar to t-tests, the p-value associated with the F statistic helps us determine if we can reject the null hypothesis. For example, if our significance level is 95% and our p-value for our F statistic is <= .05 when we use an ANOVA, we can say that the mean user ratings for the Google, Apple, and Amazon app stores are statistically not all equal for these three groups. \n",
    "\n",
    "There are various ways to [conduct an ANOVA in Python](https://www.marsja.se/four-ways-to-conduct-one-way-anovas-using-python/) - give it a try on your own data problem!\n"
   ]
  }
 ],
 "metadata": {
  "kernelspec": {
   "display_name": "Python 3",
   "language": "python",
   "name": "python3"
  },
  "language_info": {
   "codemirror_mode": {
    "name": "ipython",
    "version": 3
   },
   "file_extension": ".py",
   "mimetype": "text/x-python",
   "name": "python",
   "nbconvert_exporter": "python",
   "pygments_lexer": "ipython3",
   "version": "3.7.2"
  }
 },
 "nbformat": 4,
 "nbformat_minor": 2
}
