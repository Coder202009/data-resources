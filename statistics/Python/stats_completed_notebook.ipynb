{
 "cells": [
  {
   "cell_type": "markdown",
   "metadata": {},
   "source": [
    "# Statistics in Python\n",
    "\n",
    "In this hands-on activity, we're going to learn how to conduct foundational, descriptive, and inferential statistics in Python. Using user review data from Google and Apple, we'll analyse different components of the data to gain a better understanding of the differences between the two companies and how customers perceive the performance of their apps. \n",
    "\n",
    "### Research Question/Brief\n",
    "\n",
    "Did Apple Store apps receive different user ratings than Google Play apps?"
   ]
  },
  {
   "cell_type": "markdown",
   "metadata": {},
   "source": [
    "## Activity Goals\n",
    "After we load and clean our data, we'll do the following:\n",
    "\n",
    "1. Foundations\n",
    "    - Identify levels of measurement for our variables of interest\n",
    "    - Visualize the distributions of our data\n",
    "2. Descriptive statistics\n",
    "    - Calculate and interpret measures of central tendency and spread for our variables of interest\n",
    "3. Inferential statistics \n",
    "    - Restate the formulated hypotheses and determine significance level\n",
    "    - T-tests and other statistical tests"
   ]
  },
  {
   "cell_type": "markdown",
   "metadata": {},
   "source": [
    "## Import Libraries & Load Data\n",
    "To get started, we first need to import our relevant Python libraries, as well as load in our datasets."
   ]
  },
  {
   "cell_type": "code",
   "execution_count": 2,
   "metadata": {},
   "outputs": [],
   "source": [
    "# Import the usual suspects for data manipulation, statistics, and visualisations.\n",
    "import pandas as pd # used to \"tidy\" up and manipulate our data\n",
    "import numpy as np # used for matrix and numerical calculations; foundation of pandas\n",
    "from scipy import stats # contains stats functions and is used to visualise probability distributions\n",
    "import matplotlib.pyplot as plt # used for visualisations\n",
    "import seaborn as sns # a more user-friendly library used for visualisations"
   ]
  },
  {
   "cell_type": "markdown",
   "metadata": {},
   "source": [
    "The data we'll be using today is a _slightly altered_ version from the original, which you can find on Kaggle. Kaggle is an excellent repository of data and various data-driven competitions that people all over the world can compete in. If you're curious, original data from the Google Store is [here](https://www.kaggle.com/lava18/google-play-store-apps) and the original data from Apple Store is [here](https://www.kaggle.com/ramamet4/app-store-apple-data-set-10k-apps). \n",
    "\n",
    "For today's workshop, the data have already been cleaned, transformed and merged into one neat file. Let's download the combined datasets and save them to the Desktop. You can access them [here](https://github.com/DecodedCo/data-fellowship/tree/master/data)."
   ]
  },
  {
   "cell_type": "markdown",
   "metadata": {},
   "source": [
    "For the purposes of this exercise, we'll focus specifically on a few of the variables from each dataset that are of interest for answering our brief.\n",
    "- Category \n",
    "- Rating\n",
    "- Reviews\n",
    "- Price \n",
    "\n",
    "Let's load in the dataset and take a look at each of these columns. "
   ]
  },
  {
   "cell_type": "code",
   "execution_count": 3,
   "metadata": {},
   "outputs": [
    {
     "data": {
      "text/html": [
       "<div>\n",
       "<style scoped>\n",
       "    .dataframe tbody tr th:only-of-type {\n",
       "        vertical-align: middle;\n",
       "    }\n",
       "\n",
       "    .dataframe tbody tr th {\n",
       "        vertical-align: top;\n",
       "    }\n",
       "\n",
       "    .dataframe thead th {\n",
       "        text-align: right;\n",
       "    }\n",
       "</style>\n",
       "<table border=\"1\" class=\"dataframe\">\n",
       "  <thead>\n",
       "    <tr style=\"text-align: right;\">\n",
       "      <th></th>\n",
       "      <th>Category</th>\n",
       "      <th>Reviews</th>\n",
       "      <th>Rating</th>\n",
       "      <th>Price</th>\n",
       "      <th>platform</th>\n",
       "    </tr>\n",
       "  </thead>\n",
       "  <tbody>\n",
       "    <tr>\n",
       "      <th>0</th>\n",
       "      <td>ART_AND_DESIGN</td>\n",
       "      <td>159</td>\n",
       "      <td>3.848</td>\n",
       "      <td>0.0</td>\n",
       "      <td>google</td>\n",
       "    </tr>\n",
       "    <tr>\n",
       "      <th>1</th>\n",
       "      <td>ART_AND_DESIGN</td>\n",
       "      <td>967</td>\n",
       "      <td>2.836</td>\n",
       "      <td>0.0</td>\n",
       "      <td>google</td>\n",
       "    </tr>\n",
       "    <tr>\n",
       "      <th>2</th>\n",
       "      <td>ART_AND_DESIGN</td>\n",
       "      <td>87510</td>\n",
       "      <td>3.325</td>\n",
       "      <td>0.0</td>\n",
       "      <td>google</td>\n",
       "    </tr>\n",
       "    <tr>\n",
       "      <th>3</th>\n",
       "      <td>ART_AND_DESIGN</td>\n",
       "      <td>215644</td>\n",
       "      <td>2.556</td>\n",
       "      <td>0.0</td>\n",
       "      <td>google</td>\n",
       "    </tr>\n",
       "    <tr>\n",
       "      <th>4</th>\n",
       "      <td>ART_AND_DESIGN</td>\n",
       "      <td>967</td>\n",
       "      <td>3.569</td>\n",
       "      <td>0.0</td>\n",
       "      <td>google</td>\n",
       "    </tr>\n",
       "  </tbody>\n",
       "</table>\n",
       "</div>"
      ],
      "text/plain": [
       "         Category  Reviews  Rating  Price platform\n",
       "0  ART_AND_DESIGN      159   3.848    0.0   google\n",
       "1  ART_AND_DESIGN      967   2.836    0.0   google\n",
       "2  ART_AND_DESIGN    87510   3.325    0.0   google\n",
       "3  ART_AND_DESIGN   215644   2.556    0.0   google\n",
       "4  ART_AND_DESIGN      967   3.569    0.0   google"
      ]
     },
     "execution_count": 3,
     "metadata": {},
     "output_type": "execute_result"
    }
   ],
   "source": [
    "# Load the data into a pandas dataframe called 'df' using pandas read_csv\n",
    "df = pd.read_csv(\"apple_google_merged.csv\", index_col=0)\n",
    "\n",
    "# Let's observe the first three entries\n",
    "df.head()"
   ]
  },
  {
   "cell_type": "markdown",
   "metadata": {},
   "source": [
    "## 1. Foundations  \n",
    "In this section of the workshop, we'll cover some of the basics associated with statistics. First, let's take a look at how some of our variables are measured and what their data types are. We can do this quickly by using the `.info()` function."
   ]
  },
  {
   "cell_type": "code",
   "execution_count": 4,
   "metadata": {},
   "outputs": [
    {
     "name": "stdout",
     "output_type": "stream",
     "text": [
      "<class 'pandas.core.frame.DataFrame'>\n",
      "Int64Index: 15634 entries, 0 to 18036\n",
      "Data columns (total 5 columns):\n",
      "Category    15634 non-null object\n",
      "Reviews     15634 non-null int64\n",
      "Rating      15634 non-null float64\n",
      "Price       15634 non-null float64\n",
      "platform    15634 non-null object\n",
      "dtypes: float64(2), int64(1), object(2)\n",
      "memory usage: 732.8+ KB\n"
     ]
    }
   ],
   "source": [
    "df.info()"
   ]
  },
  {
   "cell_type": "markdown",
   "metadata": {},
   "source": [
    "Based on the output, we can see that are variables are various data types. Most importantly, some of them are floats, while some of them are integers. For example, the variable 'Reviews' is an integer, which means it's a whole number. However, the 'Rating' variable is a float, which means it can have decimal points.  \n",
    "\n",
    "For our brief, we are primarily concerned with the **ratings** given to Apple and Google. We can get a better feel for how the variable 'Rating' is measured by using the `.unique()` and `.value_counts()` functions."
   ]
  },
  {
   "cell_type": "code",
   "execution_count": 5,
   "metadata": {
    "scrolled": true
   },
   "outputs": [
    {
     "data": {
      "text/plain": [
       "array([3.848, 2.836, 3.325, ..., 1.921, 4.388, 3.684])"
      ]
     },
     "execution_count": 5,
     "metadata": {},
     "output_type": "execute_result"
    }
   ],
   "source": [
    "df['Rating'].unique()"
   ]
  },
  {
   "cell_type": "code",
   "execution_count": 6,
   "metadata": {},
   "outputs": [
    {
     "data": {
      "text/plain": [
       "3.250    21\n",
       "3.115    21\n",
       "2.536    20\n",
       "2.975    19\n",
       "3.106    19\n",
       "         ..\n",
       "3.940     1\n",
       "1.254     1\n",
       "4.161     1\n",
       "4.232     1\n",
       "1.266     1\n",
       "Name: Rating, Length: 2793, dtype: int64"
      ]
     },
     "execution_count": 6,
     "metadata": {},
     "output_type": "execute_result"
    }
   ],
   "source": [
    "df['Rating'].value_counts()"
   ]
  },
  {
   "cell_type": "markdown",
   "metadata": {},
   "source": [
    "We can see that the variable 'Rating' is a continuous variable, but we can't tell much beyond that. To glean more insight, let's use the `.describe` function on the 'Rating' variable."
   ]
  },
  {
   "cell_type": "code",
   "execution_count": 7,
   "metadata": {},
   "outputs": [
    {
     "data": {
      "text/plain": [
       "count    15634.000000\n",
       "mean         2.967703\n",
       "std          0.593016\n",
       "min          0.616000\n",
       "25%          2.567000\n",
       "50%          2.973500\n",
       "75%          3.367000\n",
       "max          4.999000\n",
       "Name: Rating, dtype: float64"
      ]
     },
     "execution_count": 7,
     "metadata": {},
     "output_type": "execute_result"
    }
   ],
   "source": [
    "df[\"Rating\"].describe()"
   ]
  },
  {
   "cell_type": "markdown",
   "metadata": {},
   "source": [
    "The variable ranges from 0 to 5 (stars), with a mean of 2.97. However, we don't know how this differs between the two companies we are analysing! Let's use the `.groupby()` function in tandem with the `.describe()` function to get some more information on ratings for Apple and Google. "
   ]
  },
  {
   "cell_type": "code",
   "execution_count": 8,
   "metadata": {},
   "outputs": [
    {
     "data": {
      "text/html": [
       "<div>\n",
       "<style scoped>\n",
       "    .dataframe tbody tr th:only-of-type {\n",
       "        vertical-align: middle;\n",
       "    }\n",
       "\n",
       "    .dataframe tbody tr th {\n",
       "        vertical-align: top;\n",
       "    }\n",
       "\n",
       "    .dataframe thead th {\n",
       "        text-align: right;\n",
       "    }\n",
       "</style>\n",
       "<table border=\"1\" class=\"dataframe\">\n",
       "  <thead>\n",
       "    <tr style=\"text-align: right;\">\n",
       "      <th></th>\n",
       "      <th>count</th>\n",
       "      <th>mean</th>\n",
       "      <th>std</th>\n",
       "      <th>min</th>\n",
       "      <th>25%</th>\n",
       "      <th>50%</th>\n",
       "      <th>75%</th>\n",
       "      <th>max</th>\n",
       "    </tr>\n",
       "    <tr>\n",
       "      <th>platform</th>\n",
       "      <th></th>\n",
       "      <th></th>\n",
       "      <th></th>\n",
       "      <th></th>\n",
       "      <th></th>\n",
       "      <th></th>\n",
       "      <th></th>\n",
       "      <th></th>\n",
       "    </tr>\n",
       "  </thead>\n",
       "  <tbody>\n",
       "    <tr>\n",
       "      <th>apple</th>\n",
       "      <td>6268.0</td>\n",
       "      <td>3.035460</td>\n",
       "      <td>0.527694</td>\n",
       "      <td>0.991</td>\n",
       "      <td>2.67475</td>\n",
       "      <td>3.0385</td>\n",
       "      <td>3.397</td>\n",
       "      <td>4.943</td>\n",
       "    </tr>\n",
       "    <tr>\n",
       "      <th>google</th>\n",
       "      <td>9366.0</td>\n",
       "      <td>2.922358</td>\n",
       "      <td>0.628941</td>\n",
       "      <td>0.616</td>\n",
       "      <td>2.49425</td>\n",
       "      <td>2.9210</td>\n",
       "      <td>3.339</td>\n",
       "      <td>4.999</td>\n",
       "    </tr>\n",
       "  </tbody>\n",
       "</table>\n",
       "</div>"
      ],
      "text/plain": [
       "           count      mean       std    min      25%     50%    75%    max\n",
       "platform                                                                  \n",
       "apple     6268.0  3.035460  0.527694  0.991  2.67475  3.0385  3.397  4.943\n",
       "google    9366.0  2.922358  0.628941  0.616  2.49425  2.9210  3.339  4.999"
      ]
     },
     "execution_count": 8,
     "metadata": {},
     "output_type": "execute_result"
    }
   ],
   "source": [
    "df.groupby(by='platform')['Rating'].describe()"
   ]
  },
  {
   "cell_type": "markdown",
   "metadata": {},
   "source": [
    "It seems that the data we are most interested in - the ratings among users for each platform - are _continuous_. It also appears that the data have a discernable order and are measured in _intervals_, with a rating of 0.627 being the lowest and a rating of 4.999 being the highest. With this information in hand, we can explore the descriptive statistics of our data, specifically the ratings among users of Google and Apple apps."
   ]
  },
  {
   "cell_type": "markdown",
   "metadata": {},
   "source": [
    "## 2. Descriptive Statistics \n",
    "In this section of the workshop, we'll explore the descriptive statistics of our dataset. This essentially means:\n",
    "This essentially means: \n",
    "\n",
    "1. Finding where your data is centred -- i.e. _measures of centrality_.\n",
    "2. Finding how spread out your data is -- i.e. _measures of spread._\n",
    "3. Visualising your distribution using \n",
    "    - Histograms \n",
    "    - Boxplots\n",
    "\n",
    "\n",
    "In fact, we've already done most of this already! Points 1 and 2 are mostly covered with the handy `.describe()` function we used above. Despite that however, it may be useful to laser in on specific metrics, which is what we'll explore now.\n",
    "\n",
    "\n",
    "> _You'll get lots of time to cover and refresh descriptive statistics in more depth in your online practice._ "
   ]
  },
  {
   "cell_type": "code",
   "execution_count": 9,
   "metadata": {},
   "outputs": [
    {
     "data": {
      "text/html": [
       "<div>\n",
       "<style scoped>\n",
       "    .dataframe tbody tr th:only-of-type {\n",
       "        vertical-align: middle;\n",
       "    }\n",
       "\n",
       "    .dataframe tbody tr th {\n",
       "        vertical-align: top;\n",
       "    }\n",
       "\n",
       "    .dataframe thead th {\n",
       "        text-align: right;\n",
       "    }\n",
       "</style>\n",
       "<table border=\"1\" class=\"dataframe\">\n",
       "  <thead>\n",
       "    <tr style=\"text-align: right;\">\n",
       "      <th></th>\n",
       "      <th>Reviews</th>\n",
       "      <th>Rating</th>\n",
       "      <th>Price</th>\n",
       "    </tr>\n",
       "  </thead>\n",
       "  <tbody>\n",
       "    <tr>\n",
       "      <th>count</th>\n",
       "      <td>1.563400e+04</td>\n",
       "      <td>15634.000000</td>\n",
       "      <td>15634.000000</td>\n",
       "    </tr>\n",
       "    <tr>\n",
       "      <th>mean</th>\n",
       "      <td>3.138916e+05</td>\n",
       "      <td>2.967703</td>\n",
       "      <td>1.306140</td>\n",
       "    </tr>\n",
       "    <tr>\n",
       "      <th>std</th>\n",
       "      <td>2.446250e+06</td>\n",
       "      <td>0.593016</td>\n",
       "      <td>12.848935</td>\n",
       "    </tr>\n",
       "    <tr>\n",
       "      <th>min</th>\n",
       "      <td>1.000000e+00</td>\n",
       "      <td>0.616000</td>\n",
       "      <td>0.000000</td>\n",
       "    </tr>\n",
       "    <tr>\n",
       "      <th>25%</th>\n",
       "      <td>1.150000e+02</td>\n",
       "      <td>2.567000</td>\n",
       "      <td>0.000000</td>\n",
       "    </tr>\n",
       "    <tr>\n",
       "      <th>50%</th>\n",
       "      <td>1.628000e+03</td>\n",
       "      <td>2.973500</td>\n",
       "      <td>0.000000</td>\n",
       "    </tr>\n",
       "    <tr>\n",
       "      <th>75%</th>\n",
       "      <td>2.814825e+04</td>\n",
       "      <td>3.367000</td>\n",
       "      <td>0.000000</td>\n",
       "    </tr>\n",
       "    <tr>\n",
       "      <th>max</th>\n",
       "      <td>7.815831e+07</td>\n",
       "      <td>4.999000</td>\n",
       "      <td>400.000000</td>\n",
       "    </tr>\n",
       "  </tbody>\n",
       "</table>\n",
       "</div>"
      ],
      "text/plain": [
       "            Reviews        Rating         Price\n",
       "count  1.563400e+04  15634.000000  15634.000000\n",
       "mean   3.138916e+05      2.967703      1.306140\n",
       "std    2.446250e+06      0.593016     12.848935\n",
       "min    1.000000e+00      0.616000      0.000000\n",
       "25%    1.150000e+02      2.567000      0.000000\n",
       "50%    1.628000e+03      2.973500      0.000000\n",
       "75%    2.814825e+04      3.367000      0.000000\n",
       "max    7.815831e+07      4.999000    400.000000"
      ]
     },
     "execution_count": 9,
     "metadata": {},
     "output_type": "execute_result"
    }
   ],
   "source": [
    "# Running .describe() again\n",
    "df.describe()"
   ]
  },
  {
   "cell_type": "markdown",
   "metadata": {},
   "source": [
    "### Measures of Central Tendency \n",
    "In addition to the `.describe()` function, there are a number of other built-in functions provided by the `pandas` library that help us obtain our measures of central tendency. We can pull out a number of useful descriptive statistics by calling any of the variables in our dataset and then adding the measure of central tendency to the end.\n",
    "\n",
    "How would we compute these without the `pandas` functions?"
   ]
  },
  {
   "cell_type": "code",
   "execution_count": 10,
   "metadata": {},
   "outputs": [
    {
     "data": {
      "text/plain": [
       "2.9735"
      ]
     },
     "execution_count": 10,
     "metadata": {},
     "output_type": "execute_result"
    }
   ],
   "source": [
    "# Median\n",
    "df['Rating'].median()"
   ]
  },
  {
   "cell_type": "code",
   "execution_count": 11,
   "metadata": {},
   "outputs": [
    {
     "data": {
      "text/plain": [
       "2.9677034028399545"
      ]
     },
     "execution_count": 11,
     "metadata": {},
     "output_type": "execute_result"
    }
   ],
   "source": [
    "# Mean\n",
    "df['Rating'].mean()"
   ]
  },
  {
   "cell_type": "code",
   "execution_count": 12,
   "metadata": {},
   "outputs": [
    {
     "data": {
      "text/plain": [
       "0    3.115\n",
       "1    3.250\n",
       "dtype: float64"
      ]
     },
     "execution_count": 12,
     "metadata": {},
     "output_type": "execute_result"
    }
   ],
   "source": [
    "# Mode\n",
    "df['Rating'].mode()"
   ]
  },
  {
   "cell_type": "markdown",
   "metadata": {},
   "source": [
    "What if we wanted to get the measures of central tendency, but grouped by the platform (e.g., Google or Apple)? We can use the `.groupby()` function again to do this. Like before, we can find the mean, median, and mode for the 'Rating' variable for users of the Apple and Google apps. "
   ]
  },
  {
   "cell_type": "code",
   "execution_count": 13,
   "metadata": {},
   "outputs": [
    {
     "data": {
      "text/plain": [
       "platform\n",
       "apple     3.035460\n",
       "google    2.922358\n",
       "Name: Rating, dtype: float64"
      ]
     },
     "execution_count": 13,
     "metadata": {},
     "output_type": "execute_result"
    }
   ],
   "source": [
    "# Mean by group\n",
    "df.groupby(by='platform')['Rating'].mean()"
   ]
  },
  {
   "cell_type": "code",
   "execution_count": 14,
   "metadata": {},
   "outputs": [
    {
     "data": {
      "text/plain": [
       "platform\n",
       "apple     3.0385\n",
       "google    2.9210\n",
       "Name: Rating, dtype: float64"
      ]
     },
     "execution_count": 14,
     "metadata": {},
     "output_type": "execute_result"
    }
   ],
   "source": [
    "# Median by group\n",
    "df.groupby(by='platform')['Rating'].median()"
   ]
  },
  {
   "cell_type": "code",
   "execution_count": 18,
   "metadata": {},
   "outputs": [
    {
     "data": {
      "text/plain": [
       "platform   \n",
       "apple     0    2.735\n",
       "          1    2.837\n",
       "          2    3.110\n",
       "google    0    2.975\n",
       "Name: Rating, dtype: float64"
      ]
     },
     "execution_count": 18,
     "metadata": {},
     "output_type": "execute_result"
    }
   ],
   "source": [
    "# Mode by group\n",
    "df.groupby(by='platform')['Rating'].apply(lambda x: pd.Series.mode(x))"
   ]
  },
  {
   "cell_type": "markdown",
   "metadata": {},
   "source": [
    "Based on these results, we can tentatively identify a few trends in the app data. If we're basing our evaluations on the mean or the median, it appears Google has better average app ratings than Apple does. With both the mean and median, it seems the difference is about ~0.1 stars.\n",
    "\n",
    "The question is: is this a big -- or a _significant_ difference? What do you think? To answer this question, we need hypothesis testing. We'll dig into this in the next section."
   ]
  },
  {
   "cell_type": "markdown",
   "metadata": {},
   "source": [
    "### Measures of Spread\n",
    "We also need to know how much spread/deviation/variation there is in our data. The measures of central tendency that we've calculated for both platforms are similar, so it will be useful to dig a little deepter to understand how dispersed our data points are among users who provide app ratings for Google and Apple."
   ]
  },
  {
   "cell_type": "code",
   "execution_count": 19,
   "metadata": {},
   "outputs": [
    {
     "data": {
      "text/plain": [
       "4.383"
      ]
     },
     "execution_count": 19,
     "metadata": {},
     "output_type": "execute_result"
    }
   ],
   "source": [
    "# Range\n",
    "df['Rating'].max()-df['Rating'].min()"
   ]
  },
  {
   "cell_type": "markdown",
   "metadata": {},
   "source": [
    " We also need to know how much variation there is around the mean of our data. The **variance** gives us the mathematical dispersion of the data relative to the mean. However, the units aren't great for comparison because they're squared, so we also rely on the standard deviation. **Standard deviation** is the square root of the variance and gives a value that's on the same scale as the original values, which helps with interpretation. Like before, we can use the built-in `pandas` functions to get these values. \n",
    " \n",
    " How would we compute these without the `pandas` functions?"
   ]
  },
  {
   "cell_type": "code",
   "execution_count": 20,
   "metadata": {},
   "outputs": [
    {
     "data": {
      "text/plain": [
       "0.35166797004279315"
      ]
     },
     "execution_count": 20,
     "metadata": {},
     "output_type": "execute_result"
    }
   ],
   "source": [
    "# Variance\n",
    "df['Rating'].var()"
   ]
  },
  {
   "cell_type": "code",
   "execution_count": 21,
   "metadata": {},
   "outputs": [
    {
     "data": {
      "text/plain": [
       "0.5930159947613497"
      ]
     },
     "execution_count": 21,
     "metadata": {},
     "output_type": "execute_result"
    }
   ],
   "source": [
    "# Standard deviation\n",
    "df['Rating'].std()"
   ]
  },
  {
   "cell_type": "markdown",
   "metadata": {},
   "source": [
    "While informative, this doesn't tell us much about the spread of the data based on our two platforms, Apple and Google. For example, it's the case that the mode for both groups are similar, but is it also the case that the standard deviation of ratings are similar between Apple and Google? Let's take a closer look at some of the metrics by group."
   ]
  },
  {
   "cell_type": "code",
   "execution_count": 22,
   "metadata": {},
   "outputs": [
    {
     "data": {
      "text/plain": [
       "platform\n",
       "apple     4.327\n",
       "google    4.383\n",
       "Name: Rating, dtype: float64"
      ]
     },
     "execution_count": 22,
     "metadata": {},
     "output_type": "execute_result"
    }
   ],
   "source": [
    "df.groupby(by='platform')['Rating'].max()-df['Rating'].min()"
   ]
  },
  {
   "cell_type": "code",
   "execution_count": 23,
   "metadata": {},
   "outputs": [
    {
     "data": {
      "text/plain": [
       "platform\n",
       "apple     0.278461\n",
       "google    0.395566\n",
       "Name: Rating, dtype: float64"
      ]
     },
     "execution_count": 23,
     "metadata": {},
     "output_type": "execute_result"
    }
   ],
   "source": [
    "# Variance by group\n",
    "df.groupby(by='platform')['Rating'].var()"
   ]
  },
  {
   "cell_type": "code",
   "execution_count": 24,
   "metadata": {},
   "outputs": [
    {
     "data": {
      "text/plain": [
       "platform\n",
       "apple     0.527694\n",
       "google    0.628941\n",
       "Name: Rating, dtype: float64"
      ]
     },
     "execution_count": 24,
     "metadata": {},
     "output_type": "execute_result"
    }
   ],
   "source": [
    "# Standard deviation by group\n",
    "df.groupby(by='platform')['Rating'].std()"
   ]
  },
  {
   "cell_type": "markdown",
   "metadata": {},
   "source": [
    "When grouped by app platform, the measures of spread aluminate the differences between Apple and Google user ratings. For example, when the standard deviation is small, it means the data points are grouped closer to the mean, while a larger standard deviation means they're more dispersed. In this case, there is more variability among the ratings provided by Google users than there are for Apple users. \n",
    "\n",
    "Recall that our group means are somewhat similar (3.04 for Apple and 2.92 for Google), so analysing the spread gives us a better idea of how close to the mean each group's user ratings are. It also suggests there are fewer higher and lower rating values among Apple users when compared to Google users. "
   ]
  },
  {
   "cell_type": "markdown",
   "metadata": {},
   "source": [
    "### Visualising distributions\n",
    "We can also visualise our variables by using the `Seaborn` package. Visualising our data helps us understand the distributions of the data points, which in turn helps us make decisions about how we test our hypotheses, etc.\n",
    "\n",
    "There are two main ways to visualise a distribution:\n",
    "1. Histograms;\n",
    "2. Boxplots (or box-and-whisker plots)\n",
    "\n",
    "We'll begin with histograms, and we'll build them using the handy `distplot()` function from Seaborn.\n",
    "\n",
    "Like we've done above, we'll focus on the 'Ratings' variable since it's our variable of interest for our brief."
   ]
  },
  {
   "cell_type": "code",
   "execution_count": 25,
   "metadata": {},
   "outputs": [
    {
     "name": "stderr",
     "output_type": "stream",
     "text": [
      "T:\\Anaconda3\\lib\\site-packages\\scipy\\stats\\stats.py:1713: FutureWarning: Using a non-tuple sequence for multidimensional indexing is deprecated; use `arr[tuple(seq)]` instead of `arr[seq]`. In the future this will be interpreted as an array index, `arr[np.array(seq)]`, which will result either in an error or a different result.\n",
      "  return np.add.reduce(sorted[indexer] * weights, axis=axis) / sumval\n"
     ]
    },
    {
     "data": {
      "text/plain": [
       "<matplotlib.axes._subplots.AxesSubplot at 0x2179d9defd0>"
      ]
     },
     "execution_count": 25,
     "metadata": {},
     "output_type": "execute_result"
    },
    {
     "data": {
      "image/png": "[encoded data removed]",
      "text/plain": [
       "<Figure size 432x288 with 1 Axes>"
      ]
     },
     "metadata": {
      "needs_background": "light"
     },
     "output_type": "display_data"
    }
   ],
   "source": [
    "sns.distplot(df['Rating'], hist=True, rug=False)"
   ]
  },
  {
   "cell_type": "code",
   "execution_count": 26,
   "metadata": {},
   "outputs": [
    {
     "data": {
      "text/plain": [
       "Text(0, 0.5, 'Density')"
      ]
     },
     "execution_count": 26,
     "metadata": {},
     "output_type": "execute_result"
    },
    {
     "data": {
      "image/png": "[encoded data removed]",
      "text/plain": [
       "<Figure size 432x288 with 1 Axes>"
      ]
     },
     "metadata": {
      "needs_background": "light"
     },
     "output_type": "display_data"
    }
   ],
   "source": [
    "apple = df[df['platform'] == 'apple']\n",
    "google = df[df['platform'] == 'google']\n",
    "\n",
    "sns.distplot(apple['Rating'], hist = True, kde = True, label='Apple')\n",
    "sns.distplot(google['Rating'], hist = True, kde = True, label='Google')\n",
    "\n",
    "# Play with kde = , and hist = ! Change True to False and vice versa.\n",
    "\n",
    "# Plot formatting\n",
    "plt.legend(prop={'size': 12})\n",
    "plt.title('Distribution of User Ratings: Apple & Google')\n",
    "plt.xlabel('Rating')\n",
    "plt.ylabel('Density') "
   ]
  },
  {
   "cell_type": "markdown",
   "metadata": {},
   "source": [
    "We can visualise the spread of our data using a boxplot. In seaborn, we use the `boxplot()` function to do this. "
   ]
  },
  {
   "cell_type": "code",
   "execution_count": 27,
   "metadata": {},
   "outputs": [
    {
     "data": {
      "text/plain": [
       "<matplotlib.axes._subplots.AxesSubplot at 0x2179e0c0128>"
      ]
     },
     "execution_count": 27,
     "metadata": {},
     "output_type": "execute_result"
    },
    {
     "data": {
      "image/png": "[encoded data removed]",
      "text/plain": [
       "<Figure size 432x288 with 1 Axes>"
      ]
     },
     "metadata": {
      "needs_background": "light"
     },
     "output_type": "display_data"
    }
   ],
   "source": [
    "sns.boxplot(x=df['Rating'], y=df['platform'])"
   ]
  },
  {
   "cell_type": "markdown",
   "metadata": {},
   "source": [
    "The boxplot gives us a few things:\n",
    "1. It gives us the **_median_**. This is represented by the line in the middle of the box.<br><br>\n",
    "2. It gives us the **_25th percentile_**. This represented by the left edge of the box.<br><br>\n",
    "3. It gives us the **_75th percentile_**. This represented by the right edge of the box.<br><br>\n",
    "4. It gives the **_Interquartile range (IQR)_**. This is the difference between the 75th and 25th percentiles -- i.e. the width of the box.<br><br>\n",
    "5. It gives us the **_whiskers_**, which are calculated by adding/subtracting the IQR from either edge of the box, usually scaled to a factor of 1.5. I.e. \n",
    "    - Right whisker = 75th percentile + 1.5*IQR\n",
    "    - Left whisker = 25th percentile - 1.5*IQR\n",
    "<br><br>\n",
    "6. It gives us the **_outliers_**. These are defined as any data points beyond the whiskers."
   ]
  },
  {
   "cell_type": "markdown",
   "metadata": {},
   "source": [
    "## 3. Inferential Statistics\n",
    "Finally, we'll use inferential statistics to make generlizations about our data samples to the larger population. The first step in this process is to define the hypotheses that we want to test. Let's formulate a null and an alternative hypothesis for the question from our brief.\n",
    "\n",
    "**H<sub>null</sub>**: The average user ratings of Apple and Google users are equal (e.g., there is no difference between the two). If there is a difference, then it is due to random chance.\n",
    "\n",
    "**H<sub>alternative</sub>**: The average user ratings of Apple users is different than that of Google users. We say this difference so large, it cannot simply be due to chance; it's _statistically significant_.\n",
    "\n",
    "Next, we'll determine the significance level. While this differs among disciplines, the conventional level is 0.05 -- i.e. a confidence level of 0.95.\n",
    "\n",
    "**Significance level**: 0.05<br>\n",
    "**Confidence level**: 0.95\n",
    "\n",
    "\n",
    "Now that the hypotheses and significance levels are defined, we are going to try to reject or accept the null hypothesis by using statistical tests. We'll start with the [Student's t-test](https://en.wikipedia.org/wiki/Student%27s_t-test#Independent_two-sample_t-test), which is derived from the t-distribution, to evaluate differences between two independent groups. For our brief, we'll conduct a Student's t-test using the `stats.ttest_ind` function to compare the differences between Apple and Google user ratings."
   ]
  },
  {
   "cell_type": "code",
   "execution_count": 28,
   "metadata": {},
   "outputs": [],
   "source": [
    "# Create subsets of the column 'Rating' by the different platforms so we can do a t-test. \n",
    "apple = df[df['platform']== 'apple']['Rating']\n",
    "google = df[df['platform']== 'google']['Rating']"
   ]
  },
  {
   "cell_type": "code",
   "execution_count": 29,
   "metadata": {},
   "outputs": [
    {
     "data": {
      "text/plain": [
       "Ttest_indResult(statistic=11.738217834702969, pvalue=1.1026430135651842e-31)"
      ]
     },
     "execution_count": 29,
     "metadata": {},
     "output_type": "execute_result"
    }
   ],
   "source": [
    "# Run a Student's t-test\n",
    "t_test =stats.ttest_ind(apple, google)\n",
    "\n",
    "# Check summary results\n",
    "t_test"
   ]
  },
  {
   "cell_type": "code",
   "execution_count": 30,
   "metadata": {},
   "outputs": [
    {
     "name": "stdout",
     "output_type": "stream",
     "text": [
      "The p-value is 1.1026430135651842e-31 so the observed differences are very unlikely to be due to chance. We reject the null hypothesis.\n"
     ]
    }
   ],
   "source": [
    "# Let's use an if-else statement to spit out a coherent result for us\n",
    "if t_test.pvalue < 0.05:\n",
    "    print('The p-value is', t_test.pvalue,\n",
    "          'so the observed differences are very unlikely to be due to chance. We reject the null hypothesis.')\n",
    "else:\n",
    "    print('The p-value is', t_test.pvalue,\n",
    "          'so the observed differences are likely to be due to chance. We accept the null hypothesis.')"
   ]
  },
  {
   "cell_type": "markdown",
   "metadata": {},
   "source": [
    "The results from our Student's t-test - specifically, the very small p-value - suggest that we can reject the null hypothesis that there are not significant differences between Apple and Google users and their app ratings. However, there are a number of assumptions that are built into the Student's t-test (you can read more [here](https://en.wikipedia.org/wiki/Student%27s_t-test#Independent_two-sample_t-test)). This test assumes that the variances between groups are equal. As we discovered while exploring our descriptive statistics, this isn't the case. To get around this assumption, we can use a Welch’s t-test from the `stats.ttest` function we used above, which doesn't make this assumption if we set the parameter `equal_var` to `False`."
   ]
  },
  {
   "cell_type": "code",
   "execution_count": 31,
   "metadata": {},
   "outputs": [
    {
     "name": "stdout",
     "output_type": "stream",
     "text": [
      "The p-value is 8.34134325960383e-34 so the observed differences are very unlikely to be due to chance. We reject the null hypothesis.\n"
     ]
    }
   ],
   "source": [
    "# Run a Welch's t-test (unequal variances)\n",
    "welch = stats.ttest_ind( apple, google, equal_var= False)\n",
    "if welch.pvalue < 0.05:\n",
    "    print('The p-value is', welch.pvalue,\n",
    "          'so the observed differences are very unlikely to be due to chance. We reject the null hypothesis.')\n",
    "else:\n",
    "    print('The p-value is', welch.pvalue,\n",
    "          'so the observed differences are likely to be due to chance. We accept the null hypothesis.')"
   ]
  },
  {
   "cell_type": "markdown",
   "metadata": {},
   "source": [
    "Good news! After running the Welch's t-test, our suspicions are still confirmed: there are differences between Apple and Google user ratings. Unfortunately, there are even more assumptions that both the Student's and Welch's t-test make about the data. \n",
    "\n",
    "Importantly, both tests assume that the distribution of the data is normal. We know from our histograms that the data _looks normal_ -- i.e. it has one peak, and it seems symmetrical about that peak. But if we wanted to be very sure, we can run a separate hypothesis test that evaluates just that: how different a given dataset is from the normal distribution. We can use the `normaltest()` function from the `stats` sub-library to do this.\n",
    "\n",
    "\n",
    "The null hypothesis of the normality test is that the data is normally distributed. In other words, if we get a p-value < 0.05 then we reject the Null and we say the data is non-normal (at this significance level). On the other hand, if we get a p-value >= the significance level, then we can assume the data is normally distributed."
   ]
  },
  {
   "cell_type": "code",
   "execution_count": 32,
   "metadata": {},
   "outputs": [
    {
     "data": {
      "text/plain": [
       "NormaltestResult(statistic=3.9371850749300386, pvalue=0.1396532747088308)"
      ]
     },
     "execution_count": 32,
     "metadata": {},
     "output_type": "execute_result"
    }
   ],
   "source": [
    "# Save result in a variable called 'apple_normal'\n",
    "apple_normal = stats.normaltest(apple)\n",
    "apple_normal"
   ]
  },
  {
   "cell_type": "code",
   "execution_count": 33,
   "metadata": {},
   "outputs": [
    {
     "data": {
      "text/plain": [
       "NormaltestResult(statistic=2.066369293517419, pvalue=0.355871827966889)"
      ]
     },
     "execution_count": 33,
     "metadata": {},
     "output_type": "execute_result"
    }
   ],
   "source": [
    "# Save result in a variable called 'google_normal'\n",
    "google_normal = stats.normaltest(google)\n",
    "google_normal"
   ]
  },
  {
   "cell_type": "markdown",
   "metadata": {},
   "source": [
    "The p-values from our normality tests are both greater than 0.05, which means we don't have strong enough evidence to reject the Null. We conclude that our Ratings data is in fact normally distributed. Since the t-test assumption of normality stands, we accept the test(s) as valid -- more specifically, we accept Welch's t-test result because it assumes the variances are unequal, which is what we have."
   ]
  },
  {
   "cell_type": "markdown",
   "metadata": {},
   "source": [
    "## Conclusions\n",
    "We've run through a number of statistical tools to better understand our data and answer the question posed at the beginning of this workshop: Did Apple Store apps receive different average user ratings than Google Play apps by users? The calculation of our group means indicates this is the case. \n",
    "\n",
    "Our analysis of the descriptive statistics suggest that Google's ratings were, on average, a bit better than Apple's. After running two statistical tests -- Student's t-test and Welch's t-test -- we rejected the null hypothesis, which stated that the average user ratings between the two groups are different from one another. \n",
    "\n",
    "We conclude with 95% confidence that the observed difference of 0.197 stars is indeed statistically significant. "
   ]
  },
  {
   "cell_type": "markdown",
   "metadata": {},
   "source": [
    "## Further Extensions - ANOVA"
   ]
  },
  {
   "cell_type": "markdown",
   "metadata": {},
   "source": [
    "Perhaps we have more than two groups whose differences in mean user ratings we want to examine. For example, the Amazon Appstore is an alternative to the Google and Apple platforms and provides apps for users of Androids. To investigate whether there are significant differences between the mean user ratings of all three groups, we can use a process called [_Analysis of Variance_](https://statistics.laerd.com/statistical-guides/one-way-anova-statistical-guide.php) (or ANOVA). \n",
    "\n",
    "If we wanted to construct null and alternative hypotheses for multiple groups, they would look something like this:\n",
    "\n",
    "H<sub>null</sub>:The mean user rating is the same among all three platforms.\n",
    "\n",
    "H<sub>alternative</sub>: The mean user rating is _not_ the same among all three platforms. \n",
    "\n",
    "ANOVA is a method that allows us to test these hypotheses. The basic idea is to break up the variation of our data into two groups - _between_  and _within_ - to see if there are group differences. If the between group variation is larger than the within group variation, the means of our groups will not be equal. If the between and within group variations are approximately the same size, then we should expect there to be no significant differences between our groups means. ANOVA assumes normality, independent random samples, and homogeneity of variances.\n",
    "\n",
    "To evaluate whether there are statistically significant differences among the three groups, we can compute an F statistic derived from the F distribution using the ratio of the between and within group variance (for more on the F statistic, see [this](https://statisticsbyjim.com/anova/f-tests-anova/)). As the F statistics gets larger, so too does the chance of rejecting the null hypothesis. Similar to t-tests, the p-value associated with the F statistic helps us determine if we can reject the null hypothesis. For example, if our significance level is 95% and our p-value for our F statistic is <= .05 when we use an ANOVA, we can say that the mean user ratings for the Google, Apple, and Amazon app stores are statistically not all equal for these three groups. \n",
    "\n",
    "There are various ways to [conduct an ANOVA in Python](https://www.marsja.se/four-ways-to-conduct-one-way-anovas-using-python/) - give it a try on your own data problem!\n"
   ]
  }
 ],
 "metadata": {
  "kernelspec": {
   "display_name": "Python 3",
   "language": "python",
   "name": "python3"
  },
  "language_info": {
   "codemirror_mode": {
    "name": "ipython",
    "version": 3
   },
   "file_extension": ".py",
   "mimetype": "text/x-python",
   "name": "python",
   "nbconvert_exporter": "python",
   "pygments_lexer": "ipython3",
   "version": "3.7.2"
  }
 },
 "nbformat": 4,
 "nbformat_minor": 2
}
